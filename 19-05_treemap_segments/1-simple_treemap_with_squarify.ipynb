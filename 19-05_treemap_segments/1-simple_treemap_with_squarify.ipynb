{
 "cells": [
  {
   "cell_type": "markdown",
   "metadata": {
    "ExecuteTime": {
     "end_time": "2019-05-24T19:41:37.727213Z",
     "start_time": "2019-05-24T19:41:37.711592Z"
    }
   },
   "source": [
    "# Treemap with Squarify\n",
    "\n",
    "see [here](https://github.com/laserson/squarify) for reference"
   ]
  },
  {
   "cell_type": "markdown",
   "metadata": {
    "toc": true
   },
   "source": [
    "<h1>Table of Contents<span class=\"tocSkip\"></span></h1>\n",
    "<div class=\"toc\"><ul class=\"toc-item\"><li><span><a href=\"#Generic-Example-from-Documentation\" data-toc-modified-id=\"Generic-Example-from-Documentation-1\"><span class=\"toc-item-num\">1&nbsp;&nbsp;</span>Generic Example from Documentation</a></span></li><li><span><a href=\"#Specific-Example:-Number-of-Transactions-per-Segment\" data-toc-modified-id=\"Specific-Example:-Number-of-Transactions-per-Segment-2\"><span class=\"toc-item-num\">2&nbsp;&nbsp;</span>Specific Example: Number of Transactions per Segment</a></span></li></ul></div>"
   ]
  },
  {
   "cell_type": "code",
   "execution_count": 23,
   "metadata": {
    "ExecuteTime": {
     "end_time": "2019-05-24T20:01:42.756404Z",
     "start_time": "2019-05-24T20:01:42.740934Z"
    }
   },
   "outputs": [],
   "source": [
    "import numpy as np\n",
    "import pandas as pd\n",
    "import matplotlib.pyplot as plt\n",
    "import matplotlib\n",
    "import squarify\n",
    "\n",
    "%matplotlib inline"
   ]
  },
  {
   "cell_type": "markdown",
   "metadata": {},
   "source": [
    "## Generic Example from Documentation\n",
    "Just for explanatory reasons. All the normalization is handled internally (see example below)."
   ]
  },
  {
   "cell_type": "code",
   "execution_count": 18,
   "metadata": {
    "ExecuteTime": {
     "end_time": "2019-05-24T19:56:37.726670Z",
     "start_time": "2019-05-24T19:56:37.711049Z"
    }
   },
   "outputs": [],
   "source": [
    "# These values define the coordinate system for the returned rectangles\n",
    "# The values will range from x to x + width and y to y + height\n",
    "x = 0.\n",
    "y = 0.\n",
    "width = 700.\n",
    "height = 433.\n",
    "\n",
    "values = [500, 433, 78, 25, 25, 7]\n",
    "\n",
    "# Values must be sorted descending (and positive, obviously)\n",
    "values.sort(reverse=True)\n",
    "\n",
    "# The sum of the values must equal the total area to be laid out\n",
    "# i.e., sum(values) == width * height\n",
    "values = squarify.normalize_sizes(values, width, height)\n",
    "\n",
    "# Returns a list of rectangles\n",
    "rects = squarify.squarify(values, x, y, width, height)\n",
    "\n",
    "# Padded rectangles will probably visualize better for certain cases\n",
    "padded_rects = squarify.padded_squarify(values, x, y, width, height)"
   ]
  },
  {
   "cell_type": "markdown",
   "metadata": {
    "ExecuteTime": {
     "end_time": "2019-05-24T20:00:05.447535Z",
     "start_time": "2019-05-24T20:00:05.432065Z"
    }
   },
   "source": [
    "## Specific Example: Number of Transactions per Segment"
   ]
  },
  {
   "cell_type": "code",
   "execution_count": 11,
   "metadata": {
    "ExecuteTime": {
     "end_time": "2019-05-24T19:49:13.069385Z",
     "start_time": "2019-05-24T19:49:13.022667Z"
    }
   },
   "outputs": [
    {
     "data": {
      "text/html": [
       "<div>\n",
       "<style scoped>\n",
       "    .dataframe tbody tr th:only-of-type {\n",
       "        vertical-align: middle;\n",
       "    }\n",
       "\n",
       "    .dataframe tbody tr th {\n",
       "        vertical-align: top;\n",
       "    }\n",
       "\n",
       "    .dataframe thead th {\n",
       "        text-align: right;\n",
       "    }\n",
       "</style>\n",
       "<table border=\"1\" class=\"dataframe\">\n",
       "  <thead>\n",
       "    <tr style=\"text-align: right;\">\n",
       "      <th></th>\n",
       "      <th>Unnamed: 0</th>\n",
       "      <th>Frequency</th>\n",
       "      <th>Flags</th>\n",
       "    </tr>\n",
       "  </thead>\n",
       "  <tbody>\n",
       "    <tr>\n",
       "      <th>0</th>\n",
       "      <td>0</td>\n",
       "      <td>129</td>\n",
       "      <td>top</td>\n",
       "    </tr>\n",
       "    <tr>\n",
       "      <th>1</th>\n",
       "      <td>1</td>\n",
       "      <td>75</td>\n",
       "      <td>top</td>\n",
       "    </tr>\n",
       "    <tr>\n",
       "      <th>2</th>\n",
       "      <td>2</td>\n",
       "      <td>398</td>\n",
       "      <td>top</td>\n",
       "    </tr>\n",
       "    <tr>\n",
       "      <th>3</th>\n",
       "      <td>3</td>\n",
       "      <td>57</td>\n",
       "      <td>top</td>\n",
       "    </tr>\n",
       "    <tr>\n",
       "      <th>4</th>\n",
       "      <td>4</td>\n",
       "      <td>261</td>\n",
       "      <td>top</td>\n",
       "    </tr>\n",
       "  </tbody>\n",
       "</table>\n",
       "</div>"
      ],
      "text/plain": [
       "   Unnamed: 0  Frequency Flags\n",
       "0           0        129   top\n",
       "1           1         75   top\n",
       "2           2        398   top\n",
       "3           3         57   top\n",
       "4           4        261   top"
      ]
     },
     "execution_count": 11,
     "metadata": {},
     "output_type": "execute_result"
    }
   ],
   "source": [
    "df = pd.read_csv('data/temp_df.csv')\n",
    "df.head()"
   ]
  },
  {
   "cell_type": "code",
   "execution_count": 16,
   "metadata": {
    "ExecuteTime": {
     "end_time": "2019-05-24T19:50:51.313778Z",
     "start_time": "2019-05-24T19:50:51.282650Z"
    }
   },
   "outputs": [
    {
     "data": {
      "text/html": [
       "<div>\n",
       "<style scoped>\n",
       "    .dataframe tbody tr th:only-of-type {\n",
       "        vertical-align: middle;\n",
       "    }\n",
       "\n",
       "    .dataframe tbody tr th {\n",
       "        vertical-align: top;\n",
       "    }\n",
       "\n",
       "    .dataframe thead th {\n",
       "        text-align: right;\n",
       "    }\n",
       "</style>\n",
       "<table border=\"1\" class=\"dataframe\">\n",
       "  <thead>\n",
       "    <tr style=\"text-align: right;\">\n",
       "      <th></th>\n",
       "      <th>Frequency</th>\n",
       "    </tr>\n",
       "    <tr>\n",
       "      <th>Flags</th>\n",
       "      <th></th>\n",
       "    </tr>\n",
       "  </thead>\n",
       "  <tbody>\n",
       "    <tr>\n",
       "      <th>mid</th>\n",
       "      <td>134131</td>\n",
       "    </tr>\n",
       "    <tr>\n",
       "      <th>bottom</th>\n",
       "      <td>130679</td>\n",
       "    </tr>\n",
       "    <tr>\n",
       "      <th>low</th>\n",
       "      <td>81093</td>\n",
       "    </tr>\n",
       "    <tr>\n",
       "      <th>high</th>\n",
       "      <td>61842</td>\n",
       "    </tr>\n",
       "    <tr>\n",
       "      <th>top</th>\n",
       "      <td>12758</td>\n",
       "    </tr>\n",
       "  </tbody>\n",
       "</table>\n",
       "</div>"
      ],
      "text/plain": [
       "        Frequency\n",
       "Flags            \n",
       "mid        134131\n",
       "bottom     130679\n",
       "low         81093\n",
       "high        61842\n",
       "top         12758"
      ]
     },
     "execution_count": 16,
     "metadata": {},
     "output_type": "execute_result"
    }
   ],
   "source": [
    "# Transform df to sum the number of transactions by 'Flag'-segment\n",
    "df_transformed = pd.DataFrame(df.groupby('Flags')['Frequency'].sum())\n",
    "df_transformed.sort_values(['Frequency'], ascending=False, inplace=True)\n",
    "df_transformed"
   ]
  },
  {
   "cell_type": "code",
   "execution_count": 39,
   "metadata": {
    "ExecuteTime": {
     "end_time": "2019-05-24T20:22:47.803614Z",
     "start_time": "2019-05-24T20:22:47.553820Z"
    }
   },
   "outputs": [
    {
     "data": {
      "image/png": "[encoded data removed]",
      "text/plain": [
       "<Figure size 1224x720 with 1 Axes>"
      ]
     },
     "metadata": {
      "needs_background": "light"
     },
     "output_type": "display_data"
    }
   ],
   "source": [
    "# Define colors\n",
    "n_vals = [i for i in range(len(df_transformed))][::-1]\n",
    "cmap = matplotlib.cm.Blues\n",
    "mini=min(n_vals)-5\n",
    "maxi=max(n_vals)+10\n",
    "norm = matplotlib.colors.Normalize(vmin=mini, vmax=maxi)\n",
    "colors = [cmap(norm(value)) for value in n_vals]\n",
    "\n",
    "# Create Figure\n",
    "plt.figure(figsize=(17,10))\n",
    "squarify.plot(sizes=df_transformed['Frequency'], \n",
    "              label=[f'{x}\\n{y:,.0f} transactions' for x,y in zip(df_transformed.index,\n",
    "                                                           df_transformed['Frequency'])],\n",
    "              alpha=.8,\n",
    "              color=colors,\n",
    "              text_kwargs={'fontsize':12})\n",
    "\n",
    "# Styling\n",
    "plt.axis('off')\n",
    "plt.title('Total Transactions per Segment', fontsize=22);\n",
    "\n",
    "# plt.savefig('./plots/treemap.png', bbox_inches='tight')"
   ]
  },
  {
   "cell_type": "markdown",
   "metadata": {},
   "source": [
    "---"
   ]
  }
 ],
 "metadata": {
  "hide_input": false,
  "kernelspec": {
   "display_name": "Python 3",
   "language": "python",
   "name": "python3"
  },
  "language_info": {
   "codemirror_mode": {
    "name": "ipython",
    "version": 3
   },
   "file_extension": ".py",
   "mimetype": "text/x-python",
   "name": "python",
   "nbconvert_exporter": "python",
   "pygments_lexer": "ipython3",
   "version": "3.7.3"
  },
  "toc": {
   "base_numbering": 1,
   "nav_menu": {},
   "number_sections": true,
   "sideBar": false,
   "skip_h1_title": true,
   "title_cell": "Table of Contents",
   "title_sidebar": "Contents",
   "toc_cell": true,
   "toc_position": {},
   "toc_section_display": true,
   "toc_window_display": false
  }
 },
 "nbformat": 4,
 "nbformat_minor": 2
}
