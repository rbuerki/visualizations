{
 "cells": [
  {
   "cell_type": "code",
   "execution_count": null,
   "metadata": {},
   "outputs": [],
   "source": []
  },
  {
   "cell_type": "markdown",
   "metadata": {
    "toc": true
   },
   "source": [
    "<h1>Table of Contents<span class=\"tocSkip\"></span></h1>\n",
    "<div class=\"toc\"><ul class=\"toc-item\"><li><span><a href=\"#Import-libraries\" data-toc-modified-id=\"Import-libraries-1\"><span class=\"toc-item-num\">1&nbsp;&nbsp;</span>Import libraries</a></span></li><li><span><a href=\"#Load-and-Clean-Data\" data-toc-modified-id=\"Load-and-Clean-Data-2\"><span class=\"toc-item-num\">2&nbsp;&nbsp;</span>Load and Clean Data</a></span><ul class=\"toc-item\"><li><span><a href=\"#Request-data-from-API\" data-toc-modified-id=\"Request-data-from-API-2.1\"><span class=\"toc-item-num\">2.1&nbsp;&nbsp;</span>Request data from API</a></span></li><li><span><a href=\"#Transform-to-tabular-format-(Pandas-DataFrame)-and-explore\" data-toc-modified-id=\"Transform-to-tabular-format-(Pandas-DataFrame)-and-explore-2.2\"><span class=\"toc-item-num\">2.2&nbsp;&nbsp;</span>Transform to tabular format (Pandas DataFrame) and explore</a></span></li><li><span><a href=\"#Clean-data,-Pt.1\" data-toc-modified-id=\"Clean-data,-Pt.1-2.3\"><span class=\"toc-item-num\">2.3&nbsp;&nbsp;</span>Clean data, Pt.1</a></span></li><li><span><a href=\"#Clean-data,-Pt.-2---Advanced\" data-toc-modified-id=\"Clean-data,-Pt.-2---Advanced-2.4\"><span class=\"toc-item-num\">2.4&nbsp;&nbsp;</span>Clean data, Pt. 2 - <em>Advanced</em></a></span></li></ul></li><li><span><a href=\"#Manipulate-data-(group-by,-slicing)\" data-toc-modified-id=\"Manipulate-data-(group-by,-slicing)-3\"><span class=\"toc-item-num\">3&nbsp;&nbsp;</span>Manipulate data (group by, slicing)</a></span><ul class=\"toc-item\"><li><span><a href=\"#Group-by\" data-toc-modified-id=\"Group-by-3.1\"><span class=\"toc-item-num\">3.1&nbsp;&nbsp;</span>Group by</a></span></li><li><span><a href=\"#Slice-(on-col-values,-without-using-the-index)\" data-toc-modified-id=\"Slice-(on-col-values,-without-using-the-index)-3.2\"><span class=\"toc-item-num\">3.2&nbsp;&nbsp;</span>Slice (on col values, without using the index)</a></span></li></ul></li><li><span><a href=\"#Visualize-data\" data-toc-modified-id=\"Visualize-data-4\"><span class=\"toc-item-num\">4&nbsp;&nbsp;</span>Visualize data</a></span></li></ul></div>"
   ]
  },
  {
   "cell_type": "markdown",
   "metadata": {
    "ExecuteTime": {
     "end_time": "2020-03-30T07:43:42.619263Z",
     "start_time": "2020-03-30T07:43:42.610216Z"
    }
   },
   "source": [
    "## Import libraries"
   ]
  },
  {
   "cell_type": "code",
   "execution_count": 27,
   "metadata": {
    "ExecuteTime": {
     "end_time": "2020-03-30T08:24:06.245537Z",
     "start_time": "2020-03-30T08:24:04.016492Z"
    }
   },
   "outputs": [],
   "source": [
    "import requests\n",
    "import pandas as pd\n",
    "from pprint import pprint\n",
    "\n",
    "# Visualization - static plots\n",
    "%matplotlib inline \n",
    "import matplotlib.pyplot as plt\n",
    "import seaborn as sns\n",
    "\n",
    "# # Standard plotly imports\n",
    "# import plotly.plotly as py\n",
    "# import plotly.graph_objs as go\n",
    "# from plotly.offline import iplot, init_notebook_mode\n",
    "# # Using plotly + cufflinks in offline mode\n",
    "# import cufflinks\n",
    "# cufflinks.go_offline(connected=True)\n",
    "# init_notebook_mode(connected=True)"
   ]
  },
  {
   "attachments": {},
   "cell_type": "markdown",
   "metadata": {},
   "source": [
    "## Load and Clean Data\n",
    "\n",
    "### Request data from API\n",
    "- Documentation on the [Covid19-RestAPI](https://github.com/apfeuti/covid19-rest) (A. Pfeuti)\n",
    "- Documentation on the [data structure](https://github.com/openZH/covid_19) (OpenZH)\n",
    "- [Documentation](https://requests.readthedocs.io/en/master/) and [tutorial / guide](https://realpython.com/python-requests/) on the requests library"
   ]
  },
  {
   "cell_type": "code",
   "execution_count": 10,
   "metadata": {
    "ExecuteTime": {
     "end_time": "2020-03-30T07:51:27.986701Z",
     "start_time": "2020-03-30T07:51:27.184509Z"
    }
   },
   "outputs": [
    {
     "name": "stdout",
     "output_type": "stream",
     "text": [
      "<class 'requests.models.Response'>\n",
      "dict_keys(['totals', 'records'])\n"
     ]
    }
   ],
   "source": [
    "# Scrape all data for country Switzerland using the requests library\n",
    "\n",
    "url = \"https://covid19-rest.herokuapp.com/api/openzh/v1/country/CH\"\n",
    "r = requests.get(url)  # Returns a 'response' object with content of type JSON\n",
    "\n",
    "# Check main elements of returned JSON file\n",
    "print(r.json().keys())"
   ]
  },
  {
   "cell_type": "markdown",
   "metadata": {},
   "source": [
    "The `totals` element contains the cumulated value for the whole country & daterange"
   ]
  },
  {
   "cell_type": "code",
   "execution_count": 12,
   "metadata": {
    "ExecuteTime": {
     "end_time": "2020-03-30T07:52:29.334191Z",
     "start_time": "2020-03-30T07:52:29.304095Z"
    }
   },
   "outputs": [
    {
     "name": "stdout",
     "output_type": "stream",
     "text": [
      "{'ncumul_ICU': 256,\n",
      " 'ncumul_conf': 14944,\n",
      " 'ncumul_deceased': 298,\n",
      " 'ncumul_hosp': 1763,\n",
      " 'ncumul_released': 673,\n",
      " 'ncumul_tested': 0,\n",
      " 'ncumul_vent': 70}\n"
     ]
    }
   ],
   "source": [
    "# Output totals\n",
    "pprint(r.json()[\"totals\"])"
   ]
  },
  {
   "cell_type": "markdown",
   "metadata": {},
   "source": [
    "The `records` element contains the individual records per canton and day"
   ]
  },
  {
   "cell_type": "code",
   "execution_count": 135,
   "metadata": {
    "ExecuteTime": {
     "end_time": "2020-03-30T10:58:32.338256Z",
     "start_time": "2020-03-30T10:58:32.300577Z"
    }
   },
   "outputs": [
    {
     "name": "stdout",
     "output_type": "stream",
     "text": [
      "Total # of records: 464\n",
      "\n",
      "{'abbreviation_canton_and_fl': 'AG',\n",
      " 'date': '2020-02-28',\n",
      " 'ncumul_ICU': '',\n",
      " 'ncumul_conf': 1,\n",
      " 'ncumul_deceased': '',\n",
      " 'ncumul_hosp': '',\n",
      " 'ncumul_released': '',\n",
      " 'ncumul_tested': '',\n",
      " 'ncumul_vent': '',\n",
      " 'source': 'https://www.ag.ch/media/kanton_aargau/themen_1/coronavirus_1/20200228_KFS_20200106_Coronavirus_Lagebulletin_AG_Unterschrieben.pdf',\n",
      " 'time': '15:00'}\n",
      "\n",
      "\n",
      "{'TotalCured': '',\n",
      " 'TotalPosTests1': '',\n",
      " 'abbreviation_canton_and_fl': 'ZH',\n",
      " 'date': '2020-03-29',\n",
      " 'ncumul_ICU': '',\n",
      " 'ncumul_conf': 1758,\n",
      " 'ncumul_deceased': 15,\n",
      " 'ncumul_hosp': 194,\n",
      " 'ncumul_released': '',\n",
      " 'ncumul_tested': '',\n",
      " 'ncumul_vent': 46,\n",
      " 'source': 'https://gd.zh.ch/internet/gesundheitsdirektion/de/themen/coronavirus.html#title-content-internet-gesundheitsdirektion-de-themen-coronavirus-jcr-content-contentPar-textimage_7',\n",
      " 'time': '14:00'}\n",
      "\n",
      "\n",
      "(Approximate) Daterange from 2020-02-28 to 2020-03-29\n"
     ]
    }
   ],
   "source": [
    "# Print number of records, first and last record, daterange\n",
    "print(f\"Total # of records: {len(r.json()['records'])}\\n\")\n",
    "pprint(r.json()[\"records\"][0])\n",
    "print(\"\\n\")\n",
    "pprint(r.json()[\"records\"][-1])\n",
    "print(\"\\n\")\n",
    "print(f\"(Approximate) Daterange from {r.json()['records'][0]['date']} to {r.json()['records'][-1]['date']}\")"
   ]
  },
  {
   "cell_type": "markdown",
   "metadata": {
    "ExecuteTime": {
     "end_time": "2020-03-30T08:12:43.304061Z",
     "start_time": "2020-03-30T08:12:43.284256Z"
    }
   },
   "source": [
    "### Transform to tabular format (Pandas DataFrame) and explore\n",
    "\n",
    " - Pandas [documentation](https://pandas.pydata.org/pandas-docs/stable/) including User Guide / Getting Started"
   ]
  },
  {
   "cell_type": "code",
   "execution_count": 22,
   "metadata": {
    "ExecuteTime": {
     "end_time": "2020-03-30T08:13:29.453604Z",
     "start_time": "2020-03-30T08:13:29.424911Z"
    }
   },
   "outputs": [],
   "source": [
    "# Note that you do not need the pd.read_json() method because this is not a file or a string containing json \n",
    "covid_raw = pd.DataFrame(r.json()[\"records\"])"
   ]
  },
  {
   "cell_type": "code",
   "execution_count": 24,
   "metadata": {
    "ExecuteTime": {
     "end_time": "2020-03-30T08:14:36.964036Z",
     "start_time": "2020-03-30T08:14:36.885267Z"
    }
   },
   "outputs": [
    {
     "data": {
      "text/html": [
       "<div>\n",
       "<style scoped>\n",
       "    .dataframe tbody tr th:only-of-type {\n",
       "        vertical-align: middle;\n",
       "    }\n",
       "\n",
       "    .dataframe tbody tr th {\n",
       "        vertical-align: top;\n",
       "    }\n",
       "\n",
       "    .dataframe thead th {\n",
       "        text-align: right;\n",
       "    }\n",
       "</style>\n",
       "<table border=\"1\" class=\"dataframe\">\n",
       "  <thead>\n",
       "    <tr style=\"text-align: right;\">\n",
       "      <th></th>\n",
       "      <th>TotalCured</th>\n",
       "      <th>TotalPosTests1</th>\n",
       "      <th>abbreviation_canton_and_fl</th>\n",
       "      <th>date</th>\n",
       "      <th>ncumul_ICF</th>\n",
       "      <th>ncumul_ICU</th>\n",
       "      <th>ncumul_conf</th>\n",
       "      <th>ncumul_deceased</th>\n",
       "      <th>ncumul_deceased_suspect</th>\n",
       "      <th>ncumul_hosp</th>\n",
       "      <th>ncumul_released</th>\n",
       "      <th>ncumul_tested</th>\n",
       "      <th>ncumul_vent</th>\n",
       "      <th>ninst_ICU_intub</th>\n",
       "      <th>source</th>\n",
       "      <th>time</th>\n",
       "    </tr>\n",
       "  </thead>\n",
       "  <tbody>\n",
       "    <tr>\n",
       "      <th>0</th>\n",
       "      <td>NaN</td>\n",
       "      <td>NaN</td>\n",
       "      <td>AG</td>\n",
       "      <td>2020-02-28</td>\n",
       "      <td>NaN</td>\n",
       "      <td></td>\n",
       "      <td>1</td>\n",
       "      <td></td>\n",
       "      <td>NaN</td>\n",
       "      <td></td>\n",
       "      <td></td>\n",
       "      <td></td>\n",
       "      <td></td>\n",
       "      <td>NaN</td>\n",
       "      <td>https://www.ag.ch/media/kanton_aargau/themen_1...</td>\n",
       "      <td>15:00</td>\n",
       "    </tr>\n",
       "    <tr>\n",
       "      <th>1</th>\n",
       "      <td>NaN</td>\n",
       "      <td>NaN</td>\n",
       "      <td>AG</td>\n",
       "      <td>2020-03-02</td>\n",
       "      <td>NaN</td>\n",
       "      <td></td>\n",
       "      <td>2</td>\n",
       "      <td></td>\n",
       "      <td>NaN</td>\n",
       "      <td></td>\n",
       "      <td></td>\n",
       "      <td></td>\n",
       "      <td></td>\n",
       "      <td>NaN</td>\n",
       "      <td>https://www.ag.ch/media/kanton_aargau/themen_1...</td>\n",
       "      <td>18:00</td>\n",
       "    </tr>\n",
       "    <tr>\n",
       "      <th>2</th>\n",
       "      <td>NaN</td>\n",
       "      <td>NaN</td>\n",
       "      <td>AG</td>\n",
       "      <td>2020-03-03</td>\n",
       "      <td>NaN</td>\n",
       "      <td></td>\n",
       "      <td>6</td>\n",
       "      <td></td>\n",
       "      <td>NaN</td>\n",
       "      <td></td>\n",
       "      <td></td>\n",
       "      <td></td>\n",
       "      <td></td>\n",
       "      <td>NaN</td>\n",
       "      <td>https://www.ag.ch/media/kanton_aargau/themen_1...</td>\n",
       "      <td>15:00</td>\n",
       "    </tr>\n",
       "    <tr>\n",
       "      <th>3</th>\n",
       "      <td>NaN</td>\n",
       "      <td>NaN</td>\n",
       "      <td>AG</td>\n",
       "      <td>2020-03-04</td>\n",
       "      <td>NaN</td>\n",
       "      <td></td>\n",
       "      <td>7</td>\n",
       "      <td></td>\n",
       "      <td>NaN</td>\n",
       "      <td></td>\n",
       "      <td></td>\n",
       "      <td></td>\n",
       "      <td></td>\n",
       "      <td>NaN</td>\n",
       "      <td>https://www.ag.ch/media/kanton_aargau/themen_1...</td>\n",
       "      <td>15:00</td>\n",
       "    </tr>\n",
       "    <tr>\n",
       "      <th>4</th>\n",
       "      <td>NaN</td>\n",
       "      <td>NaN</td>\n",
       "      <td>AG</td>\n",
       "      <td>2020-03-05</td>\n",
       "      <td>NaN</td>\n",
       "      <td></td>\n",
       "      <td>9</td>\n",
       "      <td></td>\n",
       "      <td>NaN</td>\n",
       "      <td></td>\n",
       "      <td></td>\n",
       "      <td></td>\n",
       "      <td></td>\n",
       "      <td>NaN</td>\n",
       "      <td>https://www.ag.ch/media/kanton_aargau/themen_1...</td>\n",
       "      <td>15:00</td>\n",
       "    </tr>\n",
       "  </tbody>\n",
       "</table>\n",
       "</div>"
      ],
      "text/plain": [
       "  TotalCured TotalPosTests1 abbreviation_canton_and_fl        date  \\\n",
       "0        NaN            NaN                         AG  2020-02-28   \n",
       "1        NaN            NaN                         AG  2020-03-02   \n",
       "2        NaN            NaN                         AG  2020-03-03   \n",
       "3        NaN            NaN                         AG  2020-03-04   \n",
       "4        NaN            NaN                         AG  2020-03-05   \n",
       "\n",
       "   ncumul_ICF ncumul_ICU ncumul_conf ncumul_deceased ncumul_deceased_suspect  \\\n",
       "0         NaN                      1                                     NaN   \n",
       "1         NaN                      2                                     NaN   \n",
       "2         NaN                      6                                     NaN   \n",
       "3         NaN                      7                                     NaN   \n",
       "4         NaN                      9                                     NaN   \n",
       "\n",
       "  ncumul_hosp ncumul_released ncumul_tested ncumul_vent ninst_ICU_intub  \\\n",
       "0                                                                   NaN   \n",
       "1                                                                   NaN   \n",
       "2                                                                   NaN   \n",
       "3                                                                   NaN   \n",
       "4                                                                   NaN   \n",
       "\n",
       "                                              source   time  \n",
       "0  https://www.ag.ch/media/kanton_aargau/themen_1...  15:00  \n",
       "1  https://www.ag.ch/media/kanton_aargau/themen_1...  18:00  \n",
       "2  https://www.ag.ch/media/kanton_aargau/themen_1...  15:00  \n",
       "3  https://www.ag.ch/media/kanton_aargau/themen_1...  15:00  \n",
       "4  https://www.ag.ch/media/kanton_aargau/themen_1...  15:00  "
      ]
     },
     "metadata": {},
     "output_type": "display_data"
    }
   ],
   "source": [
    "# Print first 5 rows of DataFrame\n",
    "display(covid_raw.head())"
   ]
  },
  {
   "cell_type": "code",
   "execution_count": 26,
   "metadata": {
    "ExecuteTime": {
     "end_time": "2020-03-30T08:15:43.313533Z",
     "start_time": "2020-03-30T08:15:43.265501Z"
    }
   },
   "outputs": [
    {
     "name": "stdout",
     "output_type": "stream",
     "text": [
      "<class 'pandas.core.frame.DataFrame'>\n",
      "RangeIndex: 464 entries, 0 to 463\n",
      "Data columns (total 16 columns):\n",
      "TotalCured                    25 non-null object\n",
      "TotalPosTests1                59 non-null object\n",
      "abbreviation_canton_and_fl    464 non-null object\n",
      "date                          464 non-null object\n",
      "ncumul_ICF                    34 non-null float64\n",
      "ncumul_ICU                    464 non-null object\n",
      "ncumul_conf                   464 non-null object\n",
      "ncumul_deceased               464 non-null object\n",
      "ncumul_deceased_suspect       34 non-null object\n",
      "ncumul_hosp                   464 non-null object\n",
      "ncumul_released               464 non-null object\n",
      "ncumul_tested                 464 non-null object\n",
      "ncumul_vent                   464 non-null object\n",
      "ninst_ICU_intub               68 non-null object\n",
      "source                        464 non-null object\n",
      "time                          464 non-null object\n",
      "dtypes: float64(1), object(15)\n",
      "memory usage: 58.1+ KB\n"
     ]
    },
    {
     "data": {
      "text/plain": [
       "None"
      ]
     },
     "metadata": {},
     "output_type": "display_data"
    }
   ],
   "source": [
    "# Print summary on DataFrame\n",
    "display(covid_raw.info())"
   ]
  },
  {
   "cell_type": "code",
   "execution_count": 30,
   "metadata": {
    "ExecuteTime": {
     "end_time": "2020-03-30T08:27:31.344814Z",
     "start_time": "2020-03-30T08:27:31.106308Z"
    }
   },
   "outputs": [
    {
     "data": {
      "image/png": "[encoded data removed]",
      "text/plain": [
       "<Figure size 864x432 with 1 Axes>"
      ]
     },
     "metadata": {
      "needs_background": "light"
     },
     "output_type": "display_data"
    }
   ],
   "source": [
    "# Visualize the missing data (to get a better feeling)\n",
    "plt.figure(figsize=(12,6))\n",
    "sns.heatmap(covid_raw.isnull(), yticklabels=False, cbar=False, cmap='viridis');"
   ]
  },
  {
   "cell_type": "markdown",
   "metadata": {},
   "source": [
    "**Findings:** There are some issues with this dataframe. \n",
    "- Remove cols with many missing values [\"TotalCured\", \"TotalPosTests1\", \"ncumul_ICF\", \"ncumul_dceased_suspect\", \"ninst_ICU_intub\"]\n",
    "- Remove additional cols we don't need for our analysis [\"ncumul_ICU\", \"ncumul_vent\", \"source\", \"time\"]\n",
    "- Rename \"abbrevation_catnon_and_fl\" to \"canton\"\n",
    "- Replace \"\" with \"0\" (for example in deceased column)\n",
    "- Change type of \"date\" from oject to datetime\n",
    "- Change type of other columns from object to int"
   ]
  },
  {
   "cell_type": "markdown",
   "metadata": {},
   "source": [
    "### Clean data, Pt.1 "
   ]
  },
  {
   "cell_type": "code",
   "execution_count": 55,
   "metadata": {
    "ExecuteTime": {
     "end_time": "2020-03-30T09:01:56.024716Z",
     "start_time": "2020-03-30T09:01:55.995417Z"
    }
   },
   "outputs": [],
   "source": [
    "# Perform the defined cleaning steps\n",
    "\n",
    "# Create a copy of the raw df with only the desired columns\n",
    "covid_clean = covid_raw[[\"abbreviation_canton_and_fl\",\n",
    "                      \"date\",\n",
    "                      \"ncumul_conf\",\n",
    "                      \"ncumul_hosp\",\n",
    "                      \"ncumul_deceased\",\n",
    "                      \"ncumul_released\"]].copy()\n",
    "\n",
    "# Rename column\n",
    "covid_clean.rename(columns={\"abbreviation_canton_and_fl\": \"canton\"}, inplace=True)\n",
    "\n",
    "# Replace empty cell values with value \"0\"\n",
    "covid_clean.replace(\"\", \"0\", inplace=True)\n",
    "\n",
    "# Change date datatype\n",
    "covid_clean[\"date\"] = pd.to_datetime(covid_clean[\"date\"], format=\"%Y-%m-%d\")\n",
    "\n",
    "# Change datatypes for other columns in a \"for loop\"\n",
    "for col in covid_clean.columns.drop([\"canton\", \"date\"]):\n",
    "    covid_clean[col] = covid_clean[col].astype(int)\n",
    "    \n",
    "# Make some checks (assertions)\n",
    "assert covid_clean.isnull().sum().sum() == 0, \"Missing values left\"\n",
    "assert list(covid_clean.dtypes) == [\"object\", \"<M8[ns]\", \"int32\", \"int32\", \"int32\", \"int32\"], \"Wrong datatpyes\""
   ]
  },
  {
   "cell_type": "code",
   "execution_count": 44,
   "metadata": {
    "ExecuteTime": {
     "end_time": "2020-03-30T08:54:23.474613Z",
     "start_time": "2020-03-30T08:54:23.446302Z"
    }
   },
   "outputs": [
    {
     "data": {
      "text/html": [
       "<div>\n",
       "<style scoped>\n",
       "    .dataframe tbody tr th:only-of-type {\n",
       "        vertical-align: middle;\n",
       "    }\n",
       "\n",
       "    .dataframe tbody tr th {\n",
       "        vertical-align: top;\n",
       "    }\n",
       "\n",
       "    .dataframe thead th {\n",
       "        text-align: right;\n",
       "    }\n",
       "</style>\n",
       "<table border=\"1\" class=\"dataframe\">\n",
       "  <thead>\n",
       "    <tr style=\"text-align: right;\">\n",
       "      <th></th>\n",
       "      <th>canton</th>\n",
       "      <th>date</th>\n",
       "      <th>ncumul_conf</th>\n",
       "      <th>ncumul_hosp</th>\n",
       "      <th>ncumul_deceased</th>\n",
       "      <th>ncumul_released</th>\n",
       "    </tr>\n",
       "  </thead>\n",
       "  <tbody>\n",
       "    <tr>\n",
       "      <th>0</th>\n",
       "      <td>AG</td>\n",
       "      <td>2020-02-28</td>\n",
       "      <td>1</td>\n",
       "      <td>0</td>\n",
       "      <td>0</td>\n",
       "      <td>0</td>\n",
       "    </tr>\n",
       "    <tr>\n",
       "      <th>1</th>\n",
       "      <td>AG</td>\n",
       "      <td>2020-03-02</td>\n",
       "      <td>2</td>\n",
       "      <td>0</td>\n",
       "      <td>0</td>\n",
       "      <td>0</td>\n",
       "    </tr>\n",
       "    <tr>\n",
       "      <th>2</th>\n",
       "      <td>AG</td>\n",
       "      <td>2020-03-03</td>\n",
       "      <td>6</td>\n",
       "      <td>0</td>\n",
       "      <td>0</td>\n",
       "      <td>0</td>\n",
       "    </tr>\n",
       "    <tr>\n",
       "      <th>3</th>\n",
       "      <td>AG</td>\n",
       "      <td>2020-03-04</td>\n",
       "      <td>7</td>\n",
       "      <td>0</td>\n",
       "      <td>0</td>\n",
       "      <td>0</td>\n",
       "    </tr>\n",
       "    <tr>\n",
       "      <th>4</th>\n",
       "      <td>AG</td>\n",
       "      <td>2020-03-05</td>\n",
       "      <td>9</td>\n",
       "      <td>0</td>\n",
       "      <td>0</td>\n",
       "      <td>0</td>\n",
       "    </tr>\n",
       "  </tbody>\n",
       "</table>\n",
       "</div>"
      ],
      "text/plain": [
       "  canton       date  ncumul_conf  ncumul_hosp  ncumul_deceased  \\\n",
       "0     AG 2020-02-28            1            0                0   \n",
       "1     AG 2020-03-02            2            0                0   \n",
       "2     AG 2020-03-03            6            0                0   \n",
       "3     AG 2020-03-04            7            0                0   \n",
       "4     AG 2020-03-05            9            0                0   \n",
       "\n",
       "   ncumul_released  \n",
       "0                0  \n",
       "1                0  \n",
       "2                0  \n",
       "3                0  \n",
       "4                0  "
      ]
     },
     "metadata": {},
     "output_type": "display_data"
    }
   ],
   "source": [
    "# Check results (first 5 rows)\n",
    "display(covid_clean.head())"
   ]
  },
  {
   "cell_type": "markdown",
   "metadata": {
    "ExecuteTime": {
     "end_time": "2020-03-30T09:48:21.894545Z",
     "start_time": "2020-03-30T09:48:21.876538Z"
    }
   },
   "source": [
    "### Clean data, Pt. 2 - _Advanced_\n",
    "\n",
    "There is one major other issue with this dataframe. By the time of writing this notebook we have 464 rows in the dataframe. But the counts started 32 days ago and we have 26 cantons --> 832 rows ... On many days there is no data for some of the cantons. This has to be fixed:\n",
    "\n",
    "- Expand dataframe to include one row / day per canton\n",
    "- If date is missing for one day, forward-fill with data from previous day"
   ]
  },
  {
   "cell_type": "code",
   "execution_count": 86,
   "metadata": {
    "ExecuteTime": {
     "end_time": "2020-03-30T09:58:17.384640Z",
     "start_time": "2020-03-30T09:58:17.374611Z"
    }
   },
   "outputs": [
    {
     "data": {
      "text/plain": [
       "2020-03-29    19\n",
       "2020-03-22    15\n",
       "2020-03-11    11\n",
       "2020-03-09    11\n",
       "2020-03-01     8\n",
       "Name: date, dtype: int64"
      ]
     },
     "execution_count": 86,
     "metadata": {},
     "output_type": "execute_result"
    }
   ],
   "source": [
    "# Exlplore counts for some sample days to illustrate the problem\n",
    "covid_clean[\"date\"].value_counts().sample(5).sort_index(ascending=False)"
   ]
  },
  {
   "cell_type": "code",
   "execution_count": 105,
   "metadata": {
    "ExecuteTime": {
     "end_time": "2020-03-30T10:15:56.424972Z",
     "start_time": "2020-03-30T10:15:56.386553Z"
    }
   },
   "outputs": [
    {
     "data": {
      "text/html": [
       "<div>\n",
       "<style scoped>\n",
       "    .dataframe tbody tr th:only-of-type {\n",
       "        vertical-align: middle;\n",
       "    }\n",
       "\n",
       "    .dataframe tbody tr th {\n",
       "        vertical-align: top;\n",
       "    }\n",
       "\n",
       "    .dataframe thead th {\n",
       "        text-align: right;\n",
       "    }\n",
       "</style>\n",
       "<table border=\"1\" class=\"dataframe\">\n",
       "  <thead>\n",
       "    <tr style=\"text-align: right;\">\n",
       "      <th></th>\n",
       "      <th>canton</th>\n",
       "      <th>date</th>\n",
       "      <th>ncumul_conf</th>\n",
       "      <th>ncumul_hosp</th>\n",
       "      <th>ncumul_deceased</th>\n",
       "      <th>ncumul_released</th>\n",
       "    </tr>\n",
       "  </thead>\n",
       "  <tbody>\n",
       "    <tr>\n",
       "      <th>256</th>\n",
       "      <td>OW</td>\n",
       "      <td>2020-03-13</td>\n",
       "      <td>1</td>\n",
       "      <td>0</td>\n",
       "      <td>0</td>\n",
       "      <td>0</td>\n",
       "    </tr>\n",
       "    <tr>\n",
       "      <th>257</th>\n",
       "      <td>OW</td>\n",
       "      <td>2020-03-23</td>\n",
       "      <td>25</td>\n",
       "      <td>0</td>\n",
       "      <td>0</td>\n",
       "      <td>0</td>\n",
       "    </tr>\n",
       "    <tr>\n",
       "      <th>258</th>\n",
       "      <td>OW</td>\n",
       "      <td>2020-03-24</td>\n",
       "      <td>25</td>\n",
       "      <td>0</td>\n",
       "      <td>0</td>\n",
       "      <td>0</td>\n",
       "    </tr>\n",
       "    <tr>\n",
       "      <th>259</th>\n",
       "      <td>OW</td>\n",
       "      <td>2020-03-25</td>\n",
       "      <td>27</td>\n",
       "      <td>0</td>\n",
       "      <td>0</td>\n",
       "      <td>0</td>\n",
       "    </tr>\n",
       "    <tr>\n",
       "      <th>260</th>\n",
       "      <td>OW</td>\n",
       "      <td>2020-03-26</td>\n",
       "      <td>30</td>\n",
       "      <td>0</td>\n",
       "      <td>0</td>\n",
       "      <td>0</td>\n",
       "    </tr>\n",
       "    <tr>\n",
       "      <th>261</th>\n",
       "      <td>OW</td>\n",
       "      <td>2020-03-27</td>\n",
       "      <td>37</td>\n",
       "      <td>0</td>\n",
       "      <td>0</td>\n",
       "      <td>0</td>\n",
       "    </tr>\n",
       "  </tbody>\n",
       "</table>\n",
       "</div>"
      ],
      "text/plain": [
       "    canton       date  ncumul_conf  ncumul_hosp  ncumul_deceased  \\\n",
       "256     OW 2020-03-13            1            0                0   \n",
       "257     OW 2020-03-23           25            0                0   \n",
       "258     OW 2020-03-24           25            0                0   \n",
       "259     OW 2020-03-25           27            0                0   \n",
       "260     OW 2020-03-26           30            0                0   \n",
       "261     OW 2020-03-27           37            0                0   \n",
       "\n",
       "     ncumul_released  \n",
       "256                0  \n",
       "257                0  \n",
       "258                0  \n",
       "259                0  \n",
       "260                0  \n",
       "261                0  "
      ]
     },
     "execution_count": 105,
     "metadata": {},
     "output_type": "execute_result"
    }
   ],
   "source": [
    "# Look at the canton with the fewest data entries\n",
    "min_canton = covid_clean[\"canton\"].value_counts().tail(1).index[0]\n",
    "covid_clean.loc[covid_clean[\"canton\"] == min_canton]\n"
   ]
  },
  {
   "cell_type": "markdown",
   "metadata": {},
   "source": [
    "Let's fix that!"
   ]
  },
  {
   "cell_type": "code",
   "execution_count": 88,
   "metadata": {
    "ExecuteTime": {
     "end_time": "2020-03-30T10:10:17.604829Z",
     "start_time": "2020-03-30T10:10:17.595260Z"
    }
   },
   "outputs": [
    {
     "name": "stdout",
     "output_type": "stream",
     "text": [
      "DatetimeIndex(['2020-02-25', '2020-02-26', '2020-02-27', '2020-02-28',\n",
      "               '2020-02-29', '2020-03-01', '2020-03-02', '2020-03-03',\n",
      "               '2020-03-04', '2020-03-05'],\n",
      "              dtype='datetime64[ns]', freq='D')\n"
     ]
    }
   ],
   "source": [
    "# Create a list (DatetimeIndex) with all dates for the whole daterange\n",
    "all_days = pd.date_range(covid_clean[\"date\"].min(), covid_clean[\"date\"].max(), freq='D')\n",
    "print(all_days[:10])"
   ]
  },
  {
   "cell_type": "code",
   "execution_count": 147,
   "metadata": {
    "ExecuteTime": {
     "end_time": "2020-03-30T11:03:39.117478Z",
     "start_time": "2020-03-30T11:03:39.101345Z"
    }
   },
   "outputs": [],
   "source": [
    "# Define function for the expansion\n",
    "\n",
    "def expand_dates(df, all_days):\n",
    "    # Get canton abbrevation for later filling\n",
    "    canton_abbr = df[\"canton\"].max()\n",
    "    # Set original date column to index\n",
    "    df.set_index(\"date\", inplace=True)\n",
    "    # Expand by setting 'all_days' as new index\n",
    "    df = df.reindex(all_days)\n",
    "    # Fill missing values with previous day's number\n",
    "    df.fillna(method='pad', inplace=True)\n",
    "    # Set missing values in canton col to abbreviation\n",
    "    df[\"canton\"] = canton_abbr\n",
    "    # Set missing values at the start to zero\n",
    "    df.fillna(value=0, inplace=True)\n",
    "    # Reset index, move dates to col\n",
    "    df.reset_index(inplace=True)\n",
    "    df.rename(columns={\"index\": \"date\"}, inplace=True)\n",
    "    # Reset numeric columns to int\n",
    "    for col in df.columns[2:]:\n",
    "        df[col] = df[col].astype(int)\n",
    "    \n",
    "    return df"
   ]
  },
  {
   "cell_type": "code",
   "execution_count": 148,
   "metadata": {
    "ExecuteTime": {
     "end_time": "2020-03-30T11:03:40.021829Z",
     "start_time": "2020-03-30T11:03:39.992648Z"
    }
   },
   "outputs": [
    {
     "data": {
      "text/html": [
       "<div>\n",
       "<style scoped>\n",
       "    .dataframe tbody tr th:only-of-type {\n",
       "        vertical-align: middle;\n",
       "    }\n",
       "\n",
       "    .dataframe tbody tr th {\n",
       "        vertical-align: top;\n",
       "    }\n",
       "\n",
       "    .dataframe thead th {\n",
       "        text-align: right;\n",
       "    }\n",
       "</style>\n",
       "<table border=\"1\" class=\"dataframe\">\n",
       "  <thead>\n",
       "    <tr style=\"text-align: right;\">\n",
       "      <th></th>\n",
       "      <th>date</th>\n",
       "      <th>canton</th>\n",
       "      <th>ncumul_conf</th>\n",
       "      <th>ncumul_hosp</th>\n",
       "      <th>ncumul_deceased</th>\n",
       "      <th>ncumul_released</th>\n",
       "    </tr>\n",
       "  </thead>\n",
       "  <tbody>\n",
       "    <tr>\n",
       "      <th>0</th>\n",
       "      <td>2020-02-25</td>\n",
       "      <td>OW</td>\n",
       "      <td>0</td>\n",
       "      <td>0</td>\n",
       "      <td>0</td>\n",
       "      <td>0</td>\n",
       "    </tr>\n",
       "    <tr>\n",
       "      <th>1</th>\n",
       "      <td>2020-02-26</td>\n",
       "      <td>OW</td>\n",
       "      <td>0</td>\n",
       "      <td>0</td>\n",
       "      <td>0</td>\n",
       "      <td>0</td>\n",
       "    </tr>\n",
       "    <tr>\n",
       "      <th>2</th>\n",
       "      <td>2020-02-27</td>\n",
       "      <td>OW</td>\n",
       "      <td>0</td>\n",
       "      <td>0</td>\n",
       "      <td>0</td>\n",
       "      <td>0</td>\n",
       "    </tr>\n",
       "    <tr>\n",
       "      <th>3</th>\n",
       "      <td>2020-02-28</td>\n",
       "      <td>OW</td>\n",
       "      <td>0</td>\n",
       "      <td>0</td>\n",
       "      <td>0</td>\n",
       "      <td>0</td>\n",
       "    </tr>\n",
       "    <tr>\n",
       "      <th>4</th>\n",
       "      <td>2020-02-29</td>\n",
       "      <td>OW</td>\n",
       "      <td>0</td>\n",
       "      <td>0</td>\n",
       "      <td>0</td>\n",
       "      <td>0</td>\n",
       "    </tr>\n",
       "    <tr>\n",
       "      <th>5</th>\n",
       "      <td>2020-03-01</td>\n",
       "      <td>OW</td>\n",
       "      <td>0</td>\n",
       "      <td>0</td>\n",
       "      <td>0</td>\n",
       "      <td>0</td>\n",
       "    </tr>\n",
       "    <tr>\n",
       "      <th>6</th>\n",
       "      <td>2020-03-02</td>\n",
       "      <td>OW</td>\n",
       "      <td>0</td>\n",
       "      <td>0</td>\n",
       "      <td>0</td>\n",
       "      <td>0</td>\n",
       "    </tr>\n",
       "    <tr>\n",
       "      <th>7</th>\n",
       "      <td>2020-03-03</td>\n",
       "      <td>OW</td>\n",
       "      <td>0</td>\n",
       "      <td>0</td>\n",
       "      <td>0</td>\n",
       "      <td>0</td>\n",
       "    </tr>\n",
       "    <tr>\n",
       "      <th>8</th>\n",
       "      <td>2020-03-04</td>\n",
       "      <td>OW</td>\n",
       "      <td>0</td>\n",
       "      <td>0</td>\n",
       "      <td>0</td>\n",
       "      <td>0</td>\n",
       "    </tr>\n",
       "    <tr>\n",
       "      <th>9</th>\n",
       "      <td>2020-03-05</td>\n",
       "      <td>OW</td>\n",
       "      <td>0</td>\n",
       "      <td>0</td>\n",
       "      <td>0</td>\n",
       "      <td>0</td>\n",
       "    </tr>\n",
       "    <tr>\n",
       "      <th>10</th>\n",
       "      <td>2020-03-06</td>\n",
       "      <td>OW</td>\n",
       "      <td>0</td>\n",
       "      <td>0</td>\n",
       "      <td>0</td>\n",
       "      <td>0</td>\n",
       "    </tr>\n",
       "    <tr>\n",
       "      <th>11</th>\n",
       "      <td>2020-03-07</td>\n",
       "      <td>OW</td>\n",
       "      <td>0</td>\n",
       "      <td>0</td>\n",
       "      <td>0</td>\n",
       "      <td>0</td>\n",
       "    </tr>\n",
       "    <tr>\n",
       "      <th>12</th>\n",
       "      <td>2020-03-08</td>\n",
       "      <td>OW</td>\n",
       "      <td>0</td>\n",
       "      <td>0</td>\n",
       "      <td>0</td>\n",
       "      <td>0</td>\n",
       "    </tr>\n",
       "    <tr>\n",
       "      <th>13</th>\n",
       "      <td>2020-03-09</td>\n",
       "      <td>OW</td>\n",
       "      <td>0</td>\n",
       "      <td>0</td>\n",
       "      <td>0</td>\n",
       "      <td>0</td>\n",
       "    </tr>\n",
       "    <tr>\n",
       "      <th>14</th>\n",
       "      <td>2020-03-10</td>\n",
       "      <td>OW</td>\n",
       "      <td>0</td>\n",
       "      <td>0</td>\n",
       "      <td>0</td>\n",
       "      <td>0</td>\n",
       "    </tr>\n",
       "    <tr>\n",
       "      <th>15</th>\n",
       "      <td>2020-03-11</td>\n",
       "      <td>OW</td>\n",
       "      <td>0</td>\n",
       "      <td>0</td>\n",
       "      <td>0</td>\n",
       "      <td>0</td>\n",
       "    </tr>\n",
       "    <tr>\n",
       "      <th>16</th>\n",
       "      <td>2020-03-12</td>\n",
       "      <td>OW</td>\n",
       "      <td>0</td>\n",
       "      <td>0</td>\n",
       "      <td>0</td>\n",
       "      <td>0</td>\n",
       "    </tr>\n",
       "    <tr>\n",
       "      <th>17</th>\n",
       "      <td>2020-03-13</td>\n",
       "      <td>OW</td>\n",
       "      <td>1</td>\n",
       "      <td>0</td>\n",
       "      <td>0</td>\n",
       "      <td>0</td>\n",
       "    </tr>\n",
       "    <tr>\n",
       "      <th>18</th>\n",
       "      <td>2020-03-14</td>\n",
       "      <td>OW</td>\n",
       "      <td>1</td>\n",
       "      <td>0</td>\n",
       "      <td>0</td>\n",
       "      <td>0</td>\n",
       "    </tr>\n",
       "    <tr>\n",
       "      <th>19</th>\n",
       "      <td>2020-03-15</td>\n",
       "      <td>OW</td>\n",
       "      <td>1</td>\n",
       "      <td>0</td>\n",
       "      <td>0</td>\n",
       "      <td>0</td>\n",
       "    </tr>\n",
       "    <tr>\n",
       "      <th>20</th>\n",
       "      <td>2020-03-16</td>\n",
       "      <td>OW</td>\n",
       "      <td>1</td>\n",
       "      <td>0</td>\n",
       "      <td>0</td>\n",
       "      <td>0</td>\n",
       "    </tr>\n",
       "    <tr>\n",
       "      <th>21</th>\n",
       "      <td>2020-03-17</td>\n",
       "      <td>OW</td>\n",
       "      <td>1</td>\n",
       "      <td>0</td>\n",
       "      <td>0</td>\n",
       "      <td>0</td>\n",
       "    </tr>\n",
       "    <tr>\n",
       "      <th>22</th>\n",
       "      <td>2020-03-18</td>\n",
       "      <td>OW</td>\n",
       "      <td>1</td>\n",
       "      <td>0</td>\n",
       "      <td>0</td>\n",
       "      <td>0</td>\n",
       "    </tr>\n",
       "    <tr>\n",
       "      <th>23</th>\n",
       "      <td>2020-03-19</td>\n",
       "      <td>OW</td>\n",
       "      <td>1</td>\n",
       "      <td>0</td>\n",
       "      <td>0</td>\n",
       "      <td>0</td>\n",
       "    </tr>\n",
       "    <tr>\n",
       "      <th>24</th>\n",
       "      <td>2020-03-20</td>\n",
       "      <td>OW</td>\n",
       "      <td>1</td>\n",
       "      <td>0</td>\n",
       "      <td>0</td>\n",
       "      <td>0</td>\n",
       "    </tr>\n",
       "    <tr>\n",
       "      <th>25</th>\n",
       "      <td>2020-03-21</td>\n",
       "      <td>OW</td>\n",
       "      <td>1</td>\n",
       "      <td>0</td>\n",
       "      <td>0</td>\n",
       "      <td>0</td>\n",
       "    </tr>\n",
       "    <tr>\n",
       "      <th>26</th>\n",
       "      <td>2020-03-22</td>\n",
       "      <td>OW</td>\n",
       "      <td>1</td>\n",
       "      <td>0</td>\n",
       "      <td>0</td>\n",
       "      <td>0</td>\n",
       "    </tr>\n",
       "    <tr>\n",
       "      <th>27</th>\n",
       "      <td>2020-03-23</td>\n",
       "      <td>OW</td>\n",
       "      <td>25</td>\n",
       "      <td>0</td>\n",
       "      <td>0</td>\n",
       "      <td>0</td>\n",
       "    </tr>\n",
       "    <tr>\n",
       "      <th>28</th>\n",
       "      <td>2020-03-24</td>\n",
       "      <td>OW</td>\n",
       "      <td>25</td>\n",
       "      <td>0</td>\n",
       "      <td>0</td>\n",
       "      <td>0</td>\n",
       "    </tr>\n",
       "    <tr>\n",
       "      <th>29</th>\n",
       "      <td>2020-03-25</td>\n",
       "      <td>OW</td>\n",
       "      <td>27</td>\n",
       "      <td>0</td>\n",
       "      <td>0</td>\n",
       "      <td>0</td>\n",
       "    </tr>\n",
       "    <tr>\n",
       "      <th>30</th>\n",
       "      <td>2020-03-26</td>\n",
       "      <td>OW</td>\n",
       "      <td>30</td>\n",
       "      <td>0</td>\n",
       "      <td>0</td>\n",
       "      <td>0</td>\n",
       "    </tr>\n",
       "    <tr>\n",
       "      <th>31</th>\n",
       "      <td>2020-03-27</td>\n",
       "      <td>OW</td>\n",
       "      <td>37</td>\n",
       "      <td>0</td>\n",
       "      <td>0</td>\n",
       "      <td>0</td>\n",
       "    </tr>\n",
       "    <tr>\n",
       "      <th>32</th>\n",
       "      <td>2020-03-28</td>\n",
       "      <td>OW</td>\n",
       "      <td>37</td>\n",
       "      <td>0</td>\n",
       "      <td>0</td>\n",
       "      <td>0</td>\n",
       "    </tr>\n",
       "    <tr>\n",
       "      <th>33</th>\n",
       "      <td>2020-03-29</td>\n",
       "      <td>OW</td>\n",
       "      <td>37</td>\n",
       "      <td>0</td>\n",
       "      <td>0</td>\n",
       "      <td>0</td>\n",
       "    </tr>\n",
       "    <tr>\n",
       "      <th>34</th>\n",
       "      <td>2020-03-30</td>\n",
       "      <td>OW</td>\n",
       "      <td>37</td>\n",
       "      <td>0</td>\n",
       "      <td>0</td>\n",
       "      <td>0</td>\n",
       "    </tr>\n",
       "  </tbody>\n",
       "</table>\n",
       "</div>"
      ],
      "text/plain": [
       "         date canton  ncumul_conf  ncumul_hosp  ncumul_deceased  \\\n",
       "0  2020-02-25     OW            0            0                0   \n",
       "1  2020-02-26     OW            0            0                0   \n",
       "2  2020-02-27     OW            0            0                0   \n",
       "3  2020-02-28     OW            0            0                0   \n",
       "4  2020-02-29     OW            0            0                0   \n",
       "5  2020-03-01     OW            0            0                0   \n",
       "6  2020-03-02     OW            0            0                0   \n",
       "7  2020-03-03     OW            0            0                0   \n",
       "8  2020-03-04     OW            0            0                0   \n",
       "9  2020-03-05     OW            0            0                0   \n",
       "10 2020-03-06     OW            0            0                0   \n",
       "11 2020-03-07     OW            0            0                0   \n",
       "12 2020-03-08     OW            0            0                0   \n",
       "13 2020-03-09     OW            0            0                0   \n",
       "14 2020-03-10     OW            0            0                0   \n",
       "15 2020-03-11     OW            0            0                0   \n",
       "16 2020-03-12     OW            0            0                0   \n",
       "17 2020-03-13     OW            1            0                0   \n",
       "18 2020-03-14     OW            1            0                0   \n",
       "19 2020-03-15     OW            1            0                0   \n",
       "20 2020-03-16     OW            1            0                0   \n",
       "21 2020-03-17     OW            1            0                0   \n",
       "22 2020-03-18     OW            1            0                0   \n",
       "23 2020-03-19     OW            1            0                0   \n",
       "24 2020-03-20     OW            1            0                0   \n",
       "25 2020-03-21     OW            1            0                0   \n",
       "26 2020-03-22     OW            1            0                0   \n",
       "27 2020-03-23     OW           25            0                0   \n",
       "28 2020-03-24     OW           25            0                0   \n",
       "29 2020-03-25     OW           27            0                0   \n",
       "30 2020-03-26     OW           30            0                0   \n",
       "31 2020-03-27     OW           37            0                0   \n",
       "32 2020-03-28     OW           37            0                0   \n",
       "33 2020-03-29     OW           37            0                0   \n",
       "34 2020-03-30     OW           37            0                0   \n",
       "\n",
       "    ncumul_released  \n",
       "0                 0  \n",
       "1                 0  \n",
       "2                 0  \n",
       "3                 0  \n",
       "4                 0  \n",
       "5                 0  \n",
       "6                 0  \n",
       "7                 0  \n",
       "8                 0  \n",
       "9                 0  \n",
       "10                0  \n",
       "11                0  \n",
       "12                0  \n",
       "13                0  \n",
       "14                0  \n",
       "15                0  \n",
       "16                0  \n",
       "17                0  \n",
       "18                0  \n",
       "19                0  \n",
       "20                0  \n",
       "21                0  \n",
       "22                0  \n",
       "23                0  \n",
       "24                0  \n",
       "25                0  \n",
       "26                0  \n",
       "27                0  \n",
       "28                0  \n",
       "29                0  \n",
       "30                0  \n",
       "31                0  \n",
       "32                0  \n",
       "33                0  \n",
       "34                0  "
      ]
     },
     "execution_count": 148,
     "metadata": {},
     "output_type": "execute_result"
    }
   ],
   "source": [
    "# Demonstrate result of function for OW\n",
    "expand_dates(covid_clean.loc[covid_clean[\"canton\"] == min_canton], all_days)"
   ]
  },
  {
   "cell_type": "code",
   "execution_count": 149,
   "metadata": {
    "ExecuteTime": {
     "end_time": "2020-03-30T11:03:45.329347Z",
     "start_time": "2020-03-30T11:03:45.109952Z"
    }
   },
   "outputs": [],
   "source": [
    "# Run function for all cantons in original df and concatenate them to a new expanded df\n",
    "\n",
    "# Create new, empty DataFrame with same columns as the existing one\n",
    "covid = pd.DataFrame(columns=covid_clean.columns)\n",
    "\n",
    "# Loop through the cantons, run the function and concat to new df\n",
    "for canton in covid_clean[\"canton\"].unique():\n",
    "    # Subset to canton rows only\n",
    "    df = covid_clean.loc[covid_clean[\"canton\"] == canton]\n",
    "    # Run expansion function\n",
    "    df = expand_dates(df, all_days)\n",
    "    # Append result to the new dataframe\n",
    "    covid = pd.concat([covid, df], ignore_index=True, sort=True)"
   ]
  },
  {
   "cell_type": "code",
   "execution_count": 150,
   "metadata": {
    "ExecuteTime": {
     "end_time": "2020-03-30T11:03:45.899138Z",
     "start_time": "2020-03-30T11:03:45.853840Z"
    }
   },
   "outputs": [
    {
     "name": "stdout",
     "output_type": "stream",
     "text": [
      "<class 'pandas.core.frame.DataFrame'>\n",
      "RangeIndex: 910 entries, 0 to 909\n",
      "Data columns (total 6 columns):\n",
      "canton             910 non-null object\n",
      "date               910 non-null datetime64[ns]\n",
      "ncumul_conf        910 non-null object\n",
      "ncumul_deceased    910 non-null object\n",
      "ncumul_hosp        910 non-null object\n",
      "ncumul_released    910 non-null object\n",
      "dtypes: datetime64[ns](1), object(5)\n",
      "memory usage: 42.7+ KB\n"
     ]
    },
    {
     "data": {
      "text/plain": [
       "None"
      ]
     },
     "metadata": {},
     "output_type": "display_data"
    },
    {
     "data": {
      "text/html": [
       "<div>\n",
       "<style scoped>\n",
       "    .dataframe tbody tr th:only-of-type {\n",
       "        vertical-align: middle;\n",
       "    }\n",
       "\n",
       "    .dataframe tbody tr th {\n",
       "        vertical-align: top;\n",
       "    }\n",
       "\n",
       "    .dataframe thead th {\n",
       "        text-align: right;\n",
       "    }\n",
       "</style>\n",
       "<table border=\"1\" class=\"dataframe\">\n",
       "  <thead>\n",
       "    <tr style=\"text-align: right;\">\n",
       "      <th></th>\n",
       "      <th>canton</th>\n",
       "      <th>date</th>\n",
       "      <th>ncumul_conf</th>\n",
       "      <th>ncumul_deceased</th>\n",
       "      <th>ncumul_hosp</th>\n",
       "      <th>ncumul_released</th>\n",
       "    </tr>\n",
       "  </thead>\n",
       "  <tbody>\n",
       "    <tr>\n",
       "      <th>0</th>\n",
       "      <td>AG</td>\n",
       "      <td>2020-02-25</td>\n",
       "      <td>0</td>\n",
       "      <td>0</td>\n",
       "      <td>0</td>\n",
       "      <td>0</td>\n",
       "    </tr>\n",
       "    <tr>\n",
       "      <th>1</th>\n",
       "      <td>AG</td>\n",
       "      <td>2020-02-26</td>\n",
       "      <td>0</td>\n",
       "      <td>0</td>\n",
       "      <td>0</td>\n",
       "      <td>0</td>\n",
       "    </tr>\n",
       "    <tr>\n",
       "      <th>2</th>\n",
       "      <td>AG</td>\n",
       "      <td>2020-02-27</td>\n",
       "      <td>0</td>\n",
       "      <td>0</td>\n",
       "      <td>0</td>\n",
       "      <td>0</td>\n",
       "    </tr>\n",
       "    <tr>\n",
       "      <th>3</th>\n",
       "      <td>AG</td>\n",
       "      <td>2020-02-28</td>\n",
       "      <td>1</td>\n",
       "      <td>0</td>\n",
       "      <td>0</td>\n",
       "      <td>0</td>\n",
       "    </tr>\n",
       "    <tr>\n",
       "      <th>4</th>\n",
       "      <td>AG</td>\n",
       "      <td>2020-02-29</td>\n",
       "      <td>1</td>\n",
       "      <td>0</td>\n",
       "      <td>0</td>\n",
       "      <td>0</td>\n",
       "    </tr>\n",
       "  </tbody>\n",
       "</table>\n",
       "</div>"
      ],
      "text/plain": [
       "  canton       date ncumul_conf ncumul_deceased ncumul_hosp ncumul_released\n",
       "0     AG 2020-02-25           0               0           0               0\n",
       "1     AG 2020-02-26           0               0           0               0\n",
       "2     AG 2020-02-27           0               0           0               0\n",
       "3     AG 2020-02-28           1               0           0               0\n",
       "4     AG 2020-02-29           1               0           0               0"
      ]
     },
     "metadata": {},
     "output_type": "display_data"
    }
   ],
   "source": [
    "# Check results\n",
    "display(covid.info())\n",
    "display(covid.head())"
   ]
  },
  {
   "cell_type": "markdown",
   "metadata": {
    "ExecuteTime": {
     "end_time": "2020-03-30T09:14:31.054787Z",
     "start_time": "2020-03-30T09:14:31.046750Z"
    }
   },
   "source": [
    "## Manipulate data (group by, slicing)\n",
    "### Group by\n",
    "\n",
    "- [Tutorial](https://www.tutorialspoint.com/python_pandas/python_pandas_groupby.htm) on groupby in Pandas"
   ]
  },
  {
   "cell_type": "code",
   "execution_count": 151,
   "metadata": {
    "ExecuteTime": {
     "end_time": "2020-03-30T11:03:50.959197Z",
     "start_time": "2020-03-30T11:03:50.886661Z"
    }
   },
   "outputs": [],
   "source": [
    "# Create a groupby object by canton, aggregate to return actual values for all columns\n",
    "covid_by_canton = covid.groupby(\"canton\").agg(max)\n",
    "# Create a DataFrame\n",
    "covid_by_canton = pd.DataFrame(covid_by_canton)"
   ]
  },
  {
   "cell_type": "code",
   "execution_count": 152,
   "metadata": {
    "ExecuteTime": {
     "end_time": "2020-03-30T11:03:53.160120Z",
     "start_time": "2020-03-30T11:03:53.128871Z"
    }
   },
   "outputs": [
    {
     "data": {
      "text/html": [
       "<div>\n",
       "<style scoped>\n",
       "    .dataframe tbody tr th:only-of-type {\n",
       "        vertical-align: middle;\n",
       "    }\n",
       "\n",
       "    .dataframe tbody tr th {\n",
       "        vertical-align: top;\n",
       "    }\n",
       "\n",
       "    .dataframe thead th {\n",
       "        text-align: right;\n",
       "    }\n",
       "</style>\n",
       "<table border=\"1\" class=\"dataframe\">\n",
       "  <thead>\n",
       "    <tr style=\"text-align: right;\">\n",
       "      <th></th>\n",
       "      <th>date</th>\n",
       "      <th>ncumul_conf</th>\n",
       "      <th>ncumul_deceased</th>\n",
       "      <th>ncumul_hosp</th>\n",
       "      <th>ncumul_released</th>\n",
       "    </tr>\n",
       "    <tr>\n",
       "      <th>canton</th>\n",
       "      <th></th>\n",
       "      <th></th>\n",
       "      <th></th>\n",
       "      <th></th>\n",
       "      <th></th>\n",
       "    </tr>\n",
       "  </thead>\n",
       "  <tbody>\n",
       "    <tr>\n",
       "      <th>AG</th>\n",
       "      <td>2020-03-30</td>\n",
       "      <td>364</td>\n",
       "      <td>3</td>\n",
       "      <td>50</td>\n",
       "      <td>4</td>\n",
       "    </tr>\n",
       "    <tr>\n",
       "      <th>AI</th>\n",
       "      <td>2020-03-30</td>\n",
       "      <td>13</td>\n",
       "      <td>0</td>\n",
       "      <td>1</td>\n",
       "      <td>0</td>\n",
       "    </tr>\n",
       "    <tr>\n",
       "      <th>AR</th>\n",
       "      <td>2020-03-30</td>\n",
       "      <td>49</td>\n",
       "      <td>2</td>\n",
       "      <td>7</td>\n",
       "      <td>0</td>\n",
       "    </tr>\n",
       "    <tr>\n",
       "      <th>BE</th>\n",
       "      <td>2020-03-30</td>\n",
       "      <td>798</td>\n",
       "      <td>10</td>\n",
       "      <td>0</td>\n",
       "      <td>0</td>\n",
       "    </tr>\n",
       "    <tr>\n",
       "      <th>BL</th>\n",
       "      <td>2020-03-30</td>\n",
       "      <td>511</td>\n",
       "      <td>6</td>\n",
       "      <td>0</td>\n",
       "      <td>0</td>\n",
       "    </tr>\n",
       "  </tbody>\n",
       "</table>\n",
       "</div>"
      ],
      "text/plain": [
       "             date  ncumul_conf  ncumul_deceased  ncumul_hosp  ncumul_released\n",
       "canton                                                                       \n",
       "AG     2020-03-30          364                3           50                4\n",
       "AI     2020-03-30           13                0            1                0\n",
       "AR     2020-03-30           49                2            7                0\n",
       "BE     2020-03-30          798               10            0                0\n",
       "BL     2020-03-30          511                6            0                0"
      ]
     },
     "metadata": {},
     "output_type": "display_data"
    }
   ],
   "source": [
    "# Check results\n",
    "display(covid_by_canton.head())"
   ]
  },
  {
   "cell_type": "code",
   "execution_count": 156,
   "metadata": {
    "ExecuteTime": {
     "end_time": "2020-03-30T11:07:12.534693Z",
     "start_time": "2020-03-30T11:07:12.460911Z"
    }
   },
   "outputs": [],
   "source": [
    "# Group by date\n",
    "covid_by_date = pd.DataFrame(covid.groupby(\"date\").agg(sum))\n",
    "covid_by_date.drop(\"canton\", axis=1, inplace=True)  # Sum of str is useless ;-)"
   ]
  },
  {
   "cell_type": "code",
   "execution_count": 157,
   "metadata": {
    "ExecuteTime": {
     "end_time": "2020-03-30T11:07:13.218914Z",
     "start_time": "2020-03-30T11:07:13.203279Z"
    }
   },
   "outputs": [
    {
     "data": {
      "text/html": [
       "<div>\n",
       "<style scoped>\n",
       "    .dataframe tbody tr th:only-of-type {\n",
       "        vertical-align: middle;\n",
       "    }\n",
       "\n",
       "    .dataframe tbody tr th {\n",
       "        vertical-align: top;\n",
       "    }\n",
       "\n",
       "    .dataframe thead th {\n",
       "        text-align: right;\n",
       "    }\n",
       "</style>\n",
       "<table border=\"1\" class=\"dataframe\">\n",
       "  <thead>\n",
       "    <tr style=\"text-align: right;\">\n",
       "      <th></th>\n",
       "      <th>ncumul_conf</th>\n",
       "      <th>ncumul_deceased</th>\n",
       "      <th>ncumul_hosp</th>\n",
       "      <th>ncumul_released</th>\n",
       "    </tr>\n",
       "    <tr>\n",
       "      <th>date</th>\n",
       "      <th></th>\n",
       "      <th></th>\n",
       "      <th></th>\n",
       "      <th></th>\n",
       "    </tr>\n",
       "  </thead>\n",
       "  <tbody>\n",
       "    <tr>\n",
       "      <th>2020-03-26</th>\n",
       "      <td>12257</td>\n",
       "      <td>221</td>\n",
       "      <td>1428</td>\n",
       "      <td>474</td>\n",
       "    </tr>\n",
       "    <tr>\n",
       "      <th>2020-03-27</th>\n",
       "      <td>13483</td>\n",
       "      <td>247</td>\n",
       "      <td>1583</td>\n",
       "      <td>571</td>\n",
       "    </tr>\n",
       "    <tr>\n",
       "      <th>2020-03-28</th>\n",
       "      <td>14495</td>\n",
       "      <td>283</td>\n",
       "      <td>1692</td>\n",
       "      <td>627</td>\n",
       "    </tr>\n",
       "    <tr>\n",
       "      <th>2020-03-29</th>\n",
       "      <td>14897</td>\n",
       "      <td>300</td>\n",
       "      <td>1763</td>\n",
       "      <td>662</td>\n",
       "    </tr>\n",
       "    <tr>\n",
       "      <th>2020-03-30</th>\n",
       "      <td>14944</td>\n",
       "      <td>298</td>\n",
       "      <td>1763</td>\n",
       "      <td>673</td>\n",
       "    </tr>\n",
       "  </tbody>\n",
       "</table>\n",
       "</div>"
      ],
      "text/plain": [
       "            ncumul_conf  ncumul_deceased  ncumul_hosp  ncumul_released\n",
       "date                                                                  \n",
       "2020-03-26        12257              221         1428              474\n",
       "2020-03-27        13483              247         1583              571\n",
       "2020-03-28        14495              283         1692              627\n",
       "2020-03-29        14897              300         1763              662\n",
       "2020-03-30        14944              298         1763              673"
      ]
     },
     "metadata": {},
     "output_type": "display_data"
    }
   ],
   "source": [
    "# Check results (last five rows) - Note, the canton row was removed automatically\n",
    "display(covid_by_date.tail())"
   ]
  },
  {
   "cell_type": "code",
   "execution_count": 158,
   "metadata": {
    "ExecuteTime": {
     "end_time": "2020-03-30T11:11:17.982888Z",
     "start_time": "2020-03-30T11:11:17.954439Z"
    }
   },
   "outputs": [],
   "source": [
    "## Subset data"
   ]
  },
  {
   "cell_type": "markdown",
   "metadata": {},
   "source": [
    "### Slice (on col values, without using the index)\n",
    "\n",
    "- [Guide](https://datacarpentry.org/python-ecology-lesson/03-index-slice-subset/) on Indexing, Slicing and Subsetting DataFrames in Python"
   ]
  },
  {
   "cell_type": "code",
   "execution_count": 160,
   "metadata": {
    "ExecuteTime": {
     "end_time": "2020-03-30T11:16:26.945384Z",
     "start_time": "2020-03-30T11:16:26.929913Z"
    }
   },
   "outputs": [
    {
     "data": {
      "text/html": [
       "<div>\n",
       "<style scoped>\n",
       "    .dataframe tbody tr th:only-of-type {\n",
       "        vertical-align: middle;\n",
       "    }\n",
       "\n",
       "    .dataframe tbody tr th {\n",
       "        vertical-align: top;\n",
       "    }\n",
       "\n",
       "    .dataframe thead th {\n",
       "        text-align: right;\n",
       "    }\n",
       "</style>\n",
       "<table border=\"1\" class=\"dataframe\">\n",
       "  <thead>\n",
       "    <tr style=\"text-align: right;\">\n",
       "      <th></th>\n",
       "      <th>canton</th>\n",
       "      <th>date</th>\n",
       "      <th>ncumul_conf</th>\n",
       "      <th>ncumul_deceased</th>\n",
       "      <th>ncumul_hosp</th>\n",
       "      <th>ncumul_released</th>\n",
       "    </tr>\n",
       "  </thead>\n",
       "  <tbody>\n",
       "    <tr>\n",
       "      <th>0</th>\n",
       "      <td>AG</td>\n",
       "      <td>2020-02-25</td>\n",
       "      <td>0</td>\n",
       "      <td>0</td>\n",
       "      <td>0</td>\n",
       "      <td>0</td>\n",
       "    </tr>\n",
       "  </tbody>\n",
       "</table>\n",
       "</div>"
      ],
      "text/plain": [
       "  canton       date ncumul_conf ncumul_deceased ncumul_hosp ncumul_released\n",
       "0     AG 2020-02-25           0               0           0               0"
      ]
     },
     "metadata": {},
     "output_type": "display_data"
    }
   ],
   "source": [
    "# Remember covid dataframe structure\n",
    "display(covid.head(1))"
   ]
  },
  {
   "cell_type": "code",
   "execution_count": 166,
   "metadata": {
    "ExecuteTime": {
     "end_time": "2020-03-30T11:19:25.314702Z",
     "start_time": "2020-03-30T11:19:25.269171Z"
    }
   },
   "outputs": [
    {
     "name": "stdout",
     "output_type": "stream",
     "text": [
      "# rows for Zurich: 35.\n",
      "# rows for Mar, 20th: 26.\n"
     ]
    }
   ],
   "source": [
    "# Create a dataframe for data from canton Zurich\n",
    "covid_zh = covid.loc[covid[\"canton\"] == \"ZH\"]\n",
    "print(f\"# rows for Zurich: {len(covid_zh)}.\")\n",
    "\n",
    "# Create a dataframe with data for date 20-03-30\n",
    "covid_mrz = covid.loc[covid[\"date\"] == \"2020-03-30\"]\n",
    "print(f\"# rows for Mar, 20th: {len(covid_mrz)}.\")"
   ]
  },
  {
   "cell_type": "markdown",
   "metadata": {},
   "source": [
    "## Visualize data"
   ]
  },
  {
   "cell_type": "code",
   "execution_count": null,
   "metadata": {},
   "outputs": [],
   "source": [
    "..."
   ]
  }
 ],
 "metadata": {
  "hide_input": false,
  "kernelspec": {
   "display_name": "Python 3.7.3 64-bit ('base': conda)",
   "language": "python",
   "name": "python37364bitbasecondaa34ed14a59934aa391ffb3201d12ba33"
  },
  "language_info": {
   "codemirror_mode": {
    "name": "ipython",
    "version": 3
   },
   "file_extension": ".py",
   "mimetype": "text/x-python",
   "name": "python",
   "nbconvert_exporter": "python",
   "pygments_lexer": "ipython3",
   "version": "3.7.3"
  },
  "toc": {
   "base_numbering": 1,
   "nav_menu": {},
   "number_sections": true,
   "sideBar": false,
   "skip_h1_title": true,
   "title_cell": "Table of Contents",
   "title_sidebar": "Contents",
   "toc_cell": true,
   "toc_position": {},
   "toc_section_display": true,
   "toc_window_display": false
  }
 },
 "nbformat": 4,
 "nbformat_minor": 2
}
