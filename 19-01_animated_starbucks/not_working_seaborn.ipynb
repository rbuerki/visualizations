{
 "cells": [
  {
   "cell_type": "markdown",
   "metadata": {},
   "source": [
    "# NOT WORKING - The Animation Does not Appear\n",
    "\n",
    "This solution based on plotting with seaborn lineplot does not work properly ... There must be a way to get it going though, according to this [blogpost](https://towardsdatascience.com/how-to-create-animated-graphs-in-python-bb619cc2dec1).\n",
    "\n",
    "Prerequisite for writing the result to video: Install FFMPEG, see [here](https://www.wikihow.com/Install-FFmpeg-on-Windows).\n",
    "\n",
    "**Data Sources**\n",
    "\n",
    "- `data/transcript.json`: Interactions for 74'000 customers with the starbucks promo app over 28 days, recorded hourly. The data is from the Starbucks Segmentation Challenge and described there in greater detail.\n",
    "\n",
    "**Changes**\n",
    "\n",
    "- 2019-02-18: Start project\n",
    "\n"
   ]
  },
  {
   "cell_type": "markdown",
   "metadata": {},
   "source": [
    "---"
   ]
  },
  {
   "cell_type": "markdown",
   "metadata": {},
   "source": [
    "## Import libraries, load data"
   ]
  },
  {
   "cell_type": "code",
   "execution_count": 1,
   "metadata": {
    "ExecuteTime": {
     "end_time": "2019-02-28T14:16:51.966370Z",
     "start_time": "2019-02-28T14:16:49.581208Z"
    }
   },
   "outputs": [],
   "source": [
    "# Import libraries\n",
    "import numpy as np\n",
    "import pandas as pd\n",
    "from tqdm import tqdm\n",
    "\n",
    "# Visualization\n",
    "import matplotlib.pyplot as plt\n",
    "import seaborn as sns #, sns.set_style('whitegrid')\n",
    "color = 'rebeccapurple'\n",
    "# %matplotlib inline\n",
    "\n",
    "from matplotlib import animation, rc\n",
    "from IPython.display import HTML\n",
    "%matplotlib inline\n",
    "\n",
    "# Display settings\n",
    "# from IPython.display import display\n",
    "# pd.options.display.max_columns = 100"
   ]
  },
  {
   "cell_type": "code",
   "execution_count": 2,
   "metadata": {
    "ExecuteTime": {
     "end_time": "2019-02-28T14:16:56.197692Z",
     "start_time": "2019-02-28T14:16:52.387517Z"
    }
   },
   "outputs": [],
   "source": [
    "# Load data\n",
    "transcript_data = pd.read_json('data/transcript.json', orient='records', lines=True)"
   ]
  },
  {
   "cell_type": "code",
   "execution_count": 3,
   "metadata": {
    "ExecuteTime": {
     "end_time": "2019-02-28T14:16:57.104549Z",
     "start_time": "2019-02-28T14:16:57.067107Z"
    }
   },
   "outputs": [
    {
     "name": "stdout",
     "output_type": "stream",
     "text": [
      "306534\n"
     ]
    },
    {
     "data": {
      "text/html": [
       "<div>\n",
       "<style scoped>\n",
       "    .dataframe tbody tr th:only-of-type {\n",
       "        vertical-align: middle;\n",
       "    }\n",
       "\n",
       "    .dataframe tbody tr th {\n",
       "        vertical-align: top;\n",
       "    }\n",
       "\n",
       "    .dataframe thead th {\n",
       "        text-align: right;\n",
       "    }\n",
       "</style>\n",
       "<table border=\"1\" class=\"dataframe\">\n",
       "  <thead>\n",
       "    <tr style=\"text-align: right;\">\n",
       "      <th></th>\n",
       "      <th>event</th>\n",
       "      <th>person</th>\n",
       "      <th>time</th>\n",
       "      <th>value</th>\n",
       "    </tr>\n",
       "  </thead>\n",
       "  <tbody>\n",
       "    <tr>\n",
       "      <th>0</th>\n",
       "      <td>offer received</td>\n",
       "      <td>78afa995795e4d85b5d9ceeca43f5fef</td>\n",
       "      <td>0</td>\n",
       "      <td>{'offer id': '9b98b8c7a33c4b65b9aebfe6a799e6d9'}</td>\n",
       "    </tr>\n",
       "    <tr>\n",
       "      <th>1</th>\n",
       "      <td>offer received</td>\n",
       "      <td>a03223e636434f42ac4c3df47e8bac43</td>\n",
       "      <td>0</td>\n",
       "      <td>{'offer id': '0b1e1539f2cc45b7b9fa7c272da2e1d7'}</td>\n",
       "    </tr>\n",
       "    <tr>\n",
       "      <th>2</th>\n",
       "      <td>offer received</td>\n",
       "      <td>e2127556f4f64592b11af22de27a7932</td>\n",
       "      <td>0</td>\n",
       "      <td>{'offer id': '2906b810c7d4411798c6938adc9daaa5'}</td>\n",
       "    </tr>\n",
       "    <tr>\n",
       "      <th>3</th>\n",
       "      <td>offer received</td>\n",
       "      <td>8ec6ce2a7e7949b1bf142def7d0e0586</td>\n",
       "      <td>0</td>\n",
       "      <td>{'offer id': 'fafdcd668e3743c1bb461111dcafc2a4'}</td>\n",
       "    </tr>\n",
       "    <tr>\n",
       "      <th>4</th>\n",
       "      <td>offer received</td>\n",
       "      <td>68617ca6246f4fbc85e91a2a49552598</td>\n",
       "      <td>0</td>\n",
       "      <td>{'offer id': '4d5c57ea9a6940dd891ad53e9dbe8da0'}</td>\n",
       "    </tr>\n",
       "  </tbody>\n",
       "</table>\n",
       "</div>"
      ],
      "text/plain": [
       "            event                            person  time  \\\n",
       "0  offer received  78afa995795e4d85b5d9ceeca43f5fef     0   \n",
       "1  offer received  a03223e636434f42ac4c3df47e8bac43     0   \n",
       "2  offer received  e2127556f4f64592b11af22de27a7932     0   \n",
       "3  offer received  8ec6ce2a7e7949b1bf142def7d0e0586     0   \n",
       "4  offer received  68617ca6246f4fbc85e91a2a49552598     0   \n",
       "\n",
       "                                              value  \n",
       "0  {'offer id': '9b98b8c7a33c4b65b9aebfe6a799e6d9'}  \n",
       "1  {'offer id': '0b1e1539f2cc45b7b9fa7c272da2e1d7'}  \n",
       "2  {'offer id': '2906b810c7d4411798c6938adc9daaa5'}  \n",
       "3  {'offer id': 'fafdcd668e3743c1bb461111dcafc2a4'}  \n",
       "4  {'offer id': '4d5c57ea9a6940dd891ad53e9dbe8da0'}  "
      ]
     },
     "metadata": {},
     "output_type": "display_data"
    }
   ],
   "source": [
    "print(len(transcript_data))\n",
    "display(transcript_data.head())"
   ]
  },
  {
   "cell_type": "markdown",
   "metadata": {
    "ExecuteTime": {
     "end_time": "2019-02-26T15:55:37.745310Z",
     "start_time": "2019-02-26T15:55:37.742304Z"
    }
   },
   "source": [
    "## Prepare Data"
   ]
  },
  {
   "cell_type": "code",
   "execution_count": 4,
   "metadata": {
    "ExecuteTime": {
     "end_time": "2019-02-28T14:16:58.043477Z",
     "start_time": "2019-02-28T14:16:57.985228Z"
    }
   },
   "outputs": [
    {
     "data": {
      "text/html": [
       "<div>\n",
       "<style scoped>\n",
       "    .dataframe tbody tr th:only-of-type {\n",
       "        vertical-align: middle;\n",
       "    }\n",
       "\n",
       "    .dataframe tbody tr th {\n",
       "        vertical-align: top;\n",
       "    }\n",
       "\n",
       "    .dataframe thead th {\n",
       "        text-align: right;\n",
       "    }\n",
       "</style>\n",
       "<table border=\"1\" class=\"dataframe\">\n",
       "  <thead>\n",
       "    <tr style=\"text-align: right;\">\n",
       "      <th></th>\n",
       "      <th>time</th>\n",
       "    </tr>\n",
       "  </thead>\n",
       "  <tbody>\n",
       "    <tr>\n",
       "      <th>count</th>\n",
       "      <td>306534.000000</td>\n",
       "    </tr>\n",
       "    <tr>\n",
       "      <th>mean</th>\n",
       "      <td>366.382940</td>\n",
       "    </tr>\n",
       "    <tr>\n",
       "      <th>std</th>\n",
       "      <td>200.326314</td>\n",
       "    </tr>\n",
       "    <tr>\n",
       "      <th>min</th>\n",
       "      <td>0.000000</td>\n",
       "    </tr>\n",
       "    <tr>\n",
       "      <th>25%</th>\n",
       "      <td>186.000000</td>\n",
       "    </tr>\n",
       "    <tr>\n",
       "      <th>50%</th>\n",
       "      <td>408.000000</td>\n",
       "    </tr>\n",
       "    <tr>\n",
       "      <th>75%</th>\n",
       "      <td>528.000000</td>\n",
       "    </tr>\n",
       "    <tr>\n",
       "      <th>max</th>\n",
       "      <td>714.000000</td>\n",
       "    </tr>\n",
       "  </tbody>\n",
       "</table>\n",
       "</div>"
      ],
      "text/plain": [
       "                time\n",
       "count  306534.000000\n",
       "mean      366.382940\n",
       "std       200.326314\n",
       "min         0.000000\n",
       "25%       186.000000\n",
       "50%       408.000000\n",
       "75%       528.000000\n",
       "max       714.000000"
      ]
     },
     "execution_count": 4,
     "metadata": {},
     "output_type": "execute_result"
    }
   ],
   "source": [
    "transcript_data.describe()"
   ]
  },
  {
   "cell_type": "code",
   "execution_count": 5,
   "metadata": {
    "ExecuteTime": {
     "end_time": "2019-02-28T14:17:01.147069Z",
     "start_time": "2019-02-28T14:17:01.089456Z"
    }
   },
   "outputs": [
    {
     "data": {
      "text/plain": [
       "transaction        138953\n",
       "offer received      76277\n",
       "offer viewed        57725\n",
       "offer completed     33579\n",
       "Name: event, dtype: int64"
      ]
     },
     "execution_count": 5,
     "metadata": {},
     "output_type": "execute_result"
    }
   ],
   "source": [
    "transcript_data['event'].value_counts()"
   ]
  },
  {
   "cell_type": "code",
   "execution_count": 6,
   "metadata": {
    "ExecuteTime": {
     "end_time": "2019-02-28T14:17:02.090806Z",
     "start_time": "2019-02-28T14:17:02.051404Z"
    }
   },
   "outputs": [],
   "source": [
    "# Subset data\n",
    "transcript = pd.DataFrame(transcript_data.groupby(['time'])['event'].count()).reset_index()"
   ]
  },
  {
   "cell_type": "code",
   "execution_count": 7,
   "metadata": {
    "ExecuteTime": {
     "end_time": "2019-02-28T14:17:03.101787Z",
     "start_time": "2019-02-28T14:17:03.080530Z"
    }
   },
   "outputs": [
    {
     "name": "stdout",
     "output_type": "stream",
     "text": [
      "(120, 2)\n"
     ]
    },
    {
     "data": {
      "text/html": [
       "<div>\n",
       "<style scoped>\n",
       "    .dataframe tbody tr th:only-of-type {\n",
       "        vertical-align: middle;\n",
       "    }\n",
       "\n",
       "    .dataframe tbody tr th {\n",
       "        vertical-align: top;\n",
       "    }\n",
       "\n",
       "    .dataframe thead th {\n",
       "        text-align: right;\n",
       "    }\n",
       "</style>\n",
       "<table border=\"1\" class=\"dataframe\">\n",
       "  <thead>\n",
       "    <tr style=\"text-align: right;\">\n",
       "      <th></th>\n",
       "      <th>time</th>\n",
       "      <th>event</th>\n",
       "    </tr>\n",
       "  </thead>\n",
       "  <tbody>\n",
       "    <tr>\n",
       "      <th>0</th>\n",
       "      <td>0</td>\n",
       "      <td>15561</td>\n",
       "    </tr>\n",
       "    <tr>\n",
       "      <th>1</th>\n",
       "      <td>6</td>\n",
       "      <td>2506</td>\n",
       "    </tr>\n",
       "    <tr>\n",
       "      <th>2</th>\n",
       "      <td>12</td>\n",
       "      <td>2215</td>\n",
       "    </tr>\n",
       "    <tr>\n",
       "      <th>3</th>\n",
       "      <td>18</td>\n",
       "      <td>2015</td>\n",
       "    </tr>\n",
       "    <tr>\n",
       "      <th>4</th>\n",
       "      <td>24</td>\n",
       "      <td>1921</td>\n",
       "    </tr>\n",
       "  </tbody>\n",
       "</table>\n",
       "</div>"
      ],
      "text/plain": [
       "   time  event\n",
       "0     0  15561\n",
       "1     6   2506\n",
       "2    12   2215\n",
       "3    18   2015\n",
       "4    24   1921"
      ]
     },
     "metadata": {},
     "output_type": "display_data"
    }
   ],
   "source": [
    "# Check result\n",
    "assert np.sum(transcript['event']) == len(transcript_data)\n",
    "print(transcript.shape)\n",
    "display(transcript.head())"
   ]
  },
  {
   "cell_type": "code",
   "execution_count": 8,
   "metadata": {
    "ExecuteTime": {
     "end_time": "2019-02-28T14:17:05.423431Z",
     "start_time": "2019-02-28T14:17:04.961084Z"
    }
   },
   "outputs": [
    {
     "data": {
      "image/png": "[encoded data removed]",
      "text/plain": [
       "<Figure size 432x288 with 1 Axes>"
      ]
     },
     "metadata": {
      "needs_background": "light"
     },
     "output_type": "display_data"
    }
   ],
   "source": [
    "# Make static plot\n",
    "sns.lineplot(x='time', y='event', data=transcript, color=color);"
   ]
  },
  {
   "cell_type": "markdown",
   "metadata": {},
   "source": [
    "## Animate Plot"
   ]
  },
  {
   "cell_type": "markdown",
   "metadata": {},
   "source": [
    "Next: Create a figure. (Make sure to set the limits for the x and y axis so your animation doesn’t jump around with the range of the data currently displayed.)"
   ]
  },
  {
   "cell_type": "code",
   "execution_count": 9,
   "metadata": {
    "ExecuteTime": {
     "end_time": "2019-02-28T14:17:09.291033Z",
     "start_time": "2019-02-28T14:17:08.855578Z"
    }
   },
   "outputs": [
    {
     "data": {
      "image/png": "[encoded data removed]",
      "text/plain": [
       "<Figure size 720x432 with 1 Axes>"
      ]
     },
     "metadata": {
      "needs_background": "light"
     },
     "output_type": "display_data"
    }
   ],
   "source": [
    "fig = plt.figure(figsize=(10,6))\n",
    "plt.xlim(transcript['time'].min(), transcript['time'].max())\n",
    "plt.ylim(0, 18000)\n",
    "plt.xlabel('Hour',fontsize=20)\n",
    "plt.ylabel('Event',fontsize=20)\n",
    "plt.title('Events in Trial Period',fontsize=20);"
   ]
  },
  {
   "cell_type": "markdown",
   "metadata": {},
   "source": [
    "The heart piece of your animation is your animation function in which you define what happens in each frame of your video. Here i represents the index of the frame in the animation. With this index you can select the data range which should be visible in this frame. After doing that I use a seaborn lineplot to plot this data selection. The last two lines are just to make the plot look a bit more pleasing."
   ]
  },
  {
   "cell_type": "code",
   "execution_count": 10,
   "metadata": {
    "ExecuteTime": {
     "end_time": "2019-02-28T14:17:23.015050Z",
     "start_time": "2019-02-28T14:17:23.005693Z"
    }
   },
   "outputs": [],
   "source": [
    "def animate(i):\n",
    "    data = transcript.iloc[:i+1]  # select data range\n",
    "    sns.lineplot(x='time', y='event', data=data, color=color)\n",
    "\n",
    "#     # Style\n",
    "#     p.tick_params(labelsize=16)\n",
    "#     plt.setp(p.lines,linewidth=3)"
   ]
  },
  {
   "cell_type": "markdown",
   "metadata": {},
   "source": [
    "To start the animation use matplotlib.animation.FuncAnimation in which you link the animation function and define how many frames your animation should contain. frames therefore defines how often animate(i) is being called."
   ]
  },
  {
   "cell_type": "code",
   "execution_count": 11,
   "metadata": {
    "ExecuteTime": {
     "end_time": "2019-02-28T14:18:01.408353Z",
     "start_time": "2019-02-28T14:18:01.403247Z"
    }
   },
   "outputs": [],
   "source": [
    "anim = animation.FuncAnimation(fig, animate, frames=100)"
   ]
  },
  {
   "cell_type": "code",
   "execution_count": 12,
   "metadata": {
    "ExecuteTime": {
     "end_time": "2019-02-28T14:18:22.439537Z",
     "start_time": "2019-02-28T14:18:02.785664Z"
    }
   },
   "outputs": [
    {
     "data": {
      "text/html": [
       "<video width=\"720\" height=\"432\" controls autoplay loop>\n",
       "  <source type=\"video/mp4\" src=\"data:video/mp4;base64,AAAAHGZ0eXBNNFYgAAACAGlzb21pc28yYXZjMQAAAAhmcmVlAAAodW1kYXQAAAKtBgX//6ncRem9\n",
       "5tlIt5Ys2CDZI+7veDI2NCAtIGNvcmUgMTU3IHIyOTM1IDU0NWRlMmYgLSBILjI2NC9NUEVHLTQg\n",
       "QVZDIGNvZGVjIC0gQ29weWxlZnQgMjAwMy0yMDE4IC0gaHR0cDovL3d3dy52aWRlb2xhbi5vcmcv\n",
       "eDI2NC5odG1sIC0gb3B0aW9uczogY2FiYWM9MSByZWY9MyBkZWJsb2NrPTE6MDowIGFuYWx5c2U9\n",
       "MHgzOjB4MTEzIG1lPWhleCBzdWJtZT03IHBzeT0xIHBzeV9yZD0xLjAwOjAuMDAgbWl4ZWRfcmVm\n",
       "PTEgbWVfcmFuZ2U9MTYgY2hyb21hX21lPTEgdHJlbGxpcz0xIDh4OGRjdD0xIGNxbT0wIGRlYWR6\n",
       "b25lPTIxLDExIGZhc3RfcHNraXA9MSBjaHJvbWFfcXBfb2Zmc2V0PS0yIHRocmVhZHM9NiBsb29r\n",
       "YWhlYWRfdGhyZWFkcz0xIHNsaWNlZF90aHJlYWRzPTAgbnI9MCBkZWNpbWF0ZT0xIGludGVybGFj\n",
       "ZWQ9MCBibHVyYXlfY29tcGF0PTAgY29uc3RyYWluZWRfaW50cmE9MCBiZnJhbWVzPTMgYl9weXJh\n",
       "bWlkPTIgYl9hZGFwdD0xIGJfYmlhcz0wIGRpcmVjdD0xIHdlaWdodGI9MSBvcGVuX2dvcD0wIHdl\n",
       "aWdodHA9MiBrZXlpbnQ9MjUwIGtleWludF9taW49NSBzY2VuZWN1dD00MCBpbnRyYV9yZWZyZXNo\n",
       "PTAgcmNfbG9va2FoZWFkPTQwIHJjPWNyZiBtYnRyZWU9MSBjcmY9MjMuMCBxY29tcD0wLjYwIHFw\n",
       "bWluPTAgcXBtYXg9NjkgcXBzdGVwPTQgaXBfcmF0aW89MS40MCBhcT0xOjEuMDAAgAAAGspliIQA\n",
       "FP/+98dPwKbo+WbLnUU9ITCK2PpIKL1Y7NAydQAAAwAAAwAAAwAIR0OUf/RbTkZ8wmef/Y7W/EB8\n",
       "JSlJu2XTE1sjR4Lh0wXT1PZ9/LWVYE+OhU6+kGNuGE2zY5T/BoZVeW1wOzLxoGZvUUNxrWMeF0U4\n",
       "L7uERM29vp6ZhMNHOxvdWhL9CLND40GGuGESB8kiMGFUYgwbK1SoX7n0kmWDWnqi7JN16YGr0Qt8\n",
       "m8ucpSUEx9zV6FXsc3wUHAABPgRXuzodFnw04NIGpMfja7Aae6mrVs+PXxyQlNqaxMN+U1U9QkM0\n",
       "lLug9bof3gJab1u9j8xTmqXy+uEqzdkMjZYXodeu3XLYS6YnDDZCUzUnHqUoWC44584imvc0k4P8\n",
       "UkA4vsFS+CcfrzP3BgmrXrwWk68wy7atmiF1Dy8ExFBUCm6Mv5STesv7j4UAPQUlHFUNejM/PQgc\n",
       "aEv9BSobJY7NQeVGBR9xAS6Ze/1i48DTbvtzcpmlDwbhANmpglRaLtWUF0kGZxMfo3TWeuowfWXc\n",
       "WHWRANlbG9xrNmNyWf6J4ziU3IBaGT1XcFtHrBtXJEupS+X0o2MmIMST4XRiybR9aF7LSBqEc1r1\n",
       "pUmp09fUgU+I+SjcgiIUijUarn//UI9lrZdgvdEVC3mgZ1VYGIaYP34H94PI4GMmNu2atzfcUZvu\n",
       "Mj1HEyR5kDA4/rHnSO9Cq+Vz9Oy0Erp8X9J8g8F+JnGGIyEXsMC5Xfjfa/EfeViYeNca4V4nA8q7\n",
       "vwx+dBvzttAkH7jMCISA+wE+oWlNc2DjSXzWSEgApV/Q/iZrQU7nBIKKK8O9uPxBBQgIaLb5p8tR\n",
       "Ulv/kXdP9ZQLpvHbQjwUhfZhXL45GgQAk9pybgdzPJ8nz6iiS90pWh7flc0EctJCALkx8rKnNl3/\n",
       "PzOMJPlmDUUg6Bq7Hh8gT6FcbrOy91MG1fLG9E+HjiC/Oa2Go6OGWpZCCMQ09GG4QkSIVmqo5kcy\n",
       "/zzhe4kawDrvz7BD4gv77Pvg8rgaGvCyifI2I2f981zendbmFmDOQJ1C2R7HOOSZaEijCnYy941d\n",
       "FmmvaTnO1Hjco6HV1uvtaopOhKUNawOq792qpxOUQfDgLvU1B+Nip8pAPyaI572LsnrIiPyN0HQe\n",
       "KRjdTPu+ESkM91AbQcX7H7KWUWhHQxP7MOM3rxgcCT9HQQXyf6c4yVl0thF9TMEq5gjw8kAyqo7K\n",
       "CMlrMSIJmirzQOVBxoXrh8k7+ND6IcPzjfh0vI4tB8H2W/ooTkoZkgxFPONA+gVMtiMUcY2RK+q4\n",
       "S8zy/nZtuNZdj8TXsUVMso+HSKT3AdnH5fsC/KWOdvBAHypgLDDEx5A3hcCHh/SyKg48kKhgJTot\n",
       "VRAhlbgTS2Rkn4tPgF9cI8p8uaV0LU8L5v+Li0kvFy1nORNmUjngzmBEWPWte16+pt9ezVxbWJ/g\n",
       "3maj6GENW+vBns6yWloJzxA6/IywGEu/MJ9JFVHub7y11JUi/7E/3an4MoQr0MgxAaY56jxzU/Kr\n",
       "gz+qKKBWAc0rd1ydbTDZoCCDE9vdZkjQgcwPmddWCPNmJbGTna1usOYChyg/rzsIOXt8afFpZMIq\n",
       "Y8pxk3s5vczL4vc+8Eba1CqFHG1vn+pXCEkO02kOEUoesoNNzYWTx0O5CONPQ6F3Ohoxkx+c1R8X\n",
       "rueIYgJRivjwqOdcrAbWqwzN+xJqQKB/OzpfOrxlHn5ORI/4xsiKguDi3O3LbgBG+W4Z421hdleh\n",
       "iy0pXzRwRjU0uggS8MRYk3e30nBBqOWX1QG6iiePH7PldAl5ZFIES0HhiabVjyLPzcijkaStt1it\n",
       "5WQEmRwQfKf7O1qkKXVyycQ0R7YIfhlkJaISRphRzjxjQ3tVrBgnQdZBTbFUA3pyZQRW8hDPzh8j\n",
       "CyGvW0t0ZFSPpCsAYpH0Ju+d6zRgGwmH7G92mwPNdBHFdOjfjOwu+lvMc0Lwk9R4BwuJvqXz99vh\n",
       "4DLtKtjFT3lsvv3qzxX/hApN12PY22H7zmO/DtINRX5MY7ngXTtHhTT986RSM9dpuBt7ZbqrjLEw\n",
       "yVaFr2i0bnsd40V8h/4Dw7goSYBcGqlPKA6dZTaCs/uAOkMCeeOGBpDp168aOr//f/4QwluVIZBG\n",
       "wXrs2+PXihoGTxQSEZ/A88ZS5XEJMF+Ajx/u9rR0BGCdyJgL+KF3HvfVhOqxgioz2hX0P4yFu3J2\n",
       "t4d9ew89ho0hZvrsF/ZtGZT+mVnwlcAmKtQNlAVnXcEyFhqkHGEuYStUHJlo/Cpa4lRQu9eUD+me\n",
       "sZlSkEiqNkCREEMRBDnHB8TkrmVbJis6fKhKv5sAhGSzaJR6TSXcBk2JoruO1FVoCwSXWQx10OoT\n",
       "90nRs9myqS7G3TrS9NpSXxoiIgQrhfiFWir2wbmj3cHPFCtE22qNJnlmIpWgtAMoVOraIpD0shqg\n",
       "lHNzzrw+1HLofdZhT+URJZb1dYIZd4mHUfzGJeZnF9VioS48MoG+m/b6c8JQJtvWGSIbyZLuC2Ox\n",
       "A5tTvAnK5co6uKyNBZ5uNK3/VX6eVrRKpsYJoGXb2klQvWQXNcUYCMEWor2TQLCYEqKl3k6H4l8U\n",
       "A2ue1PJcJqM/F6cflK2SPCdUVXYppqy45mMbgIY7f+eZcoYTn3TnMAAxh5wW1H7b72SLluS4UrWa\n",
       "nh2/5g4r6wAARqN/SL2jFA5zu921brzFq15VZpj86UJCqNnaOdcjG/+5GTCDSze7cZ/RJ7aEkvKB\n",
       "G8PrgDBvyRqyi5mqk87CGWk/ORy3M9G++9Ri1TB/MYpR5iRVxJsvyikGO2bEsYijWay+bKpLpSv6\n",
       "nLOgj1Nzq4xMMBszbmeR6cB/ohuGdwUVtpRQtwJlKRfEFqTf+Dlfn6y3slnz2hIZDoc277req29Z\n",
       "TttCF0O26vDFDK4HcMngQKGoB2mxWnmweeKheqeDh2DkLUwd2KScjVmu1zbVdMvO8x99TAyV+dds\n",
       "ZnU8RP6qTsTc0UbDY8+Zumb2HaTE8oKuWTAAeQHmSApuUzOKTc0I+e7FmeJNuerKSoK3r0y8ATZy\n",
       "CXpQJlfl5w094Irv/+le8CD0kQfkjvrsAIFHo/4O0vj2bb1xsQvs9Qfuug26wsmb7a4E2lsiQrve\n",
       "vXxf1Eziq0t/6aw9yOmul8vbKACI92GZKrnMjrbGmgFp/XV+WVIdCicp0v1o5hlnfGdlfFIUrwjm\n",
       "AHCAul3VqBI7s1AbkddOinVF24dzP9y7w6/jd0RRQ/EvigG1zRxOsxtqI0E7GA3jSCXO/3715art\n",
       "2QigAvSMK7tAZPBRBZGuu9JPYsYAzdpwt1KkmiVm9YLWBaJqffWrbqVUo79Jl8v5nncE7MeXkB1l\n",
       "VCLkdxLjbBIi180fhnbtgo5G0vwIAaF8kMuI1x/RptAgQF9FKF6AMs56+YQPAlUlAcFK36B5qZHE\n",
       "D1+tMWdFH9mCO1qYN5L6cZ3mwAK3GqUi4RJOTcjlH/bRZsfu4WY3HLlAbIuOIpu9Sd33wiu6Ub3l\n",
       "cULEPVnRCD87f0UpjJrBbB+y25kbXh3TaVq/cnyfwOuohsjEZHLjaBw2TBUUd7a/Lg/MP8kyPKKE\n",
       "+Xy2TvFY9Nra4x0Wu7tau0/rxRaN0EjGeyvmI9i2yZKF4uK26yB9S62J1vQ6eCczI0lu0D0jihZh\n",
       "MqSkmYcQyx4vzvrHNYXA5ZE0a9ZqCOTZz1rrW52tZgLX5HUAG/4LOHoAgrim4yAC3/B8K72ET7ME\n",
       "sA8F1w1p8pH83vlwfopmbqE44BvNBWyFc1sQmmpitAWkfmCvn7tJqAHF7a93GiL2V4asV7QNvqwc\n",
       "poPHTNJM9N3g1cdgapbU0gep2NWioeifv/9WrOhZe4ylV5J/shMH52z9DsSp10fsUXQ470zTU1vn\n",
       "NXriYJg2eJNwwsupeWhoGXy5e44uN1tC+SLCoMttcb6NyftEowAPfCsdh841v6DZ25mEVwipMwUe\n",
       "X0RWeel98tLNpoIgYN0+8BexMjm/VHn3nbJbD1UUNQejMViIhY1im7UILW5h7TCVtiRp48pCRJq6\n",
       "rhmkdLhuCPqG0YF/D05sFHAFZ2XANv1in+F8nXKmWTZS2VnZe3bqJt5OjIgbm4lmXZPzH3uL7Mvw\n",
       "rXlNS+8eJuBq7iY1OI8NGeVCRubstgMZhv1UsVNFhiIBSl5aZJhx+NwDlOGM+WF6B97ueTWa3tIb\n",
       "c3PckEY/ftcKFUMBmI21OR+LQ5IV2p6TjoZZNJ12Axsz2Adp+nu4l7hIoKWhMmsfHC9PUXhaeOpP\n",
       "I/IqhjCvfkdW8vNfDSmEUC+3hmxzojzGQYxGaFXCbG4hczsArzG3HmIx45t9Bz4mxdT37q+oP8f3\n",
       "IikHgjvp12DPVcApg6OlL8ue33BDg0YS+/wmG380Lw5Ur/3efTkgAnagRTwy0jpW79gkQPfTVKEp\n",
       "lrYl0Pqfkn4a3gcV5Rym7HAq2+9y4xChcBiJSplxjJfrdRSRdWQdTx+0owqkqsvB5ATT8CSQbeuv\n",
       "LsFPoPbaIltmnk2+yCiA35xfGDdjzrOnhjWYg7/S0ZV17GR62ol3AWFdled6/zje8Qi3sWFLtCoA\n",
       "2Vmk9rfEME5aCRmuuucLyMy4XSgQhDklkP+1mCzgBnyxQOa1BEErvEXZcFlPP7NQzGDvV9lCVBK0\n",
       "VnwjoK1+LDSDqr7WBhDF8CFeTL0JEsgYS2UoDX1ePgkOxDLp5nVbV3Rkcc4i1ReznaxXUN9AXbFo\n",
       "U7jg24TIWR6MtgOAMA6DDYTpXJef8H4bfhTXsQOSzKlPx15kXagKN4SPs1M39c1cpoQYDYfGbWlX\n",
       "SGfET9q3A3zslTg5VPTIWpdgGloiyqwD00NwY37DTo3jlZcWk6uIYatFeSPDDMxTXkbJ3f9UNQmY\n",
       "G+OjQqk8WVjw81JXkz2TC3NEhEIVM0hL8YgsrFs7tHIZMuzfacETjfgIk35T6AgOn8UqwTpmuHCZ\n",
       "y7Pd2LUyFkEwZXYVZOyOso9TlDZieGVPSBWqaJFV6dEO9e2F+ugMMFG3WR/2lzaNdktLNcWMDDF1\n",
       "yNqoHzQ6qNzTECaBtIzH9JT6/twAS/Godr/2Mr9rYtk0z1+xo0TWX6bK7eoXSPgjI4mntYEKh6eL\n",
       "StKE0MQyh20DJBbIAx6XbeUpRcdWZKRq5slOOr2pd4N2GoVSBcLqRFkO/eaCpHNdX8r+PUMiNW4E\n",
       "iTitgAKPIwU5RI4wAj3NMvV2UvInLWxpf10Isc+DdG8fgHzYXAgNUcjn5p9GihqYR0Xuq+5kzQ5m\n",
       "UjBxLzxWLNXvnG51DKGfPtV+HUAvOts1T7UtdAAQVesBy4udf81hiOX/tn1UjFYQZ8nSjn0dTZDO\n",
       "DXevZlusQrk78OyFug/ILRDOzrYdKTwdFBgYUupEanvnxkfD2zA/dgrGiKRa6yCg8w7VvyheiOeH\n",
       "5jaZAPmHS946wpC5XEkDOXXK0qRbZ8pG/JUvDuwVD0nnzMyTMo2WbOVXDfKEVVpMKiz1T8hwVJ4t\n",
       "XYsgZlB6RrYvUpuFeJ5emy+PisbuA01pN0o5ZSBjCH08u32LiRDdyq9LCUMsnptibwWPU3gAEBsP\n",
       "CXM57BXGSL3CzJagaaK96xV93qIlwRfbSJfsbQRmCisRqKKGzxqTZpd0vieVUmdCADNRc+BUlifH\n",
       "XrYlBER5l7eGye+8TP3gnL4MFq+z2mopoATWviTcdfgyBCmb7D1qxmUp34qRxNguP87xmjHB7z93\n",
       "+8msLwbeZPREfD+Qpwlf7cvKMq0CyNYkoQdZdar5y7eUdU6f8xldW/FXrnuMyitmwI6D+1YQspUV\n",
       "e6I8UCkAFkPg1dE1odt35dMnvsnEmBXlijCxWXZk/vTPArCD71tWQTJScYfSJyL1sk9MVugiBY/C\n",
       "820Lr1VyZTHAk6Jl2tTbgMt/3mwxspM3spHSE+rt3mBal0MjRGms6jBuqfnX8h0wGyrcWbF4/+sU\n",
       "6NpF7YhbKcK2QE1vgfAO+XTdF66R9Xis9Raj/KyY1zySKa1Ix+GBh0pAr9+c8XoWSKnzTvKVSsqD\n",
       "tpU1mXXo/V8GEBUFvAAEYdvvo66oaLQQAy6ZNN+j49xBRfcUTxeBMisnYlDK6uKz5nPVSntwaH/s\n",
       "D7sa3/T7SQNWMNQdpccCezlBmb588+QckYpgscg8x7tfRoI6t7C2i28niGW898IN5dKt/ai0texl\n",
       "CBwrfxLBRwHUV348TebuW4AfKyiJCcCnCb0YtypsV3av9lYwCnI2YBvXng/rxGiok0ZodrJDIj2Z\n",
       "Y8VIPRi/yq8SPEzXg+tWTdtZtjT75Nn1K8DqInJkz5UHO8xUt3sE02bBzALbygm5Tm7Cy2OmYbad\n",
       "wxQvDbI8GKG39IvIaHfzWHc/gPcbPvM/v6HanzQZipjqeOwqTZprDPaCE9BytVG4jLZ8slhOPcTC\n",
       "W3cCW+lIvu1tvhjc57zGAAADADkoIacpwbWxFsa4u4Vk/Dcf/XRnM+A+2+Jg2rGWaHd+6rkdK1sM\n",
       "fqnm2IThGl43S4tvlcHKAsgb09j9f/M/0juBZhKM9tz5hHsY/VP93L3Sm/to8R1AtWnCmFngJLOf\n",
       "c5dKMX5S9OmcZanBAIftYvxlr4GLYvtHkhBNpqscDM0HiYSDEnTud9nWHUOCcyzNLmp1bzuZQWMS\n",
       "Oh0PPHPC1qek5MLzH7w7VjOuFCapSYwfLFeJ4QXaUjCIRK6poR6T3oPxx3UkwYaXks8nJxrZ2+7g\n",
       "dI8YpGbRxAHsBsg/muu4xhn/9cazzk5ANDKMxtM25kmazqCnjktPI0alLxjR1SZSpxbBSE50Faks\n",
       "SXzEfw9VqGY/QIUMF4hA4Rrx6IZ+5eB6uI5meMDNrhECSC0dquWERYn/1bu8x//V2tpf3f2apoyp\n",
       "SrB1Rv0wBr1etCiwxWu7zVBineP0m9gWn0fr+/QN97sCBi/54UXw0MmZBQJv4OG47lZoJNbZEFb4\n",
       "COnaTXRa+vpuTl104/jccMl4P6NdBFmax87BxO2HpkbKVW4nYOYDIsqZdtT0/kMvwT7ETSK1rVfF\n",
       "qHSQKvtEnrFipKR1zFIZxZZHGnOBBfVSO8AqjLW0rRP4j6qh1FmmhL6AXDb4Evdv0A+2M3s0InsA\n",
       "rObB3y1edmen6/xBbhfytcvwqpmJDzyjq2/zMy6kFIEDuKu8tq544sLWbGjXyYHv3h0wmbUKWTY3\n",
       "an5Y44Uq0sLyBceSe1zdQ0EjKhsncIuM0J3ak00/AYDuR8Evyy2puK6hPybSpDX7QlaE02i+2aLQ\n",
       "/x3sXqmAiKNQvAFdTm7cG6OGEUyKRp3wepMzRcAo5j/Al6YMGx1JN8TCq+smhRGw2hrTVrRiPnG/\n",
       "VyXIllL/j3PYp8/+R+I/knal+fU/hXRj5PwZLgqvtZYWOISvYVeDr5VEehY7gWKvTaaTxT40dZIc\n",
       "EtiBl5se51Dbg6jIYBAl2Aht+qYjZIdVqZPTXtoGysFz1g05Fv2axL6WXvnQaZWjy/swkTIJphl+\n",
       "emnC1lvxXW6+xjV+3qoCIid6WAptpMVtZGdK4ySI5s8sfDJNdJqTTDRkQ1ndhrJmiTVi7xE4L5IR\n",
       "M60vpeCGzd6L1VAYvdE31Empp4hWNgjnUZkg7aSodQbQ4CYOc093Ise6VCEs8avoioPjfdfDGn21\n",
       "cHKWHBfB15XuH0R1C8P8mFAv5itzd4VhyS0s71MRJD6CtX5+VvaWhPNDosA4mPxSgQAQp40y/Pwd\n",
       "xUe+qIC7Pkf6TUn9+zRpv33lgho+QNHYeZqFwPLRULC9JY0tsCVio7W5Xv89Bm/3rEj7tNSOlgWG\n",
       "8CDevm1UUQlkdbwXi00+IO6NizJzvb1bzGcJl+UHAB1EALJEaMPAln3SQYNFUSZJmZgDz3xcZ4km\n",
       "gqyn0lkg0t35hNZ4opDJgKnzknpCzVjFNrelHMSdkjkl+vGOQ9TKv39B29SoFV+ap7ZbjOrGGq/2\n",
       "zlPH0WHLiP+EVUTe6Bi8BKRdDT2ewdz8NtwXljHwcpdRt/zjCxsPYLEzW4DGVfcHTZn/U+WaByPg\n",
       "qm5ljMU7Tgx2TRrNDh+0iE5C11HRi+/VifCxz/DIgUEBJlhldT7at1y4pMj01hRZsRlyPyD3Jh2F\n",
       "yjSBzzsXAwbNoi82OmPHcSYMK2hyAM+zStziksuDx1dt5/KNh5XqxVULszcO5RH6TeFwiWBpMjsG\n",
       "AxfyX+TjHllVolVNrwFWlIA7kDbUdSmH75/hFgYujf2T41urcmclvi4b862Vq3OsFQa+RxrK5f+/\n",
       "C9mboJlxiHe3wRmvt5E4H1w4PCeid9fBGJfVd6N+Rh8G97kRFYZ3k8Uatk29juuNDHM9XtJlok0d\n",
       "f74auHxzsmT/NgPrcdSOo7u7/+1GSYq7AuHDB58zHgn/mVKZBFyHz41gMH/4p4S42JktXP1lL+9v\n",
       "00ERt2w24YfpVTflQ/dDdxJuphMc7HPSmj3NioyqJ1eACFsV306Hn+VQ6adxS/mhS3PCHZyRIQk2\n",
       "EmxYbcIVkk9o4F/ESt8LdWDaKbcKaHHna6L8HwwWeuLG/twJkPdDgKMMLE34oNrrPS4Qv6GXzEDo\n",
       "v3XZEFEEDiWoAQRsHZ/pAMx9AvgrzNnHSjcp3rqegzwH7tq2zWSsUYSCY+sil96M82QQVQELchKD\n",
       "atOeJH4eP/tWTJuILu9se5T+yyoj1MqoAAAGNnX4LfqnfskSSNfBWpQf3U6YBfBh8aY48CX5yjJU\n",
       "kta/FbXxXTdC50d7nRdvbshcDsTcq+ZAv4x5+l7W/gdliXK0meNkq89/goJOFOg5b74hCS9bvXh9\n",
       "2vrFRa96PRfSYT2K13QlNeMRTidVXuoSZSYOZ7Yp02XFBOnSpQPFVDEYNZGourC9tejywceh40ib\n",
       "Y2g9R+FiP/jz4BfT3hjQzTmEu1x4ahI+U+sSZUf+/x1qhglZB6lrrw3rnTx4t2wVg5p0F1af495z\n",
       "LgPJJKrtLbiILerqWCMxkhEafXZVhyTUNpVfhQwdi6GIoG3HvPSLe0ON92cm52MckB5edaElN2OE\n",
       "SF2EQE+c6dGyxFDWRNtFm2h2wy0m34KGpIYeun6DDIEv+bqJRA5+FxSGtdcbD2RWPaMw2dO70b4N\n",
       "beGSe72zDZUd7yCTTmO2a5iXdmQqA6zwzCN3+TJJtJrezUbzpWNuihy2MlRRMb08Y2071nLNvkeB\n",
       "7LD9dlxdoAAAHf4bTXkAAADvQZokbEFP/taMsAHddgaADiLOe6tkbTiZ7OW7hidVuR5/0/1FZ0/t\n",
       "l+luH+i624F5ePbmq3/yBSftcsTdrYH7URW1cQa0vRsBj/a7rrElanAVxFUHwI7If/TAZ1hL3n2z\n",
       "pWi+K/hO+9VWIoGbSbpzGllwxbyI2x3Mlcu3INwZgWnJ7bdO6N1ygxXS5pfF1JCnkP1kkZAVJkoT\n",
       "NGMawxKQHQ32/N+Tl3wjbexelEGB+2ZAotbovSbVMweQVaaFxEKBVkwnA5RduzQt0G4YAng2mH5t\n",
       "9mrIhMF6xJxZAdwVImrTKHbaNlOEApW2iRLEFFAAAAAlQZ5CeIIfAAjqH7bfFuSj5iAuauiWxzGc\n",
       "kV/gAgis265Uv3jqaQAAACQBnmF0Q/8AE+Fx68cVwcRwVjEh4rMAghYqABY7zO4DmR/O3zAAAAAS\n",
       "AZ5jakP/AAADADy9j5IAACmhAAAAIUGaaEmoQWiZTAgp//7WjLAA3m57YADY+M+SAAADAAAZUQAA\n",
       "ABlBnoZFESwQ/wAAAwAbnVNAAAA5+SmWjMNnAAAAEgGepXRD/wAAAwA8tfGTAAAyoQAAABIBnqdq\n",
       "Q/8AAAMAPL2PkgAAKaAAAAAaQZqsSahBbJlMCCn//taMsAAAAwAAAwAA+4AAAAAZQZ7KRRUsEP8A\n",
       "AAMAG51TQAAAOfkplozDZwAAABIBnul0Q/8AAAMAPLXxkwAAMqAAAAASAZ7rakP/AAADADy9j5IA\n",
       "ACmgAAAAGkGa8EmoQWyZTAgp//7WjLAAAAMAAAMAAPuBAAAAGUGfDkUVLBD/AAADABudU0AAADn5\n",
       "KZaMw2cAAAASAZ8tdEP/AAADADy18ZMAADKhAAAAEgGfL2pD/wAAAwA8vY+SAAApoAAAABpBmzRJ\n",
       "qEFsmUwIKf/+1oywAAADAAADAAD7gAAAABlBn1JFFSwQ/wAAAwAbnVNAAAA5+SmWjMNnAAAAEgGf\n",
       "cXRD/wAAAwA8tfGTAAAyoAAAABIBn3NqQ/8AAAMAPL2PkgAAKaAAAAAaQZt4SahBbJlMCCn//taM\n",
       "sAAAAwAAAwAA+4EAAAAZQZ+WRRUsEP8AAAMAG51TQAAAOfkplozDZgAAABIBn7V0Q/8AAAMAPLXx\n",
       "kwAAMqEAAAASAZ+3akP/AAADADy9j5IAACmhAAAAGkGbvEmoQWyZTAgp//7WjLAAAAMAAAMAAPuA\n",
       "AAAAGUGf2kUVLBD/AAADABudU0AAADn5KZaMw2cAAAASAZ/5dEP/AAADADy18ZMAADKgAAAAEgGf\n",
       "+2pD/wAAAwA8vY+SAAApoQAAABpBm+BJqEFsmUwIKf/+1oywAAADAAADAAD7gQAAABlBnh5FFSwQ\n",
       "/wAAAwAbnVNAAAA5+SmWjMNmAAAAEgGePXRD/wAAAwA8tfGTAAAyoAAAABIBnj9qQ/8AAAMAPL2P\n",
       "kgAAKaEAAAAaQZokSahBbJlMCCn//taMsAAAAwAAAwAA+4AAAAAZQZ5CRRUsEP8AAAMAG51TQAAA\n",
       "OfkplozDZwAAABIBnmF0Q/8AAAMAPLXxkwAAMqAAAAASAZ5jakP/AAADADy9j5IAACmhAAAAGkGa\n",
       "aEmoQWyZTAgp//7WjLAAAAMAAAMAAPuBAAAAGUGehkUVLBD/AAADABudU0AAADn5KZaMw2cAAAAS\n",
       "AZ6ldEP/AAADADy18ZMAADKhAAAAEgGep2pD/wAAAwA8vY+SAAApoAAAABpBmqxJqEFsmUwIKf/+\n",
       "1oywAAADAAADAAD7gAAAABlBnspFFSwQ/wAAAwAbnVNAAAA5+SmWjMNnAAAAEgGe6XRD/wAAAwA8\n",
       "tfGTAAAyoAAAABIBnutqQ/8AAAMAPL2PkgAAKaAAAAAaQZrwSahBbJlMCCn//taMsAAAAwAAAwAA\n",
       "+4EAAAAZQZ8ORRUsEP8AAAMAG51TQAAAOfkplozDZwAAABIBny10Q/8AAAMAPLXxkwAAMqEAAAAS\n",
       "AZ8vakP/AAADADy9j5IAACmgAAAAGkGbNEmoQWyZTAgp//7WjLAAAAMAAAMAAPuAAAAAGUGfUkUV\n",
       "LBD/AAADABudU0AAADn5KZaMw2cAAAASAZ9xdEP/AAADADy18ZMAADKgAAAAEgGfc2pD/wAAAwA8\n",
       "vY+SAAApoAAAABpBm3hJqEFsmUwIKf/+1oywAAADAAADAAD7gQAAABlBn5ZFFSwQ/wAAAwAbnVNA\n",
       "AAA5+SmWjMNmAAAAEgGftXRD/wAAAwA8tfGTAAAyoQAAABIBn7dqQ/8AAAMAPL2PkgAAKaEAAAAa\n",
       "QZu8SahBbJlMCCn//taMsAAAAwAAAwAA+4AAAAAZQZ/aRRUsEP8AAAMAG51TQAAAOfkplozDZwAA\n",
       "ABIBn/l0Q/8AAAMAPLXxkwAAMqAAAAASAZ/7akP/AAADADy9j5IAACmhAAAAGkGb4EmoQWyZTAgp\n",
       "//7WjLAAAAMAAAMAAPuBAAAAGUGeHkUVLBD/AAADABudU0AAADn5KZaMw2YAAAASAZ49dEP/AAAD\n",
       "ADy18ZMAADKgAAAAEgGeP2pD/wAAAwA8vY+SAAApoQAAABpBmiRJqEFsmUwIKf/+1oywAAADAAAD\n",
       "AAD7gAAAABlBnkJFFSwQ/wAAAwAbnVNAAAA5+SmWjMNnAAAAEgGeYXRD/wAAAwA8tfGTAAAyoAAA\n",
       "ABIBnmNqQ/8AAAMAPL2PkgAAKaEAAAAaQZpoSahBbJlMCCn//taMsAAAAwAAAwAA+4EAAAAZQZ6G\n",
       "RRUsEP8AAAMAG51TQAAAOfkplozDZwAAABIBnqV0Q/8AAAMAPLXxkwAAMqEAAAASAZ6nakP/AAAD\n",
       "ADy9j5IAACmgAAAAGkGarEmoQWyZTAgp//7WjLAAAAMAAAMAAPuAAAAAGUGeykUVLBD/AAADABud\n",
       "U0AAADn5KZaMw2cAAAASAZ7pdEP/AAADADy18ZMAADKgAAAAEgGe62pD/wAAAwA8vY+SAAApoAAA\n",
       "ABpBmvBJqEFsmUwIKf/+1oywAAADAAADAAD7gQAAABlBnw5FFSwQ/wAAAwAbnVNAAAA5+SmWjMNn\n",
       "AAAAEgGfLXRD/wAAAwA8tfGTAAAyoQAAABIBny9qQ/8AAAMAPL2PkgAAKaAAAAAZQZs0SahBbJlM\n",
       "CCf//rUqgAAAAwAAAwAD1gAAABlBn1JFFSwQ/wAAAwAbnVNAAAA5+SmWjMNnAAAAEgGfcXRD/wAA\n",
       "AwA8tfGTAAAyoAAAABIBn3NqQ/8AAAMAPL2PkgAAKaAAAAAZQZt4SahBbJlMCCf//rUqgAAAAwAA\n",
       "AwAD1wAAABlBn5ZFFSwQ/wAAAwAbnVNAAAA5+SmWjMNmAAAAEgGftXRD/wAAAwA8tfGTAAAyoQAA\n",
       "ABIBn7dqQ/8AAAMAPL2PkgAAKaEAAAAZQZu8SahBbJlMCCf//rUqgAAAAwAAAwAD1gAAABlBn9pF\n",
       "FSwQ/wAAAwAbnVNAAAA5+SmWjMNnAAAAEgGf+XRD/wAAAwA8tfGTAAAyoAAAABIBn/tqQ/8AAAMA\n",
       "PL2PkgAAKaEAAAAZQZvgSahBbJlMCCX//rUqgAAAAwAAAwAD1wAAABlBnh5FFSwQ/wAAAwAbnVNA\n",
       "AAA5+SmWjMNmAAAAEgGePXRD/wAAAwA8tfGTAAAyoAAAABIBnj9qQ/8AAAMAPL2PkgAAKaEAAAAZ\n",
       "QZojSahBbJlMCH///qmWAAADAAADAAAeEAAAABlBnkFFFSwQ/wAAAwAbnVNAAAA5+SmWjMNnAAAA\n",
       "EgGeYmpD/wAAAwA8vY+SAAApoAAAB9Ztb292AAAAbG12aGQAAAAAAAAAAAAAAAAAAAPoAABOIAAB\n",
       "AAABAAAAAAAAAAAAAAAAAQAAAAAAAAAAAAAAAAAAAAEAAAAAAAAAAAAAAAAAAEAAAAAAAAAAAAAA\n",
       "AAAAAAAAAAAAAAAAAAAAAAAAAAACAAAHAHRyYWsAAABcdGtoZAAAAAMAAAAAAAAAAAAAAAEAAAAA\n",
       "AABOIAAAAAAAAAAAAAAAAAAAAAAAAQAAAAAAAAAAAAAAAAAAAAEAAAAAAAAAAAAAAAAAAEAAAAAC\n",
       "0AAAAbAAAAAAACRlZHRzAAAAHGVsc3QAAAAAAAAAAQAATiAAABAAAAEAAAAABnhtZGlhAAAAIG1k\n",
       "aGQAAAAAAAAAAAAAAAAAACgAAAMgAFXEAAAAAAAtaGRscgAAAAAAAAAAdmlkZQAAAAAAAAAAAAAA\n",
       "AFZpZGVvSGFuZGxlcgAAAAYjbWluZgAAABR2bWhkAAAAAQAAAAAAAAAAAAAAJGRpbmYAAAAcZHJl\n",
       "ZgAAAAAAAAABAAAADHVybCAAAAABAAAF43N0YmwAAACzc3RzZAAAAAAAAAABAAAAo2F2YzEAAAAA\n",
       "AAAAAQAAAAAAAAAAAAAAAAAAAAAC0AGwAEgAAABIAAAAAAAAAAEAAAAAAAAAAAAAAAAAAAAAAAAA\n",
       "AAAAAAAAAAAAAAAAAAAY//8AAAAxYXZjQwFkABb/4QAYZ2QAFqzZQLQ3oQAAAwABAAADAAoPFi2W\n",
       "AQAGaOvjyyLAAAAAHHV1aWRraEDyXyRPxbo5pRvPAyPzAAAAAAAAABhzdHRzAAAAAAAAAAEAAABk\n",
       "AAAIAAAAABRzdHNzAAAAAAAAAAEAAAABAAADKGN0dHMAAAAAAAAAYwAAAAEAABAAAAAAAQAAKAAA\n",
       "AAABAAAQAAAAAAEAAAAAAAAAAQAACAAAAAABAAAoAAAAAAEAABAAAAAAAQAAAAAAAAABAAAIAAAA\n",
       "AAEAACgAAAAAAQAAEAAAAAABAAAAAAAAAAEAAAgAAAAAAQAAKAAAAAABAAAQAAAAAAEAAAAAAAAA\n",
       "AQAACAAAAAABAAAoAAAAAAEAABAAAAAAAQAAAAAAAAABAAAIAAAAAAEAACgAAAAAAQAAEAAAAAAB\n",
       "AAAAAAAAAAEAAAgAAAAAAQAAKAAAAAABAAAQAAAAAAEAAAAAAAAAAQAACAAAAAABAAAoAAAAAAEA\n",
       "ABAAAAAAAQAAAAAAAAABAAAIAAAAAAEAACgAAAAAAQAAEAAAAAABAAAAAAAAAAEAAAgAAAAAAQAA\n",
       "KAAAAAABAAAQAAAAAAEAAAAAAAAAAQAACAAAAAABAAAoAAAAAAEAABAAAAAAAQAAAAAAAAABAAAI\n",
       "AAAAAAEAACgAAAAAAQAAEAAAAAABAAAAAAAAAAEAAAgAAAAAAQAAKAAAAAABAAAQAAAAAAEAAAAA\n",
       "AAAAAQAACAAAAAABAAAoAAAAAAEAABAAAAAAAQAAAAAAAAABAAAIAAAAAAEAACgAAAAAAQAAEAAA\n",
       "AAABAAAAAAAAAAEAAAgAAAAAAQAAKAAAAAABAAAQAAAAAAEAAAAAAAAAAQAACAAAAAABAAAoAAAA\n",
       "AAEAABAAAAAAAQAAAAAAAAABAAAIAAAAAAEAACgAAAAAAQAAEAAAAAABAAAAAAAAAAEAAAgAAAAA\n",
       "AQAAKAAAAAABAAAQAAAAAAEAAAAAAAAAAQAACAAAAAABAAAoAAAAAAEAABAAAAAAAQAAAAAAAAAB\n",
       "AAAIAAAAAAEAACgAAAAAAQAAEAAAAAABAAAAAAAAAAEAAAgAAAAAAQAAKAAAAAABAAAQAAAAAAEA\n",
       "AAAAAAAAAQAACAAAAAABAAAoAAAAAAEAABAAAAAAAQAAAAAAAAABAAAIAAAAAAEAACgAAAAAAQAA\n",
       "EAAAAAABAAAAAAAAAAEAAAgAAAAAAQAAIAAAAAACAAAIAAAAABxzdHNjAAAAAAAAAAEAAAABAAAA\n",
       "ZAAAAAEAAAGkc3RzegAAAAAAAAAAAAAAZAAAHX8AAADzAAAAKQAAACgAAAAWAAAAJQAAAB0AAAAW\n",
       "AAAAFgAAAB4AAAAdAAAAFgAAABYAAAAeAAAAHQAAABYAAAAWAAAAHgAAAB0AAAAWAAAAFgAAAB4A\n",
       "AAAdAAAAFgAAABYAAAAeAAAAHQAAABYAAAAWAAAAHgAAAB0AAAAWAAAAFgAAAB4AAAAdAAAAFgAA\n",
       "ABYAAAAeAAAAHQAAABYAAAAWAAAAHgAAAB0AAAAWAAAAFgAAAB4AAAAdAAAAFgAAABYAAAAeAAAA\n",
       "HQAAABYAAAAWAAAAHgAAAB0AAAAWAAAAFgAAAB4AAAAdAAAAFgAAABYAAAAeAAAAHQAAABYAAAAW\n",
       "AAAAHgAAAB0AAAAWAAAAFgAAAB4AAAAdAAAAFgAAABYAAAAeAAAAHQAAABYAAAAWAAAAHgAAAB0A\n",
       "AAAWAAAAFgAAAB0AAAAdAAAAFgAAABYAAAAdAAAAHQAAABYAAAAWAAAAHQAAAB0AAAAWAAAAFgAA\n",
       "AB0AAAAdAAAAFgAAABYAAAAdAAAAHQAAABYAAAAUc3RjbwAAAAAAAAABAAAALAAAAGJ1ZHRhAAAA\n",
       "Wm1ldGEAAAAAAAAAIWhkbHIAAAAAAAAAAG1kaXJhcHBsAAAAAAAAAAAAAAAALWlsc3QAAAAlqXRv\n",
       "bwAAAB1kYXRhAAAAAQAAAABMYXZmNTguMjYuMTAx\n",
       "\">\n",
       "  Your browser does not support the video tag.\n",
       "</video>"
      ],
      "text/plain": [
       "<IPython.core.display.HTML object>"
      ]
     },
     "execution_count": 12,
     "metadata": {},
     "output_type": "execute_result"
    },
    {
     "data": {
      "image/png": "[encoded data removed]",
      "text/plain": [
       "<Figure size 432x288 with 1 Axes>"
      ]
     },
     "metadata": {
      "needs_background": "light"
     },
     "output_type": "display_data"
    }
   ],
   "source": [
    "HTML(anim.to_html5_video())"
   ]
  },
  {
   "cell_type": "markdown",
   "metadata": {},
   "source": [
    "## Write to video file"
   ]
  },
  {
   "cell_type": "markdown",
   "metadata": {},
   "source": [
    "Next: Initialize a writer which uses ffmpeg and records at 20 fps with a bitrate of 1800. (You can of course pick these values yourself.)"
   ]
  },
  {
   "cell_type": "code",
   "execution_count": 13,
   "metadata": {
    "ExecuteTime": {
     "end_time": "2019-02-28T13:52:45.013990Z",
     "start_time": "2019-02-28T13:52:44.995136Z"
    }
   },
   "outputs": [
    {
     "name": "stdout",
     "output_type": "stream",
     "text": [
      "animation writers: ['pillow', 'ffmpeg', 'ffmpeg_file', 'html']\n"
     ]
    }
   ],
   "source": [
    "# Check available writers\n",
    "print('animation writers:', animation.writers.list())"
   ]
  },
  {
   "cell_type": "code",
   "execution_count": 14,
   "metadata": {
    "ExecuteTime": {
     "end_time": "2019-02-28T13:52:45.025624Z",
     "start_time": "2019-02-28T13:52:45.018370Z"
    }
   },
   "outputs": [],
   "source": [
    "# Initialize Writer Object\n",
    "Writer = animation.writers['ffmpeg']\n",
    "writer = Writer(fps=20, metadata=dict(artist='Me'), bitrate=1800)"
   ]
  },
  {
   "cell_type": "code",
   "execution_count": 15,
   "metadata": {
    "ExecuteTime": {
     "end_time": "2019-02-28T13:53:08.278332Z",
     "start_time": "2019-02-28T13:52:45.028441Z"
    }
   },
   "outputs": [
    {
     "data": {
      "image/png": "[encoded data removed]",
      "text/plain": [
       "<Figure size 432x288 with 1 Axes>"
      ]
     },
     "metadata": {
      "needs_background": "light"
     },
     "output_type": "display_data"
    }
   ],
   "source": [
    "# Save to mp4\n",
    "anim.save('events.mp4', writer=writer)"
   ]
  },
  {
   "cell_type": "markdown",
   "metadata": {},
   "source": [
    "### Write to GIF"
   ]
  },
  {
   "cell_type": "code",
   "execution_count": 16,
   "metadata": {
    "ExecuteTime": {
     "end_time": "2019-02-28T13:53:08.289627Z",
     "start_time": "2019-02-28T13:53:08.281872Z"
    }
   },
   "outputs": [],
   "source": [
    "# # Create gif from animation (uses ImageMagick)\n",
    "# gif_path = './gradient_descent.gif'\n",
    "# anim.save('./gradient_descent.gif', writer='imagemagick', fps=1000/800)\n",
    "# Image(url=gif_path)"
   ]
  },
  {
   "cell_type": "markdown",
   "metadata": {},
   "source": [
    "---"
   ]
  },
  {
   "cell_type": "markdown",
   "metadata": {},
   "source": [
    "# Plot different events separately"
   ]
  },
  {
   "cell_type": "code",
   "execution_count": 17,
   "metadata": {
    "ExecuteTime": {
     "end_time": "2019-02-28T13:53:08.310158Z",
     "start_time": "2019-02-28T13:53:08.292665Z"
    }
   },
   "outputs": [],
   "source": [
    "# transcript_received = transcript_data.loc[transcript_data['event'] == 'offer received']\n",
    "# transcript_transaction = transcript_data.loc[transcript_data['event'] == 'transaction']\n",
    "# transcript_completed = transcript_data.loc[transcript_data['event'] == 'offer completed']\n",
    "# transcript_viewed = transcript_data.loc[transcript_data['event'] == 'offer viewed']"
   ]
  },
  {
   "cell_type": "markdown",
   "metadata": {},
   "source": [
    "unfinished \n",
    "\n",
    "---"
   ]
  }
 ],
 "metadata": {
  "hide_input": false,
  "kernelspec": {
   "display_name": "Python [conda env:Anaconda3]",
   "language": "python",
   "name": "conda-env-Anaconda3-py"
  },
  "language_info": {
   "codemirror_mode": {
    "name": "ipython",
    "version": 3
   },
   "file_extension": ".py",
   "mimetype": "text/x-python",
   "name": "python",
   "nbconvert_exporter": "python",
   "pygments_lexer": "ipython3",
   "version": "3.6.3"
  },
  "toc": {
   "base_numbering": 1,
   "nav_menu": {},
   "number_sections": true,
   "sideBar": true,
   "skip_h1_title": false,
   "title_cell": "Table of Contents",
   "title_sidebar": "Contents",
   "toc_cell": false,
   "toc_position": {},
   "toc_section_display": true,
   "toc_window_display": false
  },
  "varInspector": {
   "cols": {
    "lenName": 16,
    "lenType": 16,
    "lenVar": 40
   },
   "kernels_config": {
    "python": {
     "delete_cmd_postfix": "",
     "delete_cmd_prefix": "del ",
     "library": "var_list.py",
     "varRefreshCmd": "print(var_dic_list())"
    },
    "r": {
     "delete_cmd_postfix": ") ",
     "delete_cmd_prefix": "rm(",
     "library": "var_list.r",
     "varRefreshCmd": "cat(var_dic_list()) "
    }
   },
   "types_to_exclude": [
    "module",
    "function",
    "builtin_function_or_method",
    "instance",
    "_Feature"
   ],
   "window_display": false
  }
 },
 "nbformat": 4,
 "nbformat_minor": 2
}
