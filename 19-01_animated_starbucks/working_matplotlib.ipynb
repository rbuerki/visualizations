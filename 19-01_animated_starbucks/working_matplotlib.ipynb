{
 "cells": [
  {
   "cell_type": "markdown",
   "metadata": {
    "toc": true
   },
   "source": [
    "<h1>Table of Contents<span class=\"tocSkip\"></span></h1>\n",
    "<div class=\"toc\"><ul class=\"toc-item\"><li><span><a href=\"#Import-libraries,-load-data\" data-toc-modified-id=\"Import-libraries,-load-data-1\"><span class=\"toc-item-num\">1&nbsp;&nbsp;</span>Import libraries, load data</a></span></li><li><span><a href=\"#Prepare-Data\" data-toc-modified-id=\"Prepare-Data-2\"><span class=\"toc-item-num\">2&nbsp;&nbsp;</span>Prepare Data</a></span></li><li><span><a href=\"#Animate-Plot\" data-toc-modified-id=\"Animate-Plot-3\"><span class=\"toc-item-num\">3&nbsp;&nbsp;</span>Animate Plot</a></span></li><li><span><a href=\"#Plot-different-events-separately\" data-toc-modified-id=\"Plot-different-events-separately-4\"><span class=\"toc-item-num\">4&nbsp;&nbsp;</span>Plot different events separately</a></span></li><li><span><a href=\"#Write-to-video-file-(or-GIF)\" data-toc-modified-id=\"Write-to-video-file-(or-GIF)-5\"><span class=\"toc-item-num\">5&nbsp;&nbsp;</span>Write to video file (or GIF)</a></span><ul class=\"toc-item\"><li><span><a href=\"#Write-to-GIF\" data-toc-modified-id=\"Write-to-GIF-5.1\"><span class=\"toc-item-num\">5.1&nbsp;&nbsp;</span>Write to GIF</a></span></li></ul></li></ul></div>"
   ]
  },
  {
   "cell_type": "markdown",
   "metadata": {},
   "source": [
    "# Matplotlib Version\n",
    "\n",
    "This version using matplotlib only, actually works. See notebook in the resources folders for more information. Here is a good [blogpost](https://towardsdatascience.com/animations-with-matplotlib-d96375c5442c) exlplaining the code in greater detail and showing different alternatives in Matplotlib.\n",
    "\n",
    "Prerequisite for writing the result to video: Install FFMPEG, see [here](https://www.wikihow.com/Install-FFmpeg-on-Windows). (If you'd want to save as .gif, then see blogpost reference from above.)\n",
    "\n",
    "\n",
    "**Data Sources**\n",
    "\n",
    "- `data/transcript.json`: Interactions for 74'000 customers with the starbucks promo app over 28 days, recorded hourly. The data is from the Starbucks Segmentation Challenge and described there in greater detail.\n",
    "\n",
    "**Changes**\n",
    "\n",
    "- 2019-02-26: Start project\n",
    "- 2019-02-28: Add animation with multiple lines\n",
    "\n"
   ]
  },
  {
   "cell_type": "markdown",
   "metadata": {},
   "source": [
    "---"
   ]
  },
  {
   "cell_type": "markdown",
   "metadata": {},
   "source": [
    "## Import libraries, load data"
   ]
  },
  {
   "cell_type": "code",
   "execution_count": 1,
   "metadata": {
    "ExecuteTime": {
     "end_time": "2019-05-01T20:19:10.416262Z",
     "start_time": "2019-05-01T20:19:08.215936Z"
    }
   },
   "outputs": [],
   "source": [
    "# Import libraries\n",
    "import numpy as np\n",
    "import pandas as pd\n",
    "from tqdm import tqdm\n",
    "\n",
    "# Visualization\n",
    "import matplotlib.pyplot as plt\n",
    "import seaborn as sns #, sns.set_style('whitegrid')\n",
    "color = 'rebeccapurple'\n",
    "# %matplotlib inline\n",
    "\n",
    "from matplotlib import animation, rc\n",
    "from IPython.display import HTML\n",
    "%matplotlib inline\n",
    "\n",
    "# Display settings\n",
    "from IPython.display import display\n",
    "pd.options.display.max_columns = 100"
   ]
  },
  {
   "cell_type": "code",
   "execution_count": 2,
   "metadata": {
    "ExecuteTime": {
     "end_time": "2019-05-01T20:19:12.035833Z",
     "start_time": "2019-05-01T20:19:10.416262Z"
    }
   },
   "outputs": [],
   "source": [
    "# Load data\n",
    "transcript_data = pd.read_json('data/transcript.json', orient='records', lines=True)"
   ]
  },
  {
   "cell_type": "code",
   "execution_count": 3,
   "metadata": {
    "ExecuteTime": {
     "end_time": "2019-05-01T20:19:12.065853Z",
     "start_time": "2019-05-01T20:19:12.035833Z"
    }
   },
   "outputs": [
    {
     "name": "stdout",
     "output_type": "stream",
     "text": [
      "306534\n"
     ]
    },
    {
     "data": {
      "text/html": [
       "<div>\n",
       "<style scoped>\n",
       "    .dataframe tbody tr th:only-of-type {\n",
       "        vertical-align: middle;\n",
       "    }\n",
       "\n",
       "    .dataframe tbody tr th {\n",
       "        vertical-align: top;\n",
       "    }\n",
       "\n",
       "    .dataframe thead th {\n",
       "        text-align: right;\n",
       "    }\n",
       "</style>\n",
       "<table border=\"1\" class=\"dataframe\">\n",
       "  <thead>\n",
       "    <tr style=\"text-align: right;\">\n",
       "      <th></th>\n",
       "      <th>event</th>\n",
       "      <th>person</th>\n",
       "      <th>time</th>\n",
       "      <th>value</th>\n",
       "    </tr>\n",
       "  </thead>\n",
       "  <tbody>\n",
       "    <tr>\n",
       "      <th>0</th>\n",
       "      <td>offer received</td>\n",
       "      <td>78afa995795e4d85b5d9ceeca43f5fef</td>\n",
       "      <td>0</td>\n",
       "      <td>{'offer id': '9b98b8c7a33c4b65b9aebfe6a799e6d9'}</td>\n",
       "    </tr>\n",
       "    <tr>\n",
       "      <th>1</th>\n",
       "      <td>offer received</td>\n",
       "      <td>a03223e636434f42ac4c3df47e8bac43</td>\n",
       "      <td>0</td>\n",
       "      <td>{'offer id': '0b1e1539f2cc45b7b9fa7c272da2e1d7'}</td>\n",
       "    </tr>\n",
       "    <tr>\n",
       "      <th>2</th>\n",
       "      <td>offer received</td>\n",
       "      <td>e2127556f4f64592b11af22de27a7932</td>\n",
       "      <td>0</td>\n",
       "      <td>{'offer id': '2906b810c7d4411798c6938adc9daaa5'}</td>\n",
       "    </tr>\n",
       "    <tr>\n",
       "      <th>3</th>\n",
       "      <td>offer received</td>\n",
       "      <td>8ec6ce2a7e7949b1bf142def7d0e0586</td>\n",
       "      <td>0</td>\n",
       "      <td>{'offer id': 'fafdcd668e3743c1bb461111dcafc2a4'}</td>\n",
       "    </tr>\n",
       "    <tr>\n",
       "      <th>4</th>\n",
       "      <td>offer received</td>\n",
       "      <td>68617ca6246f4fbc85e91a2a49552598</td>\n",
       "      <td>0</td>\n",
       "      <td>{'offer id': '4d5c57ea9a6940dd891ad53e9dbe8da0'}</td>\n",
       "    </tr>\n",
       "  </tbody>\n",
       "</table>\n",
       "</div>"
      ],
      "text/plain": [
       "            event                            person  time  \\\n",
       "0  offer received  78afa995795e4d85b5d9ceeca43f5fef     0   \n",
       "1  offer received  a03223e636434f42ac4c3df47e8bac43     0   \n",
       "2  offer received  e2127556f4f64592b11af22de27a7932     0   \n",
       "3  offer received  8ec6ce2a7e7949b1bf142def7d0e0586     0   \n",
       "4  offer received  68617ca6246f4fbc85e91a2a49552598     0   \n",
       "\n",
       "                                              value  \n",
       "0  {'offer id': '9b98b8c7a33c4b65b9aebfe6a799e6d9'}  \n",
       "1  {'offer id': '0b1e1539f2cc45b7b9fa7c272da2e1d7'}  \n",
       "2  {'offer id': '2906b810c7d4411798c6938adc9daaa5'}  \n",
       "3  {'offer id': 'fafdcd668e3743c1bb461111dcafc2a4'}  \n",
       "4  {'offer id': '4d5c57ea9a6940dd891ad53e9dbe8da0'}  "
      ]
     },
     "metadata": {},
     "output_type": "display_data"
    }
   ],
   "source": [
    "print(len(transcript_data))\n",
    "display(transcript_data.head())"
   ]
  },
  {
   "cell_type": "markdown",
   "metadata": {
    "ExecuteTime": {
     "end_time": "2019-02-26T15:55:37.745310Z",
     "start_time": "2019-02-26T15:55:37.742304Z"
    }
   },
   "source": [
    "## Prepare Data"
   ]
  },
  {
   "cell_type": "code",
   "execution_count": 4,
   "metadata": {
    "ExecuteTime": {
     "end_time": "2019-05-01T20:19:12.121850Z",
     "start_time": "2019-05-01T20:19:12.065853Z"
    }
   },
   "outputs": [
    {
     "data": {
      "text/html": [
       "<div>\n",
       "<style scoped>\n",
       "    .dataframe tbody tr th:only-of-type {\n",
       "        vertical-align: middle;\n",
       "    }\n",
       "\n",
       "    .dataframe tbody tr th {\n",
       "        vertical-align: top;\n",
       "    }\n",
       "\n",
       "    .dataframe thead th {\n",
       "        text-align: right;\n",
       "    }\n",
       "</style>\n",
       "<table border=\"1\" class=\"dataframe\">\n",
       "  <thead>\n",
       "    <tr style=\"text-align: right;\">\n",
       "      <th></th>\n",
       "      <th>time</th>\n",
       "    </tr>\n",
       "  </thead>\n",
       "  <tbody>\n",
       "    <tr>\n",
       "      <th>count</th>\n",
       "      <td>306534.000000</td>\n",
       "    </tr>\n",
       "    <tr>\n",
       "      <th>mean</th>\n",
       "      <td>366.382940</td>\n",
       "    </tr>\n",
       "    <tr>\n",
       "      <th>std</th>\n",
       "      <td>200.326314</td>\n",
       "    </tr>\n",
       "    <tr>\n",
       "      <th>min</th>\n",
       "      <td>0.000000</td>\n",
       "    </tr>\n",
       "    <tr>\n",
       "      <th>25%</th>\n",
       "      <td>186.000000</td>\n",
       "    </tr>\n",
       "    <tr>\n",
       "      <th>50%</th>\n",
       "      <td>408.000000</td>\n",
       "    </tr>\n",
       "    <tr>\n",
       "      <th>75%</th>\n",
       "      <td>528.000000</td>\n",
       "    </tr>\n",
       "    <tr>\n",
       "      <th>max</th>\n",
       "      <td>714.000000</td>\n",
       "    </tr>\n",
       "  </tbody>\n",
       "</table>\n",
       "</div>"
      ],
      "text/plain": [
       "                time\n",
       "count  306534.000000\n",
       "mean      366.382940\n",
       "std       200.326314\n",
       "min         0.000000\n",
       "25%       186.000000\n",
       "50%       408.000000\n",
       "75%       528.000000\n",
       "max       714.000000"
      ]
     },
     "execution_count": 4,
     "metadata": {},
     "output_type": "execute_result"
    }
   ],
   "source": [
    "transcript_data.describe()"
   ]
  },
  {
   "cell_type": "code",
   "execution_count": 5,
   "metadata": {
    "ExecuteTime": {
     "end_time": "2019-05-01T20:19:12.248190Z",
     "start_time": "2019-05-01T20:19:12.121850Z"
    }
   },
   "outputs": [
    {
     "data": {
      "text/plain": [
       "transaction        138953\n",
       "offer received      76277\n",
       "offer viewed        57725\n",
       "offer completed     33579\n",
       "Name: event, dtype: int64"
      ]
     },
     "execution_count": 5,
     "metadata": {},
     "output_type": "execute_result"
    }
   ],
   "source": [
    "transcript_data['event'].value_counts()"
   ]
  },
  {
   "cell_type": "code",
   "execution_count": 6,
   "metadata": {
    "ExecuteTime": {
     "end_time": "2019-05-01T20:19:12.326290Z",
     "start_time": "2019-05-01T20:19:12.252189Z"
    }
   },
   "outputs": [],
   "source": [
    "# Subset data\n",
    "transcript = pd.DataFrame(transcript_data.groupby(['time'])['event'].count()).reset_index()"
   ]
  },
  {
   "cell_type": "code",
   "execution_count": 7,
   "metadata": {
    "ExecuteTime": {
     "end_time": "2019-05-01T20:19:12.363489Z",
     "start_time": "2019-05-01T20:19:12.338578Z"
    }
   },
   "outputs": [
    {
     "name": "stdout",
     "output_type": "stream",
     "text": [
      "(120, 2)\n"
     ]
    },
    {
     "data": {
      "text/html": [
       "<div>\n",
       "<style scoped>\n",
       "    .dataframe tbody tr th:only-of-type {\n",
       "        vertical-align: middle;\n",
       "    }\n",
       "\n",
       "    .dataframe tbody tr th {\n",
       "        vertical-align: top;\n",
       "    }\n",
       "\n",
       "    .dataframe thead th {\n",
       "        text-align: right;\n",
       "    }\n",
       "</style>\n",
       "<table border=\"1\" class=\"dataframe\">\n",
       "  <thead>\n",
       "    <tr style=\"text-align: right;\">\n",
       "      <th></th>\n",
       "      <th>time</th>\n",
       "      <th>event</th>\n",
       "    </tr>\n",
       "  </thead>\n",
       "  <tbody>\n",
       "    <tr>\n",
       "      <th>0</th>\n",
       "      <td>0</td>\n",
       "      <td>15561</td>\n",
       "    </tr>\n",
       "    <tr>\n",
       "      <th>1</th>\n",
       "      <td>6</td>\n",
       "      <td>2506</td>\n",
       "    </tr>\n",
       "    <tr>\n",
       "      <th>2</th>\n",
       "      <td>12</td>\n",
       "      <td>2215</td>\n",
       "    </tr>\n",
       "    <tr>\n",
       "      <th>3</th>\n",
       "      <td>18</td>\n",
       "      <td>2015</td>\n",
       "    </tr>\n",
       "    <tr>\n",
       "      <th>4</th>\n",
       "      <td>24</td>\n",
       "      <td>1921</td>\n",
       "    </tr>\n",
       "  </tbody>\n",
       "</table>\n",
       "</div>"
      ],
      "text/plain": [
       "   time  event\n",
       "0     0  15561\n",
       "1     6   2506\n",
       "2    12   2215\n",
       "3    18   2015\n",
       "4    24   1921"
      ]
     },
     "metadata": {},
     "output_type": "display_data"
    }
   ],
   "source": [
    "# Check result\n",
    "assert np.sum(transcript['event']) == len(transcript_data)\n",
    "print(transcript.shape)\n",
    "display(transcript.head())"
   ]
  },
  {
   "cell_type": "code",
   "execution_count": 8,
   "metadata": {
    "ExecuteTime": {
     "end_time": "2019-05-01T20:19:12.631123Z",
     "start_time": "2019-05-01T20:19:12.368500Z"
    }
   },
   "outputs": [
    {
     "data": {
      "image/png": "[encoded data removed]",
      "text/plain": [
       "<Figure size 432x288 with 1 Axes>"
      ]
     },
     "metadata": {
      "needs_background": "light"
     },
     "output_type": "display_data"
    }
   ],
   "source": [
    "# Make static plot\n",
    "sns.lineplot(x='time', y='event', data=transcript, color=color);"
   ]
  },
  {
   "cell_type": "markdown",
   "metadata": {},
   "source": [
    "## Animate Plot\n",
    "\n",
    "See initial blogpost reference for explanation of the code."
   ]
  },
  {
   "cell_type": "code",
   "execution_count": 9,
   "metadata": {
    "ExecuteTime": {
     "end_time": "2019-05-01T20:19:12.813281Z",
     "start_time": "2019-05-01T20:19:12.631123Z"
    }
   },
   "outputs": [
    {
     "data": {
      "image/png": "[encoded data removed]",
      "text/plain": [
       "<Figure size 432x288 with 1 Axes>"
      ]
     },
     "metadata": {
      "needs_background": "light"
     },
     "output_type": "display_data"
    }
   ],
   "source": [
    "# First set up the figure, the axis, and the plot element we want to animate\n",
    "fig, ax = plt.subplots()\n",
    "ax.set_xlim((transcript['time'].min(), transcript['time'].max()))\n",
    "ax.set_ylim((0, 18000))\n",
    "line, = ax.plot([], [], lw=2)\n",
    "\n",
    "# Initialization function: plot the background of each frame\n",
    "def init():\n",
    "    line.set_data([], [])\n",
    "    return (line,)\n",
    "\n",
    "# Animation function: This is called sequentially\n",
    "def animate(i):\n",
    "    data = transcript.iloc[:i+1]\n",
    "    x = data['time']\n",
    "    y = data['event']\n",
    "    line.set_data(x, y)\n",
    "    return (line,)\n",
    "\n",
    "# Call the animator. blit=True means only re-draw the parts that have changed.\n",
    "anim = animation.FuncAnimation(fig, animate, init_func=init,\n",
    "                               frames=100, interval=30, blit=True)\n"
   ]
  },
  {
   "cell_type": "code",
   "execution_count": 10,
   "metadata": {
    "ExecuteTime": {
     "end_time": "2019-05-01T20:19:16.755124Z",
     "start_time": "2019-05-01T20:19:12.813281Z"
    }
   },
   "outputs": [
    {
     "data": {
      "text/html": [
       "<video width=\"432\" height=\"288\" controls autoplay loop>\n",
       "  <source type=\"video/mp4\" src=\"data:video/mp4;base64,AAAAHGZ0eXBNNFYgAAACAGlzb21pc28yYXZjMQAAAAhmcmVlAAAvLm1kYXQAAAKuBgX//6rcRem9\n",
       "5tlIt5Ys2CDZI+7veDI2NCAtIGNvcmUgMTU3IHIyOTM1IDU0NWRlMmYgLSBILjI2NC9NUEVHLTQg\n",
       "QVZDIGNvZGVjIC0gQ29weWxlZnQgMjAwMy0yMDE4IC0gaHR0cDovL3d3dy52aWRlb2xhbi5vcmcv\n",
       "eDI2NC5odG1sIC0gb3B0aW9uczogY2FiYWM9MSByZWY9MyBkZWJsb2NrPTE6MDowIGFuYWx5c2U9\n",
       "MHgzOjB4MTEzIG1lPWhleCBzdWJtZT03IHBzeT0xIHBzeV9yZD0xLjAwOjAuMDAgbWl4ZWRfcmVm\n",
       "PTEgbWVfcmFuZ2U9MTYgY2hyb21hX21lPTEgdHJlbGxpcz0xIDh4OGRjdD0xIGNxbT0wIGRlYWR6\n",
       "b25lPTIxLDExIGZhc3RfcHNraXA9MSBjaHJvbWFfcXBfb2Zmc2V0PS0yIHRocmVhZHM9NiBsb29r\n",
       "YWhlYWRfdGhyZWFkcz0xIHNsaWNlZF90aHJlYWRzPTAgbnI9MCBkZWNpbWF0ZT0xIGludGVybGFj\n",
       "ZWQ9MCBibHVyYXlfY29tcGF0PTAgY29uc3RyYWluZWRfaW50cmE9MCBiZnJhbWVzPTMgYl9weXJh\n",
       "bWlkPTIgYl9hZGFwdD0xIGJfYmlhcz0wIGRpcmVjdD0xIHdlaWdodGI9MSBvcGVuX2dvcD0wIHdl\n",
       "aWdodHA9MiBrZXlpbnQ9MjUwIGtleWludF9taW49MjUgc2NlbmVjdXQ9NDAgaW50cmFfcmVmcmVz\n",
       "aD0wIHJjX2xvb2thaGVhZD00MCByYz1jcmYgbWJ0cmVlPTEgY3JmPTIzLjAgcWNvbXA9MC42MCBx\n",
       "cG1pbj0wIHFwbWF4PTY5IHFwc3RlcD00IGlwX3JhdGlvPTEuNDAgYXE9MToxLjAwAIAAAA1SZYiE\n",
       "ADP//vbsvgU1/Z/QlxEsxdpKcD4qpICAdzTAAAADAAB5FfwcyBeoDHBcjy0tN2yUkn2a787evYm+\n",
       "OGwr6j1FNF1CDGzj6yHYdqPEKf2izHaQ66YUqP9FAVwVVTp8etjX+MiaOqUTyPqjrKYBJA58hwAF\n",
       "o+4Cul9sGQzjL4wMM+czsZAAAAMARRipQi/YGvzsj2nzgWT2uLiYjnp+NF437vUYIQS5Al6H2Vme\n",
       "VUgplCkcwqA798YKuNt9M4UcdPSPBLRzMZMdEN7AGoLinMrBqN2RJr1r2GGNvZNvb3LMOt4qVcCS\n",
       "B6EiY/u+INP9ohU5nm/t8PDcR1NfENj9efrdi7uvOsd+lLAj2BDxYrR5tiG0N73PuumE0crTn1Sv\n",
       "UeCwacq1vhxXPdPxdm+JrnggkMBjse0Lb7MHlIyGffGfYejpGtApwvPtaYY8dTGXtAHm4Rv3wI7r\n",
       "RA3GjbA7YAAIhK7FCdprr4UiZ3WTHRrULKZ+j7KI0oDhzbL9EKpFVt7jthZLoZvO7gt4Z9lIqTLM\n",
       "I/vAvachtpm3W/mHYz0mWFEOdTDqQ+8D2Jk8TRPkHKhqX5veSZ2nIfmjkyX3ZUlQ78KtmY9z+mNB\n",
       "HuF+d+oyGxrSfnRblZictuuHQI7DZlHpszJwN3N5jmlJSAhb1Gk/u0rlRT4+glDq8yqOg+YGedOL\n",
       "ZmXgis6xP4GGEJYhPzld8ZMk9bAqZEy2ecZeLFDwT7MH9LLPWYmGTXvmxKX/k26vy+x6JNT8F5OR\n",
       "COacVlPMqPT+ZAfiI957NXLAyD6VZrq+70VDYXjofOn50pxKNSe7Qfms/MJ+yHKF+2Tbv5zeHgWu\n",
       "vUcXQtF0fuwj03yFXf3lT0lg8GJxr1RMAAtX0ZIuDpWDtmUsfHbTxbz720rP11W9bMLF3BG7o+F1\n",
       "QsXWg11BIns/n+5UotGFNfyBV8cwGNyjp6qXFyHKqaI3Yd52tpOrXHzNdG4XhgsgAF6K9RHpYX7X\n",
       "mhBrUvJad3djlbpb1UaFt1dfT9cvuhg2viD6uixHCXFCJHZPe8Y8gmSqocgVBLm9UteGVSF2vu0P\n",
       "u2v7DjRJUF2yyp0qonFm2fbovCnR/bKYXpahZjaOwxXUMC5grz/LehKaymiO8hnJGVuOLWO2f0WC\n",
       "mcNeOCtHmtOaBb4QZdioP1v9OfVK9R4LL25o6jXtYoo8ojOY3ePRiQwGQeTkSBmwTTnVM6gwICcB\n",
       "ZVH+RSwJNn2TVdNABeoQnBcJOaIE4CdNc/ZrtpYbBAEu5jMjb5P9+SWlXnk6XqWGCuO1S5Dz7oBK\n",
       "x+Bj0mt687O+GrpDj008yhQHaxVWrntjJdMYR/1OzfSUBRZlT2B7u43Js5Wi+fGmtQtiXIq2vMt7\n",
       "G3T2CFTgMNdgMPOzKBJfC+lDL+fkxFMYtXA13Vs/oPP2SnbB7Gthzwz8vi1TA/Zlei7Dz6riqMeU\n",
       "UjlhGL36l9pQluvO0NKEyFimFDF2Qha2Ud0okRGSNeoAYBejY88kpNpcdmaui2V92s2kykhRR5L+\n",
       "DZvCivWDncB/HYexHxv17VSgo4hioOfhEzGpeWlMqACx46ut699y6Kf17JNrg5THL7j0DGJXhvpa\n",
       "aQoKcNlFATXSYL0iigwIyIBB0yOya3hvR1urbDurEuoS2BfePjFFdb6C19AyKkeBSg1hT6Bcv5lf\n",
       "tnyrkSg/llCCmO2ziQfnbkGtgmuOjC20xJNqjS/fNV7agGAp1f2b15rp8bLAAOuugEXRp1XQ1h6H\n",
       "uADCI5ZmHs0ZrKt7ULD9/n7F6bq6ddVF42U9G7SrILeWza5N7Zo+mvK+hvsfmua6GAJ8ppuWc55T\n",
       "Q+O4sQJdKcezTJ/91Pew3FKkyArsSOdnsrlYy2rKW0QgDLsVCH9v/oryvUeCzIShCWvFmKMCwjUb\n",
       "7rX3FGIm95zh73NSGeTosHJsFBp0YACnSOkTRkTZZPlJY9l1TSsP/ayBQr3NYmfCK9Mkl6julX6l\n",
       "2+lAAGIM+fbg5beu0AUxTxDoBxKKS7JkSSUMmZUawodZJN2Upy43zNOeyVQ6nfGmccQ6HxO0M+yv\n",
       "mEUpbYtx7BQ27p9+M6EMpGO0wrMtBTKLLGH1Zdql4ofxbCxgX85x8KM8a11e9Amb/TYGEAn83QT9\n",
       "x22jgMbTJKw3Ug8/LyMjY1iqA/INotA5Iz2hrWQqIkblwFi3nHW0G/qrc/4CFo0hIZK9FMH38zel\n",
       "jAwrlL+m5AUAAA7djlfAOZf6wWhKYRbjK6E7OljWjsDXogD0T5X94SJtVq04jgvK5kxGJ9vk7oWG\n",
       "33b2Fm8bZALu2hzSQr4zhmlYCC0G8ZZ8Tp0sxAEDpgONPnWRVeadWXLaBcq4uik1k/wTZQ83WWql\n",
       "778u6Qqqx/rDI3LkXruK19bwTid+Tvj9ql9mQUVFMSO+q9QdsP1mOGnwqNAGRenHqz5vYOkKy3mP\n",
       "7Mhz5kl66HDMpPCovIPKFpG1wiKEyz2Jsur3WgL2teJxeHQB5v3MN37oXo4pEdLR95kTEXHD3XtP\n",
       "GoZ+jdb6KmFtDlaoaBShUCxjAgGS39QjxVtrqdU9jvRlCQ16Xcb9TDrtByVCb0NkbtmnvyLed4fg\n",
       "qgQvWMZcqdmpOCeHd8PO4gb7NAFFmZ9DixcDfgcKVDxSx0MSU5xHXpzsOcG+XDYO6C2pBWZcyhks\n",
       "2lZTTC8pVNhZGOH1Pv3nit9eCdWNvnDYsmM0wobqyyU2uF/KbRn522uUmw64uDyIA6+h8BrnwSAn\n",
       "AwDzV6ESqngkDe2jw5H4rlvqQPdThD9WCJvo++b/zVv+q09ExJcuv8F84AfANEKGxppOdSo9rwoC\n",
       "3KBH7O79Zn6ai9AIz/dDbmJeMo0TwQOhaebjHIV4D/Hw3AEG7Vji51MGnvSMOWyrcElE6NCX/aFu\n",
       "7LcwDQ75W7owi2KilEpnQD0t1viDHQmOcatPFSCV9zT+/dTmdYIWa7HnW+rMb0ItWa72HlDpjQnu\n",
       "InNfHYAaWgV4rNEYsSQPRz116wjeomNYjpSSjYAGqr5YmRn/F8Ocq8P0xHM4Uf//91JIFexrGzvr\n",
       "wwO/TwmZgUthpuzfjQGdSPCqJHKyBBrw1aAqqgDPOGaTrbbJM0BeSgkN0jtITuK3n//6P3Nk0Vud\n",
       "9CmmrDRlBiGyJlfAYtgWz5RYnfkx2uYNmbSjBaH2phly+oviLJ87GJw0qYff8hcbba5b9iRkWRIk\n",
       "1O6AXOMXMNVWurdterIa259jZtnUmQBNfdvWRGr4+HKJHOzd/ic+uvhSxuJGuKR6YT3u48PsDoQI\n",
       "vkbq2MyjMwoA9mN+l7TAH+fsz83kaW9uru7T+GVIiQLkCIF2zyaUH0cZLdpBEZz302j65L3USfZX\n",
       "EfXSCMOiVCSCFZOyPiTs0ujqC7pSF35+xgaJSBGsz2NAANViSXkJGhakmsZ3/Hfdsqgbs3qLYI5F\n",
       "+b6bwy/ARfejjjN7RHaKRCf6haXgUtTcVaXWt4V6xzQBtwR8anh/UAurElm92so/0WSpWfkE2mPF\n",
       "oILQMBNX4J5+CIEYhzpHnXiafsbLo9U+SvJ+lxlUK4DFDQOupJD1LnYGAiDWEUhRqSoBPbKeslDW\n",
       "8UEzUEB/bsptDNRoa/zJ7fy6ntViPd6n20BAbTJLXjih9CntzBN1SXRFNiRevYqVqc1W1CRIoYR9\n",
       "QAQfocuoRe1yrnfQINzHU6Bv+sDvPQIfzokgBQ41WGFpFH3mRb4GphlT4JrWwzvjd/IeOGApqOUb\n",
       "PRK9SsIWW5L/UMOu8Td25bmRwcZwtDa3q9XuiZjDp538RziHXJxV1yPLQu1PyiWhf2zwFCYEGq1Y\n",
       "JFdSRZORQ9+2x2jZL8jrkEts4AUqU3YHVkZCra9BbrFSQycS5Sh6phOIQLMdoBH4Lkq9D24+e/ts\n",
       "Y5q5JgoyYEv1X5RcwwBNtgSm9A6e2ERq9Jmou1CyCutce0ePOtyLbUF+hJp3RrMSiguMOC9LovBm\n",
       "GlBAvavUeCEKVmVNECXCzFrIr9c2/iaSeYMyELR8+QUS3Htsya6eiUZRAl0cfmZJ9C+ShYjDwVqG\n",
       "kZhunvppWsueIBAC6RDuVh0kxpeeMp7oxYmEbwf4uJr3f1nc/jlnTrL7mQvzKafRGo4mkUZN4oZZ\n",
       "JF6braZm5aN/BTOvmJG2CNCykho+z0HkE4KSStQq9ch8UmwEF/u0QeKh6uW/LolmtnZl2v88WKb8\n",
       "SyqehkqtqsLJNErfr2b73J9uZoJ2OApb1ayicL0jyeQTWwRPjZTjAirgspj5ahRvk8rDJF/7LuYC\n",
       "f1ERQE7g/B3Y9zjRfBVqEqcGP+URR29Nudb2umbFauFZ/lCW2UNslNFJxK0V5MAZbb01wlu4eqvs\n",
       "/yTKm3fCGq4DKgHAoAFj2OHKjx6EJZchQl1eHzYJYceOkUBIPyZuDEe11aZLXEj+md95+WAu2CXP\n",
       "yvg013iJTgNFSlJJfqRs20GstXr5UTi27xu5ywCkNrpEuxZBv+KWmCV87o+uKEEXTPhvYcnSoxih\n",
       "x7uwKtmjOFVqCp1qSOru3TIat2ukizaEa5jE/g2d8qoOrAtQAAADAARSlYEAAAI5QZojbEM//p4Q\n",
       "CBVCcANs/YqYNxAoc83wKsQQDqwD5fd6w/tqrLdfGO13uKOgYxG4kXrRFe/BVNr+FSD/NqoA7c92\n",
       "yTQWd+AjUY4+x29rRMxfP1Gwls299Y+SC79rTMxEZS3s38HIwyHmao72qk+d0jqnwIQoXf3VdLMB\n",
       "Uw8ASsu4Wxdn/nWpTZfmg+APri0Yof98v+DmE33mMFDW5uBi5rW+p9cyBZDTZjXDjgRFwjpOI8wD\n",
       "ePpzENRnqhLNfScm33K4f62u1tJBxq8px0OfruhSADD9KOnjeJ2kBbv36OzNwmSQO3lcz9/rzm/V\n",
       "q3EzGpnham2vrIrySoO42sshB4XBrkOwOx/nSikVmdn9HL5VlOI9Qt1+ZdSpyM4u5dCtfYQyqMEV\n",
       "Unqcr3zmofpINsCGaiTY/7mjTTwJOsvGgjB+ed3eb5sYcYEkjbsmDJ6YBZL8sNNXdTyHFYow0vyA\n",
       "u4NOlbLLWWyLvIcReEvZj23GX7ofoJXiOVcT4kB5IvSOA5gssxRO3DVTd2F4jCS1ccCTwU/SVZar\n",
       "A/u2iNNfo+OxaIt/3tWrut/PIXMBu4C/VW01VfoJc4CPZbHRiLd45oEbw68NrBcySLozx7wO9oGO\n",
       "SqPySvgLCaR9OG3O4jtIWLo1tEb+2D8LC5DXjbAYPJs4A+O26aW8WkQ7ynlxaIKG0MLUx8RIxoA2\n",
       "tibp2dHBaWMxuHxNhCW+2tmx79QIWpUK9LnQJoTvvQnS2DWxVKMl5dNUXhq25ZsAAAA4QZ5BeIT/\n",
       "AhKb9Qiol2a7g1nIRs2oCqh7x3VxgW53OAEPju6rQkg7Buq0H40ADurS7OF2zwisD5kAAAAfAZ5i\n",
       "akJ/Ahm4CVLkFx4FCm4QtC9k/Z916tlZQlBkQAAAAFVBmmRJqEFomUwIZ//+nhAA18M3AATvSjKN\n",
       "+8vM/yoW3qbT/HGa5D9g5TmsqQe/r41D8EnZQk/FYl4TnYqcs3erwN5HvcK6lzkuRsIcy51vnmRl\n",
       "yFRhAAAATUGahknhClJlMFESw3/+p4QAbk2UBLNQM7pbFiID/51wCaJv2vCOgYw5KMepXw5cUpSW\n",
       "N9JMWzHUcfVXi3swlKthzhpIfMEt2hTtNKLBAAAAKQGepWpCfwISm+QynRT43waLx4AFrmEbYBf8\n",
       "GSz+IZg5cU7zYgaIfwWfAAAAU0GaqUnhDomUwIb//qeEAAAbAUE0tofIBa60BTnA80NbeodpOagY\n",
       "m6cy9WyNQjKpCauYoxMI4u9wtpVR+qwKj8Lxmd6O2dv/cEH7DtcjBNZdpVJvAAAAIkGex0UVPCf/\n",
       "AhKb5DKdFPdu1Y53bKNPJUJDox10hAU/KUgAAAAZAZ7oakJ/Ahm4CVLkFu1S5zgGRhz4V5OLgQAA\n",
       "AFhBmu1JqEFomUwIb//+p4QAABp9e+5tZUXjgDccuvlXTlMXsS/a57Nh6TnKFuvAY1OjpGmzk8+5\n",
       "GQfrpNHX38loqs9ZT8Tyw9JdpFbY4Yu27HmJSvdTN1E5AAAALEGfC0URLCv/AaewzSp6avdjkUYs\n",
       "4mIACvSBomhANTmuKBGgsO8kLgqo/28gAAAAGwGfKnRCfwIY1JrnuBbs1tsSXyxdHAQz8RlQwAAA\n",
       "ABcBnyxqQn8CGbgJUuQW7KflzD/G+SC87wAAAFZBmzBJqEFsmUwIb//+p4QAABpmJnmkAuEGEcCq\n",
       "03TmqrsZsC5HQOVqlOkVhbeRMlOaOjfp4g5Uwv8zAbOgrm8yIq/dEeRuWdqUCFyqj1Ut9vlfoybb\n",
       "YQAAACNBn05FFSwn/wIaLwicQaNu5/74ATV2KjXb+O0WV//ipPTqwQAAABcBn29qQn8CGbgJUuQW\n",
       "7MIEcTZPxkUAoAAAAENBm3NJqEFsmUwIb//+p4QAABnde+ELIYnHAFaOv+eOB7l3YTTlA1vTzkWP\n",
       "kWeK+WPi0g4XPLhJED6kuPbFHSFZxiXeAAAAJEGfkUUVLCf/AhovCJxBo26rqscAFs8tHJ/6jmPz\n",
       "ukjkMOfjwQAAABgBn7JqQn8CGbgJUuQW64fkjefcJkM71kAAAABhQZu3SahBbJlMCGf//p4QAABk\n",
       "XbjgKGfUpJNexfqyAcrk2jgz9BY2nShdWCU78FySXDk+RU85cvlyVdJOoSYBAtAqVKyBU0VfIk0j\n",
       "+eBU2ojiqOkCYyFQHaA4XWI4QWJXygAAAB9Bn9VFFSwr/wGnsM0qemr3XQRkrw4NeQF8GfVy7a+h\n",
       "AAAAHQGf9HRCfwIY1JrnuBbr054AH88shAqxsOD2jkvAAAAAHgGf9mpCfwIZuAlS5Bbqn74Bv0CA\n",
       "EXA/p4AIC4Bx4QAAAFFBm/pJqEFsmUwIZ//+nhAGR3VUCZrtirk3oPngiqSm4w64wAQDDV951N9T\n",
       "TIhqF+MLn9+n3Vu+Z8poykwBwWm/CcQXfBX+P5yNUD/G5TeKrQUAAAAdQZ4YRRUsJ/8CGi8InEGj\n",
       "bpeSsD4blRgmdUW+nhAAAAAXAZ45akJ/Ahm4CVLkFul0oydFQK2TrkEAAADMQZo8SahBbJlMFEwz\n",
       "//6eEAL7zLzZoAjf7uTlx/84C7kAuqqz4gTNODj8Tyavk/j/utlDqPsVgv7i4OufQfTQi2ip7QFs\n",
       "KunFfYgrEGdCDYXoT1X7cygI7rXnANJ5p32ly9ggEvgQMvOmdKsE8uiqh9SLfitw5D+4TnIiwA/G\n",
       "n8pbIOYjixSR9i5J0FgGXdw5X3o3SwwRUaQfLDmO5Qh6J4Onket2Wm9m6dErLVve05zP3aYHQX90\n",
       "I76yRU3z2B05WdeBkIh35cEuZ9RAAAAAJAGeW2pCfwIaLxV7o40bT8/IEn03TLZDDZcxPFsarvZb\n",
       "YxkmgQAAATJBml1J4QpSZTAhv/6nhADDjcY6AJfhaIDeSvSuddfVnlk3cD5LhOOYVoLn8rxjwaOA\n",
       "S4E6JjS8zoy2fyHV/T/CZrd0LoCI0Mg5WXLfH3rooUxzHDOo4WAC5cb2UkzyFi1b3b23wWdcTDWe\n",
       "X9NO6vANxTtFHXeEHez8JrfhRj5jSLYaxAzYaXwsSTiGQmTr4UcNKx27Mf6ookpK02fvwOhzJtSj\n",
       "zYRcFyKZ097IA2GMecejij4HddRGf+LbkqxVWezwgxLBhWvvE4V9iGbntRny0JhEmN1yi4MpK4aE\n",
       "iegk0kdznhn20Co65KMiBJ3qR4OXCPSSMzA2GFKPFzSziANJK8aCy+1sOtfBnzzGsJEhkNJoB9Md\n",
       "pj7g2Al87xFG+M2Nh47SaqEyeXItelMmx+yU2HEAAACvQZphSeEOiZTAhv/+p4QAYeZ3JAHmTOhe\n",
       "hzqvS8lMD+u3hPHlZQF93IsW/F+V6kBi1zrxdcBlsAkZ82H6Igm0fNV0bQX9E0hS9FdYDM40eKIu\n",
       "V6H8RhXLH/0WIO5NQiGqtiWR92y2sjUlE1Lcqr3PZ5YMrQcNoik2GLoW1vO0t+8CPRP5nOH3AlMe\n",
       "v7KXJKbGaPPgAM1O+iSJhlMUfBiiY3Xnfx7wzq7pGUQjihhUvAAAAC1Bnp9FETwr/wGnkxFHrEiL\n",
       "BJrOwMAbKeaN4MOBQYAIg8o791XgT7ugM3vgW0AAAAA1AZ6+dEJ/AhjUqrCWs5qVsAATJxw8hDnh\n",
       "Yut9M5UcIQ3y2tVMFR8ZRvR1DuEWFoUH7Do1tWUAAAAdAZ6gakJ/Ahm4Ft0yhGrbc33uhlgqkJJS\n",
       "417MzbEAAACRQZqlSahBaJlMCG///qeEAGT9lRcTkTIiARqAzLJ3hOVz6/x1gyfwXe8a0sETwYiU\n",
       "DqEuoqBOnv/3BE21PaOAmHPmLKAvjwCJzPyCQjaQLRaUE6t+apb6YunLZayO8YYcjzDwvfj0LMys\n",
       "OIvMTSoq5HBHYJRR6seIQmtriRVB1WtQxu9ud5QESbrf9CsLfrnKsQAAAChBnsNFESwr/wGnsNFI\n",
       "SBngznvOxn0CWPVGouz9aDutfX9wvNS1pGjAAAAAIgGe4nRCfwIY1KtAjW7JofoN4ENAOTdIALix\n",
       "FvudUYe6zSEAAAAiAZ7kakJ/Ahm4DS6cWHbCJC1E92EQAP3RuLkK2cOgdlwsoQAAAFRBmulJqEFs\n",
       "mUwIb//+p4QAGT9lRXCloAlBNAE7+wM6ECaip/DBGhSwSEAHOMUx4ByV9PizA7aL/wWwsUVHQ+wE\n",
       "IyTtjkInhfv+/0i7H++qmlAPy4EAAAAmQZ8HRRUsK/8Bp7DRSEhz2LlfrmjYVYlv9fflSzZf18y6\n",
       "iIyesqMAAAAZAZ8mdEJ/AhjUn6BNFbZJCVKBmwesolNjKgAAAB4BnyhqQn8CGbgNLpxYdvd5ARD7\n",
       "G8gAlP+VKb9lleAAAAB1QZstSahBbJlMCG///qeEAAAXRnSEglABfc1MSi+NsETTsw8QtUJQzf2f\n",
       "rGO1icW6FxyyRf2rNP8n9EhmzV0rlVnPfF+Y8vVo0rmPPgY6lY0bgKCMQA/DCJ22kmFGrtiW3tFA\n",
       "23WOe8CbNnJrxIKWPr8xu6L9AAAAIkGfS0UVLCv/Aaew0UhIc9i5X67zePht+hbY/ZhHWH42MWAA\n",
       "AAAjAZ9qdEJ/AhjUn6BNFbdOOzuVRWIAJxzSsDdItJO6SbT3TUcAAAAgAZ9sakJ/Ahm4DS6cWHb3\n",
       "eQEQC3oCZ4AfF98ttYutxqcAAAB7QZtxSahBbJlMCGf//p4QAABYaNAwCkn1P193rNjigbQibXuW\n",
       "sqVn6WhsjD4BW5PGqb0QjK435QMZgQpe3pkEnTzrI51IzIhnJ69/f+oer2GiD6QMMaYDRXLNeSnD\n",
       "CU8IpasrSgNgMD7iLKY9RWG3lV1vW145h4xOY6zhAAAAMEGfj0UVLCv/Aaew0UhIc9i5X67zePht\n",
       "+hbS4NzwslgALmU5ZI4VepL6y+Kk1ObDywAAABsBn650Qn8CGNSfoE0Vt047O4+vukDPxKVmDfgA\n",
       "AAAmAZ+wakJ/Ahm4DS6cWHb3eQEPfoQoSAE1OZZPU3gboG6POdwut2AAAAA5QZuzSahBbJlMFEwz\n",
       "//6eEAAAVlRu6oMVwCC+43ZaG1+/Ps5LV/7dcAWIHJ+dhjKwEn940O6GBEThAAAAKQGf0mpCfwIa\n",
       "LwojlYstL6/PlN4n9acGxFEAHDyTt2f2ULUmAYjaP0/gAAAASEGb1knhClJlMCGf/p4QAABWQWQ/\n",
       "0NY4BaDDkWfeVKRJ6MAxnHoRp3V2eGaCua4duDc4Tt0Pyl+F9S88zGrM2yj1OP7sxZsg2QAAACtB\n",
       "n/RFNEwn/wIZ+aNL6IWSPrO5NbcJ/MUCvAVsGrU4ALVfznR15dMoPmy5AAAAKgGeFWpCfwIZuA0u\n",
       "nFh293kBDryaQAtuGr8z4FMFgtwZa+lBm/rup07GSAAAAPJBmhhJqEFomUwU8M/+nhACob4jxoKB\n",
       "6AKOUIilHu4bsEwV7AJP/3Ou5XXM8rHRHOKxlMqT04A+pMihP68oAM9BSkgG9uMPVdQLZSUOmwYJ\n",
       "nSCEXZleyp62CZm0BtKflWfwQBZMy1N3fa40iv/2rv2YFXW+aVwMuJqrwfIXJ/25EvT5/WF3I71i\n",
       "Vsm8KQ3x9KBzArgThfIGhRAWNa2AvYV39u9VNxYLOxwosL+dY9PoWFq3IKvyAKh9ImCzk4p83KLA\n",
       "hzmBiX/IwfuVx9nufY0+PRgbXbkiycJNmMqW7NpcESbSxET0vtqEqr3iVYMv8WvbPQAAADwBnjdq\n",
       "Qn8CGi8Ty6bplhn/MjAQGHZDK3HhVOTzg8dbL5ZQ65ioV5HORCjd4UbANSl2+MeVtvbmR2j+VYEA\n",
       "AADiQZo5SeEKUmUwIb/+p4QAq/mXVICDClpSV9rpDBcB08tlANvCeiSJANmFClu3nTEXFocntNEd\n",
       "V2hpfgVeKXhcGHg7f49tVrgYe2sqrx1kR1bRxzK80LwYG+h+E6nQ8Icq06tqoTeyBdQDblWvZMdM\n",
       "Krj+VHFi8hBOSD8EfmXxF8Hxkgva/Fy4CdDiyA4YNo6hlH5wT/quMMNp07UBL0dg86OyVNu5KxKA\n",
       "NUfRnxfBQC0rZcik3lngD+pKooENnzzvwjx4VoDfVKs9uqHMIyLilkJ+PN+BqPvXl2ptavXnTrFT\n",
       "uAAAAIpBml1J4Q6JlMCGf/6eEAFa938Eyc0dFG7Y8zr81PmjALUoeykdd6MagKyh2rtE0bwZV4Tj\n",
       "w21yDpaMIx+8FuFkZClf8IRdgwGnIlk2sW/G0DDz0sEZI2tMP6A5e/dH7XD6D/iskl9jJjTeKdZ8\n",
       "cVbhvqDSegKY5uE+YNf9zZg6pFDvf4vBACsrPsUAAAAwQZ57RRE8K/8Bp5MQqE49aOzYb1FSUQps\n",
       "kgx6SGACIPOkWQ4/7dxwQA6KDqB/q5qAAAAAHgGemnRCfwIY1LzhGtzzfoRSpEfiGCJJxGUvxRe3\n",
       "EQAAABwBnpxqQn8CGbglOmpE0GFHIOkZ/Q1z7KQAUXRdAAAASUGan0moQWiZTBTwz/6eEAAAUjN2\n",
       "UVC9+QuAlkdRUazcwLC88PSn8rr6eIw7u8JzKBwco10lIR5NBCZMvZ7uChT4YUYiBKgQoLAAAAAv\n",
       "AZ6+akJ/AhovCiOViy0vr8+U3ifcLyP82gBrevicjubK1UhyDMxItB8IU9T6ziQAAABQQZqiSeEK\n",
       "UmUwIZ/+nhAAAFHq+KW8uYANvyVKPuReJ0+1B4xuH0uoq9HdJKyxkPeYuMCCpylII6I3wvnI//Gd\n",
       "oyqhWPbKkGjAgzGZx4V0b4EAAAAwQZ7ARTRMJ/8CGfmjS+iFkj6zuTW3CfcLkBCT11XAALnbO+Og\n",
       "ojzJ2vLVK8YrLm3gAAAAJQGe4WpCfwIZuA0unFh293kBDCo8f4ATV5ZyB4CSTr9+oKCym/EAAADe\n",
       "QZrkSahBaJlMFPDP/p4QBPdf/8J8o9ACIvSTM3oMMe98l/VBQWxeC7RjOUch607cT8yuuTeHl92G\n",
       "nDOU8zRPE+KwYTlzQUQNacXuaanPDtWQc8TwwNEsDc+j9sL8j7CQFiXI+lBSDeftWsxzxJWQhf3N\n",
       "7rDjghmzkxxhgPbjhEseh0HSbzizScbxCfcPmuJCzHc1kSQ3kaYzbZq0akfouJ3JrvGnoQma3DW8\n",
       "/75t0ere0YPpS7cK7ltHcYXoZxkN0yKz+V9NJnOxBgazoWSgkGA7GItW4xK8PJygnFIYAAAANgGf\n",
       "A2pCfwIaLy8vu7YUbIJVQESCoDA83DANF5i4H04jF8uf3GIRt7kADisaBY1/fcafi+5u+QAAAStB\n",
       "mwZJ4QpSZTBSwz/+nhAE9YF9KAWl4Z8YLgtzwIyzvIz85SXGwcUBrdM6ZC0ziqa66Eda39Ss/F2l\n",
       "iAjsLDOlmr+LTv3P/tnTPy0j91I7loUaoZAnNeS0wYwTlJ9HeGSs2zSEzVIDW3kRl1zoeUxRCTdz\n",
       "EpBYzUE1N5v1IDhLdFT8DddIVi5FUbRHp56QheBVAy/wki7JQptEJWaHwXGeOwYX1z2jfETVS0Zj\n",
       "ZKMyfJTwY7pxDBI47XM/u5QTOQXmnR3pZEmXE21OHv/5eH7VJDAhC+UxGUUEqamZM2DrSg8mHyij\n",
       "V7gI/NIK0ZGVy6W+9bSFoEryTpz3YxcQd8ntCvcwdWOrSxGhthB4D2PMilJbaMxeTH5aDvj8C2t/\n",
       "uuKwO5p+xp1VCtmZYQAAADYBnyVqQn8CEpvlhT5kKzBEvXBjsfTsAEEnvTOUhMV8oiXCQOcdhIwt\n",
       "iIl846ED+0NOkErYR6EAAAB7QZsnSeEOiZTAhn/+nhABSPd/Bs9nUgAT7XGuuTJlhv/eAHAK0AEa\n",
       "Ir2PpM/jcFfKeMOAlzQZfMXvyXn4tfSv70eZH4Xc87xADpHRArJTrF4dk4aYKqymNSt3DPLBWcmE\n",
       "HEzJ6n74P/z0uYSpnoJqbwGXM3UlaCUGCtfrAAAAb0GbSknhDyZTAhn//p4QAFI93wijpAAbm/PN\n",
       "RJeNADXmlPHMl2P1Clb059eaklBGRm1M+xhddyaknJaZ2iTi0MY93RgJbidm8vr9KjOiffUeDk3L\n",
       "OzyQhfIXGk1GLaOBFEmhiIlduEJKUULg1qJUfwAAACNBn2hFETwn/wISm+Qcvwv0d4Z6HW29qZX+\n",
       "GAbHowGFH+dfQAAAAB8Bn4lqQn8CGbgFcXQEF1/V6/IAFXifxj5P2Pmdc2IvAAAAOUGbi0moQWiZ\n",
       "TAhn//6eEABPtIvcgDZ4Gpqcz4YlxsVn/Cja9V2JPViKSr5PNd7ytZXvmbxVGS5ZHwAAACVBm6xJ\n",
       "4QpSZTAhv/6nhAAVH3gLvVDHTVdwNSvSAKDwKrEngw/AAAAAZEGb0EnhDomUwIZ//p4QAABNShHY\n",
       "BA+cEVZq0C7NkR8+PWNy/2Er+gp2fPDOZG86BEiyxFX44nzjFnmwKiQt1eGu0gTZ2oax1yO7KJ1c\n",
       "oANX0EI3y9vtS88Ef8XN6kXB3Lh66CEAAAAeQZ/uRRE8K/8Bp5MMr5JjSoOW9PhAXZj1Z37H7qBJ\n",
       "AAAAEQGeDXRCfwIY1JQElRMauNdBAAAAGAGeD2pCfwIZuAODtUzNhV8AN0hkABZ1gAAAAEJBmhNJ\n",
       "qEFomUwIZ//+nhAAAEt4CWudn4AHRhtNlLNuy/s+B15xXRbViOD7i0JOsfevwTLBvCimZvNveZ/r\n",
       "TcfGulgAAAAdQZ4xRREsJ/8CGi8GXwhwpiwcfhFCywXVz3V4FMEAAAAaAZ5SakJ/Ahm4A4O18KAA\n",
       "figXRzZWIV5gLOAAAAEXQZpUSahBbJlMCGf//p4QAk3B9T8QkegA3OB5YDAFJQzpibuIRHD9RmUf\n",
       "Et5/QhSR6Ny+6jxfQBF/oFQojXywAg6Ykn3eyC78rh0aJm+FYxqmcRXtnQWFXw2IlyHEtTc54OfP\n",
       "x68lotZIIibFMtt+RvzYFpl9pe8kX1yO5AAS55KGnqXpv/3I/JUyR2BGnyNHxRCvIYsCgveopc6u\n",
       "zJcrXu23by7NGI2f0HyLHBponpME/HpRuU+perQt9L8TqJh8Fh0lmFddsICbM+mClpgPmAH+LRoL\n",
       "pXv6XZKXYzzF732gXjxlLrV/85Z+REpysYxzaLvDkD2jBFTlbXDnGEn9z7n4xvUjZtZMl4bbwWWg\n",
       "r6sJ7H1umjmhAAAA70GadknhClJlMFFSwz/+nhACTK/chwBrrjtDXzvI99/TqZ1UUfa7OXe/+L7n\n",
       "4NNKp/ggjiwrAPJxjzxuKYDVacH48/WD9nDFHJCr4kyMznhYsHxOrKY0cDkf5srLJ9NLPoOzi1w5\n",
       "foHc7dowDgle+09kQM5cUBhOckTQOFtIA2EKVnuTjzHGipZDVetXC59S6KQIUdESsD0XuMPXu/Fw\n",
       "//NvhAZhXSJHsEhbw0qLrge22jHYc6Z8LSX+EFhM0ZgkJ+dzPW7mp9GKRM6mJ2ZaKFJtVo0WMvzD\n",
       "6sGd9a5AZnbJZsSfEDofFTvTLejifpq/AAAANAGelWpCfwISm+VnPmSGpjMdAMY0tCwwPyJHvBG/\n",
       "rltXWIRmlwAuL4N9WSgtDmn1dt4KoTQAAABdQZqZSeEOiZTAhn/+nhAACSnUianGtwUP9zWJ/mAB\n",
       "UODO1hibGDhm2xSqUO7VntwwNg44xWAWxGLffWkGimr6XWvwz8sEl/SCAdUnaJmY7LmH+0W58bRd\n",
       "bZv2tHMbAAAAHEGet0UVPCf/AhKb4+heQN0LBuOdASk1a8fsx98AAAAbAZ7YakJ/Ahm4A81LwoLh\n",
       "hABO3ES9vgE1vpGAAAAATUGa3UmoQWiZTAhf//6MsAAAkAIloqzgCf1peA4bVtK9+eU8Tm/vt27T\n",
       "ygPiQaQ+QXfml98/LnwRmfOry1/mCSjdz/aU3egBJOS2IljPAAAAJkGe+0URLCv/AaewzHmpkwiC\n",
       "2K2QkuwwAW/Rh1pVlmbKoukJ99iAAAAAFgGfGnRCfwIY1JQIakuYGcc01iuLvMEAAAAWAZ8cakJ/\n",
       "Ahm4A4N+TULPmvIKn6VbBQAAAClBmx5JqEFsmUwIX//+jLAAAEgcocYARSj+lz47au0ldL58b+f9\n",
       "3k1bgAAAALpBmyBJ4QpSZTBRUsL//oywBGddv9pbgwAAWutRN4lhUk493qFDaQPsvDzZ/7DYx8gB\n",
       "NdQNEFsm9AOSdj3vs1xW+NkuzSiZDQQ3ruG5Z9gJIR9NkaHmDS7wyDz/DS2igBboNcq+5WslOpps\n",
       "MG8oAc3LDJBTIMpxgBOY1mHP7LnaxlOVJTn0Y2HjASm8/bi0I9GRMWJUVHqebD+3dvOcSHRL/4uU\n",
       "F+uD2bex9hOFehYU92VGuBn5fS0YlMAAAAAvAZ9fakJ/AlKb9eqT8eTf/dMWHyONy2iGFOKJDDQt\n",
       "/bt/9igCI5HI42N3JrQanxEAAACmQZtBSeEOiZTAhf/+jLAOrrd9QbZr2AAr1bAZPEu9vc6MSp4K\n",
       "tf4Dzw3OEp/EznYbc8apcncLUC0Se1hVS8dwea+Gi569f9qawe29us6Y5JCOjMBbS4AV49f9oTjZ\n",
       "53vZL+dInK9w9h0s+MFqIzUubdUjebaB6NI7RVHcNdlqeC0gdunF6ndAD957xajNdmrbIgX/7a+p\n",
       "IB2yiqmRqhEGumRlbl8kQAAAAExBm2NJ4Q8mUwUVPCf//fEAFY+cI0/ysr7dt0cC7cIgCxkAJwi3\n",
       "P8qTtRUz8zvMrBwbPOIJs+waMsJe6zbFuB1H3qajEisqxf8VbqvRAAAALAGfgmpCfwISm+VdbXpo\n",
       "82FfqsptjbtIgsAEzf/GD+vvxKHgBDVE7NJYJ/6AAAAHhm1vb3YAAABsbXZoZAAAAAAAAAAAAAAA\n",
       "AAAAA+gAAAu4AAEAAAEAAAAAAAAAAAAAAAABAAAAAAAAAAAAAAAAAAAAAQAAAAAAAAAAAAAAAAAA\n",
       "QAAAAAAAAAAAAAAAAAAAAAAAAAAAAAAAAAAAAAAAAAIAAAawdHJhawAAAFx0a2hkAAAAAwAAAAAA\n",
       "AAAAAAAAAQAAAAAAAAu4AAAAAAAAAAAAAAAAAAAAAAABAAAAAAAAAAAAAAAAAAAAAQAAAAAAAAAA\n",
       "AAAAAAAAQAAAAAGwAAABIAAAAAAAJGVkdHMAAAAcZWxzdAAAAAAAAAABAAALuAAAAwAAAQAAAAAG\n",
       "KG1kaWEAAAAgbWRoZAAAAAAAAAAAAAAAAAAAMgAAAJYAVcQAAAAAAC1oZGxyAAAAAAAAAAB2aWRl\n",
       "AAAAAAAAAAAAAAAAVmlkZW9IYW5kbGVyAAAABdNtaW5mAAAAFHZtaGQAAAABAAAAAAAAAAAAAAAk\n",
       "ZGluZgAAABxkcmVmAAAAAAAAAAEAAAAMdXJsIAAAAAEAAAWTc3RibAAAALNzdHNkAAAAAAAAAAEA\n",
       "AACjYXZjMQAAAAAAAAABAAAAAAAAAAAAAAAAAAAAAAGwASAASAAAAEgAAAAAAAAAAQAAAAAAAAAA\n",
       "AAAAAAAAAAAAAAAAAAAAAAAAAAAAAAAAABj//wAAADFhdmNDAWQAFf/hABhnZAAVrNlBsJaEAAAD\n",
       "AAwAAAMDIDxYtlgBAAZo6+PLIsAAAAAcdXVpZGtoQPJfJE/FujmlG88DI/MAAAAAAAAAGHN0dHMA\n",
       "AAAAAAAAAQAAAGQAAAGAAAAAFHN0c3MAAAAAAAAAAQAAAAEAAALYY3R0cwAAAAAAAABZAAAAAQAA\n",
       "AwAAAAABAAAGAAAAAAIAAAGAAAAAAQAAAwAAAAABAAAEgAAAAAEAAAGAAAAAAQAABgAAAAACAAAB\n",
       "gAAAAAEAAAeAAAAAAQAAAwAAAAABAAAAAAAAAAEAAAGAAAAAAQAABgAAAAACAAABgAAAAAEAAAYA\n",
       "AAAAAgAAAYAAAAABAAAHgAAAAAEAAAMAAAAAAQAAAAAAAAABAAABgAAAAAEAAAYAAAAAAgAAAYAA\n",
       "AAABAAAEgAAAAAEAAAGAAAAAAQAAAwAAAAABAAAHgAAAAAEAAAMAAAAAAQAAAAAAAAABAAABgAAA\n",
       "AAEAAAeAAAAAAQAAAwAAAAABAAAAAAAAAAEAAAGAAAAAAQAAB4AAAAABAAADAAAAAAEAAAAAAAAA\n",
       "AQAAAYAAAAABAAAHgAAAAAEAAAMAAAAAAQAAAAAAAAABAAABgAAAAAEAAAeAAAAAAQAAAwAAAAAB\n",
       "AAAAAAAAAAEAAAGAAAAAAQAABIAAAAABAAABgAAAAAEAAAYAAAAAAgAAAYAAAAABAAAEgAAAAAEA\n",
       "AAGAAAAAAQAAAwAAAAABAAAHgAAAAAEAAAMAAAAAAQAAAAAAAAABAAABgAAAAAEAAASAAAAAAQAA\n",
       "AYAAAAABAAAGAAAAAAIAAAGAAAAAAQAABIAAAAABAAABgAAAAAEAAASAAAAAAQAAAYAAAAABAAAD\n",
       "AAAAAAEAAAYAAAAAAgAAAYAAAAACAAADAAAAAAEAAAeAAAAAAQAAAwAAAAABAAAAAAAAAAEAAAGA\n",
       "AAAAAQAABgAAAAACAAABgAAAAAEAAAMAAAAAAQAABIAAAAABAAABgAAAAAEAAAYAAAAAAgAAAYAA\n",
       "AAABAAAHgAAAAAEAAAMAAAAAAQAAAAAAAAABAAABgAAAAAEAAAMAAAAAAQAABIAAAAABAAABgAAA\n",
       "AAEAAAMAAAAAAQAABIAAAAABAAABgAAAABxzdHNjAAAAAAAAAAEAAAABAAAAZAAAAAEAAAGkc3Rz\n",
       "egAAAAAAAAAAAAAAZAAAEAgAAAI9AAAAPAAAACMAAABZAAAAUQAAAC0AAABXAAAAJgAAAB0AAABc\n",
       "AAAAMAAAAB8AAAAbAAAAWgAAACcAAAAbAAAARwAAACgAAAAcAAAAZQAAACMAAAAhAAAAIgAAAFUA\n",
       "AAAhAAAAGwAAANAAAAAoAAABNgAAALMAAAAxAAAAOQAAACEAAACVAAAALAAAACYAAAAmAAAAWAAA\n",
       "ACoAAAAdAAAAIgAAAHkAAAAmAAAAJwAAACQAAAB/AAAANAAAAB8AAAAqAAAAPQAAAC0AAABMAAAA\n",
       "LwAAAC4AAAD2AAAAQAAAAOYAAACOAAAANAAAACIAAAAgAAAATQAAADMAAABUAAAANAAAACkAAADi\n",
       "AAAAOgAAAS8AAAA6AAAAfwAAAHMAAAAnAAAAIwAAAD0AAAApAAAAaAAAACIAAAAVAAAAHAAAAEYA\n",
       "AAAhAAAAHgAAARsAAADzAAAAOAAAAGEAAAAgAAAAHwAAAFEAAAAqAAAAGgAAABoAAAAtAAAAvgAA\n",
       "ADMAAACqAAAAUAAAADAAAAAUc3RjbwAAAAAAAAABAAAALAAAAGJ1ZHRhAAAAWm1ldGEAAAAAAAAA\n",
       "IWhkbHIAAAAAAAAAAG1kaXJhcHBsAAAAAAAAAAAAAAAALWlsc3QAAAAlqXRvbwAAAB1kYXRhAAAA\n",
       "AQAAAABMYXZmNTguMjYuMTAx\n",
       "\">\n",
       "  Your browser does not support the video tag.\n",
       "</video>"
      ],
      "text/plain": [
       "<IPython.core.display.HTML object>"
      ]
     },
     "execution_count": 10,
     "metadata": {},
     "output_type": "execute_result"
    }
   ],
   "source": [
    "HTML(anim.to_html5_video())"
   ]
  },
  {
   "cell_type": "markdown",
   "metadata": {},
   "source": [
    "---"
   ]
  },
  {
   "cell_type": "markdown",
   "metadata": {},
   "source": [
    "## Plot different events separately"
   ]
  },
  {
   "cell_type": "code",
   "execution_count": 11,
   "metadata": {
    "ExecuteTime": {
     "end_time": "2019-05-01T20:19:16.965824Z",
     "start_time": "2019-05-01T20:19:16.755124Z"
    }
   },
   "outputs": [],
   "source": [
    "# Prepare data\n",
    "transcript_received = transcript_data.loc[transcript_data['event'] == 'offer received']\n",
    "transcript_transaction = transcript_data.loc[transcript_data['event'] == 'transaction']\n",
    "transcript_completed = transcript_data.loc[transcript_data['event'] == 'offer completed']\n",
    "transcript_viewed = transcript_data.loc[transcript_data['event'] == 'offer viewed']\n",
    "\n",
    "t_received = pd.DataFrame(transcript_received.groupby(['time'])['event'].count()).reset_index()\n",
    "t_transaction = pd.DataFrame(transcript_transaction.groupby(['time'])['event'].count()).reset_index()\n",
    "t_completed = pd.DataFrame(transcript_completed.groupby(['time'])['event'].count()).reset_index()\n",
    "t_viewed = pd.DataFrame(transcript_viewed.groupby(['time'])['event'].count()).reset_index()"
   ]
  },
  {
   "cell_type": "code",
   "execution_count": 12,
   "metadata": {
    "ExecuteTime": {
     "end_time": "2019-05-01T20:19:16.990138Z",
     "start_time": "2019-05-01T20:19:16.969843Z"
    }
   },
   "outputs": [
    {
     "name": "stdout",
     "output_type": "stream",
     "text": [
      "6\n",
      "120\n",
      "120\n",
      "120\n"
     ]
    }
   ],
   "source": [
    "for df in [t_received, t_transaction, t_completed, t_viewed]:\n",
    "    print(len(df))"
   ]
  },
  {
   "cell_type": "code",
   "execution_count": 13,
   "metadata": {
    "ExecuteTime": {
     "end_time": "2019-05-01T20:19:17.015639Z",
     "start_time": "2019-05-01T20:19:16.990138Z"
    }
   },
   "outputs": [
    {
     "data": {
      "text/html": [
       "<div>\n",
       "<style scoped>\n",
       "    .dataframe tbody tr th:only-of-type {\n",
       "        vertical-align: middle;\n",
       "    }\n",
       "\n",
       "    .dataframe tbody tr th {\n",
       "        vertical-align: top;\n",
       "    }\n",
       "\n",
       "    .dataframe thead th {\n",
       "        text-align: right;\n",
       "    }\n",
       "</style>\n",
       "<table border=\"1\" class=\"dataframe\">\n",
       "  <thead>\n",
       "    <tr style=\"text-align: right;\">\n",
       "      <th></th>\n",
       "      <th>time</th>\n",
       "      <th>event</th>\n",
       "    </tr>\n",
       "  </thead>\n",
       "  <tbody>\n",
       "    <tr>\n",
       "      <th>0</th>\n",
       "      <td>0</td>\n",
       "      <td>12650.0</td>\n",
       "    </tr>\n",
       "    <tr>\n",
       "      <th>6</th>\n",
       "      <td>6</td>\n",
       "      <td>0.0</td>\n",
       "    </tr>\n",
       "    <tr>\n",
       "      <th>7</th>\n",
       "      <td>12</td>\n",
       "      <td>0.0</td>\n",
       "    </tr>\n",
       "    <tr>\n",
       "      <th>8</th>\n",
       "      <td>18</td>\n",
       "      <td>0.0</td>\n",
       "    </tr>\n",
       "    <tr>\n",
       "      <th>9</th>\n",
       "      <td>24</td>\n",
       "      <td>0.0</td>\n",
       "    </tr>\n",
       "  </tbody>\n",
       "</table>\n",
       "</div>"
      ],
      "text/plain": [
       "   time    event\n",
       "0     0  12650.0\n",
       "6     6      0.0\n",
       "7    12      0.0\n",
       "8    18      0.0\n",
       "9    24      0.0"
      ]
     },
     "execution_count": 13,
     "metadata": {},
     "output_type": "execute_result"
    }
   ],
   "source": [
    "# Augment t_received to len=120\n",
    "t_rec = pd.merge(t_received, t_completed[['time']], on=['time'], how='outer')\n",
    "t_received = t_rec.sort_values(['time']).fillna(value=0)\n",
    "\n",
    "# Check results\n",
    "t_received.head()"
   ]
  },
  {
   "cell_type": "code",
   "execution_count": 14,
   "metadata": {
    "ExecuteTime": {
     "end_time": "2019-05-01T20:19:17.225172Z",
     "start_time": "2019-05-01T20:19:17.018181Z"
    }
   },
   "outputs": [
    {
     "data": {
      "image/png": "[encoded data removed]",
      "text/plain": [
       "<Figure size 432x288 with 1 Axes>"
      ]
     },
     "metadata": {
      "needs_background": "light"
     },
     "output_type": "display_data"
    }
   ],
   "source": [
    "# First set up the figure, the axis, and the plot element we want to animate\n",
    "fig, ax = plt.subplots()\n",
    "ax.set_xlim((transcript['time'].min(), transcript['time'].max()))\n",
    "ax.set_ylim((0, 18000))\n",
    "line, = ax.plot([], [], lw=2)\n",
    "line_y1, = ax.plot([], [], lw=2)\n",
    "line_y2, = ax.plot([], [], lw=2)\n",
    "line_y3, = ax.plot([], [], lw=2)\n",
    "\n",
    "# Initialization function: plot the background of each frame\n",
    "def init():\n",
    "    line.set_data([], [])\n",
    "    line_y1.set_data([], [])\n",
    "    line_y2.set_data([], [])\n",
    "    line_y3.set_data([], [])\n",
    "    return line, line_y1, line_y2, line_y3\n",
    "\n",
    "def animate(i):\n",
    "    received = t_received.iloc[:i+1]\n",
    "    transaction = t_transaction.iloc[:i+1]\n",
    "    completed = t_completed[:i+1]\n",
    "    viewed = t_viewed[:i+1]\n",
    "\n",
    "    x1, y1 = received['time'], received['event']\n",
    "    x2, y2 = transaction['time'], transaction['event']\n",
    "    x3, y3 = completed['time'], completed['event']\n",
    "    x4, y4 = viewed['time'], viewed['event']\n",
    "    \n",
    "    line.set_data(x1, y1)\n",
    "    line_y1.set_data(x2, y2)\n",
    "    line_y2.set_data(x3, y3)\n",
    "    line_y3.set_data(x4, y4)\n",
    "    return line, line_y1, line_y2, line_y3\n",
    "\n",
    "# Call the animator. blit=True means only re-draw the parts that have changed.\n",
    "anim = animation.FuncAnimation(fig, animate, init_func=init,\n",
    "                               frames=120, interval=100, blit=True)\n",
    "\n"
   ]
  },
  {
   "cell_type": "code",
   "execution_count": 15,
   "metadata": {
    "ExecuteTime": {
     "end_time": "2019-05-01T20:19:21.726057Z",
     "start_time": "2019-05-01T20:19:17.225172Z"
    }
   },
   "outputs": [
    {
     "data": {
      "text/html": [
       "<video width=\"432\" height=\"288\" controls autoplay loop>\n",
       "  <source type=\"video/mp4\" src=\"data:video/mp4;base64,AAAAHGZ0eXBNNFYgAAACAGlzb21pc28yYXZjMQAAAAhmcmVlAABNyW1kYXQAAAKuBgX//6rcRem9\n",
       "5tlIt5Ys2CDZI+7veDI2NCAtIGNvcmUgMTU3IHIyOTM1IDU0NWRlMmYgLSBILjI2NC9NUEVHLTQg\n",
       "QVZDIGNvZGVjIC0gQ29weWxlZnQgMjAwMy0yMDE4IC0gaHR0cDovL3d3dy52aWRlb2xhbi5vcmcv\n",
       "eDI2NC5odG1sIC0gb3B0aW9uczogY2FiYWM9MSByZWY9MyBkZWJsb2NrPTE6MDowIGFuYWx5c2U9\n",
       "MHgzOjB4MTEzIG1lPWhleCBzdWJtZT03IHBzeT0xIHBzeV9yZD0xLjAwOjAuMDAgbWl4ZWRfcmVm\n",
       "PTEgbWVfcmFuZ2U9MTYgY2hyb21hX21lPTEgdHJlbGxpcz0xIDh4OGRjdD0xIGNxbT0wIGRlYWR6\n",
       "b25lPTIxLDExIGZhc3RfcHNraXA9MSBjaHJvbWFfcXBfb2Zmc2V0PS0yIHRocmVhZHM9NiBsb29r\n",
       "YWhlYWRfdGhyZWFkcz0xIHNsaWNlZF90aHJlYWRzPTAgbnI9MCBkZWNpbWF0ZT0xIGludGVybGFj\n",
       "ZWQ9MCBibHVyYXlfY29tcGF0PTAgY29uc3RyYWluZWRfaW50cmE9MCBiZnJhbWVzPTMgYl9weXJh\n",
       "bWlkPTIgYl9hZGFwdD0xIGJfYmlhcz0wIGRpcmVjdD0xIHdlaWdodGI9MSBvcGVuX2dvcD0wIHdl\n",
       "aWdodHA9MiBrZXlpbnQ9MjUwIGtleWludF9taW49MTAgc2NlbmVjdXQ9NDAgaW50cmFfcmVmcmVz\n",
       "aD0wIHJjX2xvb2thaGVhZD00MCByYz1jcmYgbWJ0cmVlPTEgY3JmPTIzLjAgcWNvbXA9MC42MCBx\n",
       "cG1pbj0wIHFwbWF4PTY5IHFwc3RlcD00IGlwX3JhdGlvPTEuNDAgYXE9MToxLjAwAIAAAA9OZYiE\n",
       "AD///vdonwKbWkN6gOSVxSXbT4H/q2dwfI/pAwAAAwAAr9Z/EGgw1ApEcMrtnGWJCa4cryPeqUig\n",
       "BGawIGd7GV2dhh180SSzanuJAunggfS166ycSrbjKNkVPtXvD19LJ9+D1mc0Atp+Bh7dNuPKJh2c\n",
       "BaeEwbbOPrk0TFIhQuv/+q+oBn+Jlsd5NGqY8gSlwAAACYvNKEX7A1+dphLWdoTrt9F/OAt75Tpa\n",
       "bUA8W08GRxqe6OOllR1NOabhuLZv8wEbhYrB8VRm9Pd8vbP4RvP/gR2uCfezjJArlxrK+twl6Jci\n",
       "2h3ELO31/T1r78e9WTjU+K0ir6Ow2yX5GzwcvCzccalFMMStiSV0R1pt2czPG7tmAXrvp7cLDk1Q\n",
       "QYWeJTrZMfQ7ACOS1CPhta2fqvVXwvQqSW7U/EVuZvnSwrcID7lU6fo15NhGbPGeISSTLlKBBIiv\n",
       "k+vcvSQH5HOM1HKdgSMmqxCQVCz0Xdn8tMd5j9IU3JGLfuiGSIxHQoSeph01Oq5rEABCFIKS9vk1\n",
       "QiNhjSY7uNz/0u8pq1PYwgM0lRTfR9qvasTxDtdQIKYLNGjB9K8WxEsj37yzs0aT8v3OK4dqQxEp\n",
       "8MX0mjst1ccUCDISAmp+VYsqC4uBTeV34+F3nEMReh1M5gRr9WBEHh69R8YwqQPNs917Ipf0HzUB\n",
       "24gQunOnBU7L1x8NM4K4QVREcw37YGZCgZjDwV9EybGaYlR8WymfOmKlmpQDBC7cz8Kjyw7lTyQZ\n",
       "HgKIbzWOQDe1xpMm+8rs5juplNv8b8J/1y/QrkCOfBm/Zb0QIYQlPGRauXzRS9r1tomSI/zOMBSd\n",
       "2pliT88b0Q9BzHiB+GASlsE99jPqfxjDN0L4CnP+vWAVQ2/SUchHn5wSc8lf/Wh4I4E3CmWWhvyy\n",
       "tLXh2oyDYclg1muqbpDWrL3yfD+5heHQebEbm5LtfQweTeYbZ8Ax2FdPfoUjuu8igADsIxg3Imh0\n",
       "FxxK9eXrgqX6vkD73EDbxBoV3GJDsfo2T6A6CgZHG/ava52fV19SWJuBouB4ejMwBazIia2Jo7V5\n",
       "tUSS4ckVsqKi/uYSrk0TFItKSW1s8NAGfRAAACoFCxA/tImM1xcYz44dvov5wFePOEIe0ubRfufJ\n",
       "WfFVF72oLMXnlN5M0AnSyJCSCeNb3LDm1qO0SFJTpUtQCqbvReWPARVee4O9RQJ6z7ZphcH0iD41\n",
       "3j+lGmWQtLmt3LRRCQZZlOsljqNjczGyG6qeTitNOrA2F8c9vVIQqBLmVtXCBlD47AA3FMc6MPU9\n",
       "hfehylfNDAQlsSeqdz++CRmb8fkmKqmAiASPpbNilEFg+w6nvArSZUFEzk+Sp8JC+JqDa1HdMFnc\n",
       "BvXqaQGVQPNRojV9dziWdC9AQEepgh2OE9xtIAV/jnOiazDMkgZg0tB6NvgfyPKbJyTZ+tgWGhJb\n",
       "FYWokvjr87ndTA5sqtNCnpJpmwR4ZRTRN4N1dWNllpaZZcxGXKq01GDqPZJV8ntdE51iShqec+zR\n",
       "6I5GGAKk+fDIOsi4XzGiYieIzvV/0anHNP3qyyWns0himKy7FTDjDTwLMIoB3u5vlpLieC1WCgTl\n",
       "03JqSO+p6ofsem8UPGSmldV13zwnymu1rP3xAMVmwPP1xosMKuQI58uehwotAh0EB3knCQnsxoyr\n",
       "JuNaKicOu6dnKYiCeu36ehr36jSqH4YBKWwZ4mKunKqTXBIPZHNeQp4TCd5doiaLVIIFHV5WlgDJ\n",
       "5HAm4VplMwev5vxBKPMEcPYZ3yAEWBPtdFU53rztofxT0kISFwmP8CwOt0lqqWomAAQejt9KTTWq\n",
       "yrSTE2S06Uv1fIH3tsVmvVgSW4skeyQ/9d0ziG4qHNqfUrnMMy5sM2Ip/nPPDTB+cFc5StwUMQeL\n",
       "t7N6a7ARisQt86Jc4aHjxN5Ktt4VmNeEclXTvKhHeidvp4AsCpxIPzpInAFONrJYG6gTEGyXtNnC\n",
       "qR1/BKlnBuXVBZvAeAfVqoEwZdBoVqYs0Zf2zo8EvgMOkF0I0tb9lteo/I9SDgT2lHmHd98U7pSf\n",
       "14qZCNgUMr2xp2OFnwrqS+aZ8QYKmJPQFGw71XLH9kdbhDve/7SnoqkEdqOw1yx9qNAW9TneC0Wi\n",
       "WKMoUWvdZEBiIRxlKDveAoIaxo6q2Y59alGQUoys4iFy/Fm3DqiXLuEvdAiFnE6ZNMABqbREVk4P\n",
       "25azaeMCNfUaO2eMVIi2FwoOdaJ+rgB3wRUGIyJsthV+unxL+z1DdogXVPFaQhpqM8R+RQwrOaIT\n",
       "GZOXNPphbVEt9kqmX7EbzlExvQqHOQZkjs5H19R7i9qXP7VwAPoMzIyGaTrUEqtFh2NLxQuYAVl0\n",
       "hbgAmsaZxxDofBcWKlMzG4QeZi0b8LZAHGKnOP46HDNyCVdKOLhIVy3sHNv5g9CnrUAWd//rW7WZ\n",
       "8bQ/1GFc3Ca1sNvXuoaF6nTfa5NqaJjjouO8r+JzHviES7al0d/F+JqQR2m+t2dEg3ksOfye7TDM\n",
       "oyXlmQhBUUrYC7NL4Wo1k6+KIvq7fupgZzW/Rc1dVPKmiNN/I19AO6u/FaA0U66gAAGrMMYOQZJZ\n",
       "XPxba3rxknvjWtXICmrzgU0bJ8STsVX13YHoaYQe76CTmBkKKfWtwT+UdbUt1C3VRAlcCuFzs6R4\n",
       "FzxW47i5s8+oWdnrC9l2d6DerjFJlAjPL9EXEGKr/buH0KtYwWvJ0fozw37/nI2B3RfYy8QDMAMw\n",
       "XqOMaW9CFRmpcR5uSyAdyj9U6+oFfxvP4n9yAAALjgzxAfQsywxjPNRB94EazoF9QAAvSGuerPm9\n",
       "p1mdDdoqc0sd9HBcdaHRgqZrPTmtShYvLEQSANaWjg7c04sIveMffcq7uuRP7cIRQ5R2QflPDfIJ\n",
       "zEiRAjA+AnSkBJXTM/w0/o5Nk4zj3DKVFxM/j+NrpOz5chP4JAt2HT678GzvzR9P7FhWl/W+muKh\n",
       "dCyBiuAtg4PTJSlk1bYw0Ne2M7WG8ZztlJhxct3OmLaQBnUQTjBh6TaIYKSdR4Ki1C1RAAADAAB8\n",
       "Aey9lCqoKUV0EsWhQbNQ7aMV8wiB+AWoAwi0EUTThpv+mgm2b+q35c5+bkpEHQbh61fET5p8CMGt\n",
       "6d/QI9xWPaT1j4X/6sS+FBuBBsXvqXvXrc8fDFCCxwmRpYhr/qFj8SkU6D4J9UFOAemjXSCsFBGl\n",
       "XD2SJRyfRLOwV/UT8v6STH9SMYFcyAAByf0OrUEr+w5Pfs2oaqsrgysWPb5kBG+B0LXkvZ81Jzg0\n",
       "O7Vir2j6+BuFSM5QgMgWqDIOJ2I2j6ew4SURM1ICy6Mz1yNK1b47kc/aZ8jN0+D////9qZQ2Fa45\n",
       "sfHZbTTQRLe0O2fmpEjpZ5UiGJf+UFi+6wQibY8RKZGcoB0++XRkD85OW3VIeLXJStLkmuZmQxUA\n",
       "0SCc7rYggrN+nDxj+G6uYZS3vG3QxFfKDDdLE5hzG0mVH4JMU6UMehRzHgpYnDZ+yDSA71USuDVR\n",
       "T7kWt//+IMes+aeTIoBhxahdaeAmpipHCiYweVE0DrJBcoSWOjjw26tJJKvgA8ThmOP6o0xQFwjj\n",
       "HZH9fmplZ+KNjxVH66Zygq/s+kuZuhN+EM9LPdpBeeBqWM5TPbrb7OgISzWA74QVWFnNnNBepGAg\n",
       "Zw46YkS6XInRDerSI51a9CTcfSFnIj5m5SsuoMhy/OJHLoS51WmoczLxWUjTz0PF5Ls+sHA8PAgY\n",
       "yHXI2zc/EFIUsPu0ya5ebPDKEp4LC4LOEy8EO4idew4kuwBwVf4Zk0iAiKxTWoCucOUW1XvLWORq\n",
       "b9CQ9hBn5HDgtFGb9nuaQvH7YMKglk5eJy+mcaER/l6Ww6WIIyRfI49swfXHM8vKuXd3FBicL6An\n",
       "ZL3c/h16w2ZROt6MGi+fgb+l24h5/ro/rcJ41cczxRFDYcFLQ5nZLu3/ZjBu+FOX+fQmvA9U1Sk0\n",
       "yNfcYvgxzmnG757gB4Lb1HuisfpAWgI5s/ymWh+dlB++zJMmjvZ0esZTKAJBfSDhy8QA3BrfyK/Q\n",
       "lJGSGERzkcAODPw9xqln6sBQy0PLPwTMJB3F3aT3c91QpNqNiMBj4WDzf+eN7oyZYR0pIjD7Hkq+\n",
       "U4d9/IdkAFqCpzZxIlEazmVvGnBBhwhXtm1TvGHI/SERbJcCUVSCzufyo9uLF5vHOD0R0jm69KtH\n",
       "QwP0mZVLHw84q05tP5V5PhAdytAoxKRoDtuenmjrybBOy8bT+sdGKeFMUZsJ/Q+u5qhTy348NJ/6\n",
       "B/ASgOLZsZG3ORdyEO4vPNB4bTqT0q3ysO40eWBJVCuFcTmfiJ47ngq7mvefz+NT+TEYaII3+QiS\n",
       "dcVpG/qXYBD0berkh/Ti20A4XsdDBl9aHtOOfKZm0cuIyZtAkfC8k7yOfk+0dVb7x5OIiCvG+mAa\n",
       "9UBPsvsLsVYXfbIoK+MZZ58pNFSPydldw3tkp2uRS6zpV7wS2adqM7bEOCyBo48rWOuPhUlzlEjT\n",
       "TW4ht3yOmnZUG8qXzDJ6zQvOc++Yjt3fynrF3BHgf6z3fsG6ZzqurRO+yKmJ+nH+WpTYVEApDkbz\n",
       "gnJmYcFbQCZ+z7UtkZOVMGD+UUcPQnfsWPp4AaOLmTeUIqm9N3NLRz8b3vnwbC4IJGZogzD1/S4p\n",
       "43fEQ9qPNFAp5z7SCmFVfKktItctFPWZSuDkCmkJwtPprITNFyqubjDhfFxIYDeIIbU0xjmZFIWE\n",
       "1edmVGJaidAqQRQgIqQtS1DVXWebCm3ow39UJ4NiQWtMoGZ4cxFfZoke+Igop7J4sUZrzyL+eMiA\n",
       "RoYaz+6WKPmgM39veaf+cHM2LnE60S8t6h0i3Xq2XHZs0v+/asmV/Ku2NQ9SXEASQE42uyaYUEE7\n",
       "j3jmxO/3K2EUNUjpUeYIJzkUv4OzzZRpBL7ZIsh7gMmAIP/0uF7gMi0KPCrnLDLXtA+R1Yjiv7wf\n",
       "8pZgoIPkW5/NayDNXCKic9YJ/o5LskqodHtbka4gCUAkrKYgdfJeo9mb7XrUDGxw827zKr4G0zLa\n",
       "QtM5ukNzcfh3afZcXKLnC2pU519oee3lONtIQtuQ3P2gfb29dycI5CGWEYiKtkbT1Mslo6JO/yvG\n",
       "OXVdE6N98C7nRbinT1pDOC4SpFmOf9QQQErgJUOJHC/oQfbUqJ420unRnnzJVNlkfuiFPRrA8dLX\n",
       "5uY5WoIwn5CoSfgg6GF5StTPFTc6284F5bDsnXn2QAAAAwAO6Ab9AAADN0GaIWxBD/6qVQBJDggA\n",
       "DcDXcd+aacOGJUqpQTOyPXZocG8d3gh9qH+JpMrpIEnXUD+TPKkjAs+jjrGExcUtj4B63qOuQjUt\n",
       "ASvnS6gJTemB3FF1YQpb5n7HcjCbYrXQbsODy3+BytZc8iDieRTKkYgTEI78sQAYjY7qyEP3Dide\n",
       "Ap63aOwdI5X3kxEmtVYoM9qXAUMKY/0jLMqMPnnh7M+c+aYLeAOOaT9mMjiCQvKu8xpTNEllqe7S\n",
       "nXT4I+FJPGtqNaygTmOhKd3lDBpHL2LXLGBh+DO0YxeEUl5H+weYvw+o/LilbzyNs/pmYNHhevic\n",
       "uwbIapax1HmyCb73zlN9zxHYhYl8XawLpsfARrO8reNBFYfAujmgcPVbQWcz+1fOSIJm2WSgx67k\n",
       "8lgx4Ulic2lziEy2BIJ8SR4Hh/NVYOGcwChrfJjS8mcCuwaUtRB21Kth/qVR1r9ZtOUEFWuVgXc/\n",
       "uKqGIFzYwfl8iHd49Mn/zEDI7z6tVAVJnQkuKi3a4I/PRcUKl85jJJZTsBzVtnyKUL3UYUjEBuRw\n",
       "ZFKLPqh6Tq8LIqJK+JuD/v0T47hBYesu/Qef74gQfNFZM4oJI9uUQNqbyWj8/n/eVjWOakHAdGOf\n",
       "oRyufkJRcTAYXnQp+6MlKUzJn4hIV7n3Ts3smyZ11WRNuxBGKAHTypLWBaVi4lK1tmqTgvS7Ntxo\n",
       "c+HOVgoSJEJN8GLnhG4zoi1s5TTe5TM8AWBlOW9sZBtZ3eVRtePV6X4bRm9U5dA6DFaVsZkYK3rX\n",
       "6wktO2PdDTc8ne1F9vYkG5jRVfvFd+nCeLgqM8mnbjvKEgrBeAc0wQ2lzBhlWXuJl5+29On0u79I\n",
       "V8WLfmk7vi7qqdjd14IUWsQFrg3mR/zuUA31mcMNG8ICyDEjIqA/p1r84paUMFS8AX0/KXHGzT11\n",
       "9niW4Ec7mupyrq3N/YLdorhPWKOasTYiDqd4ypl2+zR7dBYV5ehPaHLgXLFKg+JiCY/KjlylhlGv\n",
       "YX90iPfaqujzzXj9Igjjab4SWO3WrxUI4b0AKRONNBkwWszwHu3sH5d5DFLbSgmV1XXl6RzTD6NB\n",
       "SgAo4l4Ep2TzwrIAAAD1QZpCPCGTKYQQ//6qVQAA5H61wIAMcr93eVPszmB/s71twWjcqfGaYdm9\n",
       "H/XExpZfGNcoIrOVEFmUq5vC2vEqTVDjv2TWbMXEjV2AXTQhQv4kJBKp0dd4NcudVUWR5KD8GLwV\n",
       "CoN3wMWw77uJlxIFtwzeKKSZuTqcExjOL+ixAdGfm2HHPZqhzAAFNHJoAJVt3IqM/sET6S4uOLqJ\n",
       "CxZeZQCbQgKfsJKszjeP0O/rxaP9wMYu/v2duqZejz93O9bzGjuRsmlVLlum3lfr+Q2QLLFBcvg4\n",
       "tOCVydRB7cDFFr/fv/1FrfduaO8mZPOMDwLJZHnPJsMAAACuQZpjSeEPJlMCCH/+qlUAAAMDjfWv\n",
       "MzgCzKQXA1gkCCwg9fHjGbS9sKFcumjftKo32AHvpY/38AOsELkg5E5TanYmeJO8QrmjxPlAf2WD\n",
       "2jd/lZi0sXqPzz2Phbida9jbPxiGY098lXp6rAmfyJj3CyHyYNwtklUz+yiz9zv1QbvK3BOYXhsE\n",
       "kfDc0IcReazN5YkuA30rXSt2heheQnMfwwwv+dAwdCET8XkNogEIAAAAuEGahknhDyZTAgh//qpV\n",
       "AAADA320v/SDH3QCkIxcylFzbVQTORXCOYR9/QBarVW9TjDPbrNRq5r5fS+TXjW/5yel6SM8+7lD\n",
       "buRaB5sepWrC3FWyG3isj19nyhEhXRdfhpy/MB4OlZMHZTn7LC5xI4S0d+YxUtnTOgu25AhW4BpB\n",
       "lGFM/30laCj+WlmOspvHgvKKqTPi0zAoROWzM/1OMZGAAN9jolqnfVnUR/X62oyyZJ3XqwWzqc8A\n",
       "AAA6QZ6kRRE8N/8BzgMaZD4cDHg0NYCgLWk5WpkEooYGzRKKnRNCqZhmXiXf5dsOaMlzDZo1Je4N\n",
       "EwdiHwAAADkBnsVqQ38AAAmQQXTzoALBRCp1T78i69MbOFbIyd2KiIO+a/9ckoN4AnsutmqafSSx\n",
       "k4juX3enGjEAAAB1QZrHSahBaJlMCCP//rUqgAABvaecteIBa7gkqXvEB65wcrww1K92P081z0bp\n",
       "8OYNCkaSpLINdbh9V2WKKC4TStTRzGBe9ZGL2FRPvkctQwXns3/kLGi+MzolXy3FP1rvFb49OnE0\n",
       "+AfbJoj9mSXz4d+xZo3DAAAAq0Ga6UnhClJlMFESwR/+tSqAAAG9p/oc3gISgRijj2UmHZtRi+qD\n",
       "0MKVLUIlO0DPwtCcMXUPG80Ov/YLctqX7kAkOeiGR0i3j8Ld5m1rQJ5W56aazWr33cdxb1GIzDTn\n",
       "DEx1wUJrbWA+PsIUnR0VzYDvVsODNcieGXc9eemGELWxDQYQM5bBQ8zvxy8rwGEriA3CAWRY+eQg\n",
       "7ylOjI7S09G4oP6nn7q8NQXgNAAAADYBnwhqQ38BzgMaZD4cDHX0Twdfj6Oj1GhvDcAIQPtMk3pc\n",
       "h57ZlBPI5UPV0i7nVud40qYqt/gAAABlQZsMSeEOiZTAgj/+tSqAAAGyzZf1AwATqHLewu8h9ET0\n",
       "LN7uRtMCgeGhnLqqIEtOXFNwsv7CZt9uy0JTCIzUKKmS/6evuszmYww016Er1R5JfNPtWSBb4H7r\n",
       "NGdf2EveAZbwKIEAAAAyQZ8qRRU8N/8BzgMaZD4cDG4cygvgFoW99SkuvR82KJQDpIDo9HbAv2hB\n",
       "UFFs4n+bKLQAAAAxAZ9LakN/AAAJbUIJRPADiPg6Y9NJKMzFBeEj8juzd1YT7V9oxRRiE0fVm9d6\n",
       "HaQoWwAAANNBm1BJqEFomUwII//+tSqAAAGzqCmHPACh3n7UPOWWkqj+vEjtdRG4U9j1jBXwP1uR\n",
       "V2sRTYay2FFfc4y7UiiuLoLcfTLF0Aio1FQk1790TGSEl6PVtHSt2zMr3zAMSOACCzlQ9EXvDp7B\n",
       "BIvmWZu+swUOhY5zALH58BhWbAmjPibbU0xlycFzYa4hVwXtDHTUTXVRrPm20PLxv5/Dg1B9BBeR\n",
       "FQWt5hEp6fvSsAMf0WJjLcr7WB9Pt4csiCuqftvn4M194VSiv9iuSgPxD8bLmqf5AAAAPEGfbkUR\n",
       "LDv/AUx1C8hOpvRgMR4LM5Yo0ALou6I9lyTfKuuWNHuzfMqFbPVnUu56z3B1IFzNJQlvu3a0WQAA\n",
       "ACUBn410Q38AABUDvqpQziPI1763PaAEBvwVUh9s3/e2dDOmJz+/AAAAJgGfj2pDfwAAFQehbh2/\n",
       "317Usws4gAJooyhtsYmJov4Pd+75DFRAAAAAwEGblEmoQWyZTAgj//61KoAAAaiW3h8l4AfyRkQr\n",
       "m9kWV2ue57F2VXDbt5bH49XKjITM34iLVmm1Igo1c+jjr3flPZvwquPP8AGp1qKJMCxNFA+4jE4q\n",
       "Rot6bItV61BtpRbhsMItywzhMgxrbRuRvrWcMelGrThrDS/9oISKzIdhsnewRrmSFgK6Aj1kQNPc\n",
       "ewARAyf9SaQJJozOfJSl4pRVwmseVMWIldIWuBAqMu/fo3X4aSs8elSQN/XscOeIQAAAACVBn7JF\n",
       "FSw7/wFMdQvIT5hjUo1ZW62EgpWPDFBpv2ByTMCFYxIRAAAAJAGf0XRDfwAAFQO+qO2HOsNoANk1\n",
       "qCaNKVOAns/nehbuPPkckgAAAB4Bn9NqQ38AABUHoWwrV6k7lVABp7raoxLKZvo3+FwAAAB/QZvY\n",
       "SahBbJlMCCH//qpVAAADA1FD4AGMASIFghbLGBnkf7lNmEOBnYZ/FwzhmlahSP1I1jjdbXcw7vsq\n",
       "u4kMzunBHp6RiP2l/dFUJCOJZLgyrbS4lxd7LUk4bTeGhQv3O+T4pqk+tW1TRGHcV1jt7K5bW9De\n",
       "G16Q/oy0bAir0QAAACxBn/ZFFSw7/wFMdQvIT5hjUo1cqFPJBQ7BcQASXD6vW3+W7Lb6MJ8PlKlH\n",
       "8AAAABgBnhV0Q38AABUDvqjtkKhVBvQcU0Jz0u0AAAARAZ4XakN/AAAVB6FImefQa60AAABgQZoa\n",
       "SahBbJlMFEwQ//6qVQAAAwM9PnYeYJOhZto9a2FSM/MgaNZ6rlt/TRCPPF4CuJQhG/WwW4kVQvOD\n",
       "7iriGr+RGQHaVUpT5YZSWFxNwidx4QaMhLfDtjuILSU/3QLsAAAAJgGeOWpDfwHOYHYgxDB2q1K2\n",
       "sqMH/zQAH9L6YH1/FMM1mWnn5P/DAAABOUGaPEnhClJlMFLBD/6qVQADLa5TtfP83ACa5Gm217uF\n",
       "wtNWYLcB6HN6dvfDZZVPW13e0C6xLUsk5Wrx3dJQXr+O7zj/RXMd2I4iUTsDIav/tVz/o/rkOtRg\n",
       "XnngAqT/oDXjTIGQPl+9w/GSje/vstl3mBsk0ii3bUGbAnsl6NOXzBHDKamA6qRwL27NYbY4E91m\n",
       "NE80oVvE0MPUmb3DmV//Wq3+Ya7aypqP104SdjsB4yYWkMRMBiOSOAXg5TzeiuSypsMC9J5Z6XFO\n",
       "jri7vaYcoBGODBNPYoNiSl1E7oZD8pLVH+FXkHI/MxY03ewW5XPMOx6d5oJ0412nPTbyyjwmD5Ed\n",
       "a8miXM4xGMTTKcj9O+uAf+9zdth9MQ2IRW9t5G4McI6cmaOetE4jLaSQsY1tW6fXZAgcCs0AAAAv\n",
       "AZ5bakN/Ac4DGn+is6gFgvdIakNO5HLlOnvrLO5YygA8W934GiQU5r4LGNruWoEAAAIYQZpdSeEO\n",
       "iZTAgj/+tSqAAZaJZnxAMkpBbi6nZReyDmc4ych/z9boxTKkE3MGOaMuqCUrYzRmFWgZl5AGpb9+\n",
       "ehluSuRP8paAELZkBBneJmK0NdwAeQDWuhZ0NGuF2Q5g1wyrwMrw93lNyRgxOhRxyyj/4RJ5CMqw\n",
       "b9A9N3lV5GEr+wKj895e1n2y+ZCxw3Kwfv3wTipIZTOIjsQulSYucSV1Zxh6UnkxBdVCwdbRhSK6\n",
       "fnzet6ulaK/0m8BbLWz+wM/WaM7rzMsFlREJ8icDP+BazWwLKkFOTLZ6/ffYitIgyy3O2tFlW6tY\n",
       "q1kMrqQQZ2Fc5Oa+B1MV0r6yVhuk+nj3sjyImSs4WhyKcLymFOllgEi+LNikAG/8dzHF3VvipPkL\n",
       "BkVMtkHlSKQjjKqW53ZR8DLWWEa9U/lZ2jbYT+ZU1Tijbodlb2qI/1thv70KeA8Mqu1uI0a12g61\n",
       "LMM8iaQC9RuULT2RiWcaJFRExj0srNejaN81OcQEId3RWF2SbVpHHBxHDJXPl5Vqt+XE3YRtspbe\n",
       "WjOT6mAdpqoy8PrG3ZXSCXvS8CHmTkGFBoLugh9G6nGZVX5xf0Fwaxg7k5ZEFj+y1BzFX3MIQZ7F\n",
       "t2m5KFzD//uvslWN/gCs+gjnUVd3lnwbkL7ohBd6/MJOvblxioF6nV32E8HXiNOKT4XfuyKHbmPr\n",
       "Yge7rWTLt+dhHhk1qrDlOyEAAAE5QZphSeEPJlMCCH/+qlUAAZSrdgADPHBx+pBL/Ir8rZifLYJf\n",
       "EhbTvlOqTtXWdak/XioI2+/dHJ58ZtUzEv3iW1M0sjxgNS8ECt33H38Top8Km8mcEdfmNvdEfVsg\n",
       "zlK1cEdrwwQrSibE5ev6LqnswlnuN3Qhfiwi+NiRBs1Ie/LMDSG8A7H//wZ6mB1D5d8JN8dlh3gm\n",
       "PQ+xuCw+9278+mCnFORi1dnS9lZyHLV9U6lXaOVCMzvq+yg786imfHjaPTnlhZdGXwiuGME0AdCe\n",
       "J9bqTLqTG5+T5/Wjfvg7HHY6q+HkFhW9N5uYB7ov6P6Fot9vfdItMHcgTLNXNR9cFCHsyuYdbScC\n",
       "9uj/nh8klb8YrsxDwSSNqaXQWAOpLseMsuBQgpH1pcaHgj8iMkbuAuHl3bByppkgdgAAAFlBnp9F\n",
       "ETw7/wFMN/L2EMfeDI97FOpma9FG86JbMACIOlN5zaCjrFbC51Zf7vYtJT2ulimBHZapCMfbPuoc\n",
       "rr5Gq3xIJUJfYOP8ChlyJXikDia6T7skFnYVsAAAAEcBnr50Q38ABFX2QZDLWpo0nZSREQAQ/Ws5\n",
       "PqKII5jDp6zjJazD6JAssF0rFdPPMgSoweOaZSm4n5E4t7fNM5DO31ZAH5O9gQAAADMBnqBqQ38A\n",
       "AjtexeK1sNqZKf5eXel/ejfjfrj6qQAmmrZaFjOOEuz71Go06McsqEfnZEAAAABlQZqiSahBaJlM\n",
       "CCP//rUqgABoPj5vK17H3OgATmE3duk5lN2MiD9Ctg+dBb2BDi7MNZT0IAQV9vNjqODE7/fSvt8h\n",
       "Kgnu6za7ml8lrNEkHaAzOj2Dxqb9oX+4Ror05+l5HalViWkAAADlQZrFSeEKUmUwII///rUqgAAB\n",
       "jNwf+aR7LAAbXZO8RWcygjKSCp/hczZYMTYfx8w0y99Lzw2kqoTERnCksKtXl3ykEs31um1LaLt+\n",
       "FLHPgfslxF8CujJ8o8X/hxaGeQbYLTz4onMYY8XkM2QCTkkpgmpS0wjC78iYSY93QdUNolG+JqqX\n",
       "YcSDziY7VHiWs1hQRxnswvCR1VCk85Sr/WDCux5b3R7SfFuYCSMznacZ74LbKSANAzmHi+UpR9eC\n",
       "/C/gmW8Ksb2mq4R+tiPZa840iyU3qH3VF1v/eLZfg8raS5qSTqXXtAAAACRBnuNFNEw3/wHOIpzL\n",
       "ioFMNlgBvSh9nb/CQQCf2SyhaQMwETcAAAAqAZ8EakN/AACO17D3PQIFDKzawAcOlUtKvJ6u64ui\n",
       "uOGJmpDIx6pDEqPhAAAAmEGbCEmoQWiZTAgj//61KoAAAYqGSjAdkBP/rACiFdmTM/+a195zUi88\n",
       "9ulf/LG1IEdwR/+h6kdZh2wSma1mq/HII4y4rkJvnh95M7glj1vmI3nK2oBswL9iTOcfjejbVtL0\n",
       "Gh4Wv88cG2bZsXW4I2Hx+u2brIQ3Aq/rpoHXSYJMftmeDwOajck6VXcChyxMMT4lwInoemaBAAAA\n",
       "MEGfJkURLDf/Ac5gdiVCkthteOWhkh0UMLmAM6vEpeIsGKSkK+zoNChOfV0RgB8a0QAAACkBn0dq\n",
       "Q38AAI7XsPc9AeTfVXL4AcNuagSp5m6PcJ2zvq3B0ZHvwSbLFgAAALZBm0tJqEFsmUwII//+tSqA\n",
       "AAGBnlSKC94AUA6d02aW3btJL9Z4yFonfPBdze8yl3dsy1AiY6J+BQ2TBqhGMF8fYf9Rq9I8C+/7\n",
       "E6Px7D2LE6thIkM6w/LNmgscVFgdODCW+eMH76zQUT9DfBJ7Abiuz5GyR16V6ShrKfahPDJLVTLr\n",
       "IbhGos9nFWx4+ZZWy5eqIH4zn3VkS7o+gNuKr6galwy5Z0+fUwTdtwwkn9v5acbUzgXQ0AAAACtB\n",
       "n2lFFSw3/wHOYHYlQpLYbXjloYx7PalRoARbZbWdTA2J06Jd2D/r9x51AAAALgGfimpDfwAAjtew\n",
       "9z0B7CLABxarvM91UAOtQ/at883zBPWD5MDCPdwOLlWYnegAAACbQZuPSahBbJlMCCP//rUqgAAB\n",
       "eOI//TYkEAC0x3eoRw39w5BGd5mFadJX+quzx723F78seJICb/irVRWcqluFGSaSrk1d7ixNpFWN\n",
       "zbfWSa8wCNJ4z9+PecRf+zgSRX2bcRSzY9ami+jpWi+V9FqEH/eGYk/v9zDbC/AmE3lo/Iy0ewqK\n",
       "ldZns3T3US7MX6dw+B43LPkKHGEqUfAAAAAxQZ+tRRUsO/8BTHULyhsquwnqYhvYtDSF0QBHdhMY\n",
       "X3iL5IkSDzd5XwMz5+ui/YrzgQAAABsBn8x0Q38AAI6+yfcO6S2ouV92hx3pKuwk1HcAAAAiAZ/O\n",
       "akN/AACO17D3PQGfLrT39jHg+OYAQMncGUccqdnt8QAAAMFBm9NJqEFsmUwIIf/+qlUAAAMC7sPQ\n",
       "H4BmW2SebYZgx9nY7HRq+bNIwzCyy0GN5zBERjYTJrAIaimLpCKyefwJsk+tUUVMks1Tt4XUTnFh\n",
       "xmUN9+OotvbDKuYJOjeu2XOXs3aA49JY9y/ReUpMjpjo4jZCcb2l6mZrTjMRKvu742pnx2cNMu4B\n",
       "07o5aT94eV3FFKp/R4FFS8NO22RsTkRPRWW7WswZDcm2bqicMfbeLy9d9tKqkNK4oxhgj6QopjLO\n",
       "AAAAL0Gf8UUVLDv/AUx1C8obKrsJ6mIb2Lci6/86ByEA4ATQgtkmE7MoCovRgsqO2DUgAAAAIQGe\n",
       "EHRDfwAAjr7J9w7pJj0gne1sIANRmvrzN6lk/n+1gQAAACwBnhJqQ38AAI7XsPc9AW0MweZq4qEA\n",
       "EphZPyNCNr0G+23jU3eMUzxxjfmV6gAAAGRBmhZJqEFsmUwIIf/+qlUAAAMBbb8UacPQzDS0AEEP\n",
       "wOozzfLrzlbZMeNxp8bbTJJGG6KZd53ZVQyRDUXxVnilzt/9RQCQlhfcSwLZL48zs6g+rmXJq9tu\n",
       "dv5NGJk4x02uLwUwAAAAH0GeNEUVLDf/Ac5gdiVCkthteOWhRmms/kLWVp8osUEAAAAcAZ5VakN/\n",
       "AACO17D3PP2PqndeaADNf7aItwbB/gAAAXtBmlhJqEFsmUwUTBD//qpVAALNzr1c3ACJrwlDGzSI\n",
       "/F3BhJidMmae/rMSxYMS7HtKclC0xcjpKV4CdOMXzA8AVQZceUoL1/GntaNSWM+eYZ2G/mr/+FO4\n",
       "CtRo1I9CfwqKPdf2I6UfVOGTyE4uQ3apgb7YxwaVvoM8DEForBZ1IQl1jXLpMNRGsCv3SVY3gWbv\n",
       "d5rWppQDIo9+5k6fOLvU5qfkrkWVVMmpaituf8I1xXof+FBWh7JjbIGCSm0Ur8AHc+Xrmw7lxP1H\n",
       "cLLinCHPLAjBBDubFsa1L71bVdP4B5aWvYovzrwGcDBe8XXcVJxxW3w0Qh+8+mp28b3TP0GQcH/E\n",
       "lIXuqeI0FXG9oHBB7FyDgYTf2JDGIhasExtxfg6KoB26rqB0cWQNf7uPGMW7A5gDdhckAfZ0JJsC\n",
       "8zMNCeBYtfg4U3oeODImHZtYisFcPkkqvsLGW0MnH5fTL8vPx2vyyUDsaqYQ3eMs/0iKOM8Kipsa\n",
       "fiesNa1DAAAAOQGed2pDfwHOYHZna1jbeYNoaW6D+DCoCnuahW+vPdnc6V2ywK0D+hxz+pNyBxA3\n",
       "LCH5dAAPFb4ugQAAAcBBmnlJ4QpSZTAgh//+qlUAAsw7wdbAQvXVOVvC6/zdqnYQnGp0l/7hEsDK\n",
       "nlXA0iwzIm1uHg+6WTzyxRRSe+4wWN3tGPkzwEbjh8x32v3xGKhvs/73WQTbtMQK8ZM0HMS9z9kO\n",
       "jTXe2bjYPx1TjpxGDmvJZmAqlMpPZX5idw/0RzB6INVCx/Pb0xhQQGTFucyMEZZFSO9cKoTitjEM\n",
       "nBP1EeVJiwoZYDz4NGeIgozRiuok7m73hiW4yOG0qLT7OQ84Z8bYuvHumfxBADCnoA5rUrnVKUcC\n",
       "8V6QDpHb80ux38LIy9FaPHWh16RLzIJpa+GNn53h/3pwNReFgLh+NihSCWIb2wipgjSdk2aq26Fz\n",
       "CqBIsBtHSI2eJAAOgy2JgoFFCtkBXICccJ9dKGPzhmgl+PgLLYVSmZ7SynWXFRJ+0wkrND+winkJ\n",
       "GEG81FQ2mhd6UPNjCN2KmGBjL2M0ZaIjME7YSrqHGAgGx3LfQjoNWVm2O7zans39joCrekIrbLyA\n",
       "V0FjIJiPwpSkzXeInXd7W32Wy9iqVKU2TmpX/6cwvegWg8hFHimUT/wX2DUXxyPw3Caq12vlG0T3\n",
       "ABkf2dhAAAABAUGanEnhDomUwIIf/qpVAAAFk76oAMzZuWzVp9GQzmZeP1bZCuF7vRGmp4EJ8fhf\n",
       "kDQXUmf1RbqSlgBUven56zObqa3MiTpaYVplrJRc29Ba1NsG7EZBsrfyG3++dSmjQoi4MGcZnD/e\n",
       "lnzVLsHcBpad0xow+WOIUPiUDjoO71zaN3I0Y6JUgmRLFOMaMhgpQup1F90mzFm8ZLmEFTr2Yk2m\n",
       "icvVpGdsbt6IYgZbcEALeLU0reWuikyQUeUi48HPR3g6HrD6bppe1MBRWe8vlaZ0EDzbmnojUzGu\n",
       "pwhXeEqJiUjqnkib1aLf2d9zggGiya/vZUkOXOUIP7UmXliuDJtBAAAAS0GeukURPDf/Ac4inNSS\n",
       "K8Iys2GvxRZ/1Q9u9OtxYAJXno4v7OTaRShpjzxw7M4bOCQOttjQwzqmJRz0dwo1qaA1JF6mRrEH\n",
       "tB41RQAAAEYBnttqQ38AAI7XsPc9AUK3fABtVvURtbQuwTUR/2F3PtfG3HJqdeAm+kktoLys7gjw\n",
       "rTr/4E3lh4g907HV+siEFub/oOqBAAAAbUGa3UmoQWiZTAgh//6qVQAAAwMpgVlrpiAGsReB2nO6\n",
       "XIX1ZZi7OSizRGXsrgp/TILPtP2ZR/SkFcHZQgPHpdvEVdSs36EQ8aCN2tkAcHpSEa7Uku6c5EbS\n",
       "jys/iJijtslW/aIV+IHvZbq86WEAAACFQZr/SeEKUmUwURLBD/6qVQAAAwK3yNPSdACLSk4QQuDt\n",
       "GrBtl6jXSz7XfyGqn0X89JAyazwwV+f79uvzWYrOZSxeq0riWmZnGc6Jgrm4CpMPnGtrZaLBCYV3\n",
       "BDZy78Aps5vAKpTV//pxpbMs25ntB0CIOl1XgY4pSkdDTcC6GdOlZW3hCAAAADYBnx5qQ38BzgMa\n",
       "ZD4cDB2iTvLwA4g8PCzbVv667YmyulReXoX8s0aIyYnIjD+NdXIAgRj8wlUAAADMQZsCSeEOiZTA\n",
       "h//+qZYAAAqVdm8tcKwI9knQZLA0dYyZLJxaK1ysMbnCLzvscARhylrdI7mqP3YxpdcJFc9aslEM\n",
       "VPMhK5NxqbozT4GICXuIa8OELjtgZEdzIm5/6w4r6WcGh4V4MOHx2W5eWNIjqvKg6UJV+4B3K5FQ\n",
       "T8m9fTrTUAUpMUiZR65kIzC4GKpx4q6yQfGZK+PPYeCrQFC+hGNeAXV+DI54CUGhznmIoHtAONog\n",
       "O01PXUf/g2dO7KP9tLyZuhlBhaFr3pwvAAAAO0GfIEUVPDf/Ac4DGmQ+HAwc6W1hdABGJ2/zlOip\n",
       "9NKW1vOQINaZbt+w1Xp/865TgoKRTOWYTTQjutJwAAAALgGfQWpDfwAAB2/uQAk+600E87RdBSNe\n",
       "K7bOkLUCXQ0Fm4FUul6ugOYeZ4uFkmEAAAA2QZtDSahBaJlMCCH//qpVAAADAqXGmAQABW5sPUqk\n",
       "e5G/VMuQD3dqnhXp89vOjj5FcWt8xZs0AAABKkGbZEnhClJlMCCH//6qVQACqcLO+ErNwAbGvJUo\n",
       "/N2CYxhEQlMiiUf52/orYutUfAufaAh+DWZ7Q3C/hnkppb/XsYXd7jxiWwz6cYHlv6/PF3Mi19Qd\n",
       "VySUh2hBfGlzabQxg71DUp8OncZ6CBFaNRQAl37GZ1fEOiFruP7AuYl//yXpwvy1zmTCzoug+W0c\n",
       "R5w2tD0dy0kl/du++m4cLfshVXs/BFp1fX+ecIkmpDWrFLJhKDVDhOMtx5+UfLe7ibYafSIk3lJw\n",
       "P+6X/H8lq1xgDWfKNdZ9y7kpin1C1k/geUMyFUzhNfKu1WuovHhHP1lS1bD0TUUrXkFZDTGjAOOR\n",
       "kHY+aTEGTHoaAaW+nVaOIRmJp89BZhnZhI7a0fFtLoxt8jBWQ1MFh+kAAAJRQZuFSeEOiZTAgh/+\n",
       "qlUAAqYBsGgCd5FWuGDQdhHyFLAvXsK0p/5OH4qcWCG/HsFt3N71zHk0sYQUwmb3BaNGKGxqiTrn\n",
       "KsOqVilAoZun3YKHQjAaBfIMatW50chbFB5vOz+5gyHAYqahUEWJYSF9DTfdn/wNLJEv3w6KjmNZ\n",
       "mT9jgEmbSqRNHc4L3dV3gGY82F3Z7Y6BVD59hi6biZcKUaARdXLFkrerGISrHsr7r3WLjsNRINs4\n",
       "FiKhJs/XVjYiy63woNHjdmBfXLfIGbGpbtY/PoiBqqIe/wZgWVSv9Zi2DaNznjnn2iBUL9uzYxT1\n",
       "ppifT9zcFH3KcBqhdiV0crBGWQzvP4FQkr1y2J7bu6mYEFocrg9sUWR9XGtrZtxPTspfrBJEihtc\n",
       "iZ1q53IYFDyk2gXlruj3sa3rGCqnYvwK9fciRl3vzI4pgqxU0ujy59Ud4YKjtO4KF7PjFBwJpWYX\n",
       "zLOa3Xc8C1KqfscuNV502U4NMct+vJ4KERk6lAgRlvbawTuv1V0f4uzxcW03/qfH/XVpi1NrJb/V\n",
       "Z0hVz3ooCs6wshCjlGKBe2J2iAj9S3/JlrfSh9em8VSohXdhwOY2nzCXc9xZeSrU2L7emV+OV1+i\n",
       "P2VP81FAm9eWGKUlLJbd9bS9lA8GdZ5XVUJkRm987jKYWRQ/hGdd9eBeHSF3S60hPTJKo7TThcfa\n",
       "rdujrCpONkhtk1a580UcT8R/1f6AKY/ZxRhXuyR6O4ps+E+ElGJn5dIu2il7DF+BB5prWau2RMI0\n",
       "HJZJ6rgBcvzxnsEAAAD4QZunSeEPJlMFETwQ//6qVQABUv9iAAG1FcB8bvBNdAKXuy27D85pWGIT\n",
       "qVNBb0Jkr9N51+HPU5H3E/m1m0s+Qus/ML7ChhF9vGMpOi/v4/rrdO8lepRztA8UT+KQrh6Va4/m\n",
       "+KX2Kmx3qiGv/z1ySkLFbbquD+yhi33MaKpQ28bl5Q3htVWEdTBbUwv3Cy816nuGp2Rv+ZAFYqxJ\n",
       "/X0s95lW+4LTuEQZRkQXM7N5Qa8yAgJOYkqYHyhqR/2dDERmPv7u8C3raPFcDMJR+xKuk6G+tZW4\n",
       "LTTW13fO8qmyxLISIMxucfE7yZ4gLf/2euYxAjMQXeuj0ncAAABHAZ/GakN/Ac4DGmn4qttLKVyo\n",
       "hyqOEWnqQAe/4BRwvA8L0GUsr3Z5UqQhyrtArSbioR3LqeLaM8gs59CZJ9eTCDel0NkcdqUAAADM\n",
       "QZvKSeEPJlMCCH/+qlUAAK78XtZ4duniD2YVrTGAJ4bjMsUfG/eBYDCWZfM2L1Y5UVqABFQHbVuR\n",
       "cD7Lm6k5zA5n7oiavToIFk2yLOeOqQlSm5S3DwEpWEDn6Xst/lTyDyhujcxz0UCzsTU+uDiZLrxB\n",
       "rnGkxeEoDPga0S//tpSLVw0Hm21xDlJsy0mE4dleUjMJxcBMQ4AHlJnH36aPk9EGZZxHYe6s+fBj\n",
       "i6RgrH8SabSwJk+4mYWCqMa38wPGxtQNkyyg+WjIFUJ9AAAAM0Gf6EURPDf/Ac4DGmn3Y8UxwgQB\n",
       "TqxCtTp2S2OgwAkl6Bnv8oW+ffE06FWm2bRsuN3ekwAAADABnglqQ38AAO2UQMoZHz1IAfjj7pRe\n",
       "9ZJcZMONot+xPY/awRgFrdwRToSxucqCaE8AAADsQZoNSahBaJlMCCH//qpVAAADApOHN2wYKmeg\n",
       "EdC0UXOLOSMKoUj3rL0auIjtTmwSO4svu43L8W+zWcMPqxTJEDEArjqYwM9KAxWHTS0BpMUKL5/b\n",
       "UhYdnZO2zADoyBV49Lipzl6NSN2+AsuKE5r14Dt/0UK4z2SqstX79cG+ugkJVhSwerAS2TErIu2I\n",
       "89JAEH3/STbSbz9FyvC7/0WFyzPVbveHBxh3YwJXf7cSt2n9cTxiORnsyIzfDRETv7N4cxsrYikz\n",
       "2lq3WnkFiSYAr7l5hePGu6tkoSzDXkt7jObrB15BWpgpmJfss/gAAAAzQZ4rRREsN/8BzmB2KK6l\n",
       "qQPIMV4R5KfozKrJtMR0UFAATl5Ud1toDXoB6e5i5yjuzGL+AAAAKwGeTGpDfwAA7ZRAyS33W5GD\n",
       "D+gV7FACEb1Uf0DOIAKBqLz9fCV/xK0vtEEAAABtQZpPSahBbJlMFEw///6plgAACgr6ZoCos4HN\n",
       "v+//Wm4K6uUHsf0gSdaIqHFfgtFWV3px5y1zxPKin1id2gfitlD3rWN9CUWZsfUAam1sXu4o8XoG\n",
       "K4N1o50+s7KWwiGUqEwkQaCwYdxL3r06gQAAACYBnm5qQ38BzmB2KK6lqQPIMaLP6XEpQy5IAS1q\n",
       "xcI60c+55+ovfQAAAE9BmnBJ4QpSZTAgh//+qlUAAAMCg5LluyRgACvjxXiF8L/cJc/A9wAa2ggs\n",
       "RwdeEo1sJuRKqY4xiTAyY6hWyqnL9ZbG2LXvbTYFAzYtUSHIAAAAW0GakknhDomUwU0TD//+qZYA\n",
       "AAnEPPmGoEAXUqHZn2brtudbuC7jUKqLNp+Kosvf+LQ7JKh3I7rb2FqoUqMozEGJbjWMMSZtx0ft\n",
       "EMwci+5DGSPZqYFp6l073CAAAAAvAZ6xakN/Ac4DGmQ+HAwBrIZNFmf0AKuCd8MwZ2pNc+BRodag\n",
       "25Wr5i/EBnE+kXkAAABqQZqzSeEPJlMCCH/+qlUAAAMCgeJvADpXazQU578KdzyGefKSBmjCZ1D5\n",
       "wVzAI6ib15xmcLoL6gSS+o5uYEAVERX/3Zys7KukBjC6ZcTu2ekTApAQEjcG7vlWWgYxaWqF6XYp\n",
       "jaXNJF8U3gAAAm5BmtVJ4Q8mUwURPD///qmWAAmPBq38QkigDrold3DV3gmLifJNbNMsuzc9jkdR\n",
       "CJjGwIodSD3IIyKUgNu4/fLYiu7Hrjwv/2baO7cN3JLaVskqVB/BQghYCvMMv1r7FF+wsMZMGn8W\n",
       "RSxyAc4F8zY1zIs1iiRjpYRuxP7NXtkdpAMFb23AaFCZmS58QjNgS2+nL/mIvvPSbkm3dtQpZQs+\n",
       "NjyGDZGIaLDqRrVniTcJdtG0Tl6lbzuoZ9iD3FkkBn5JgHfjKXxdrkAHa+vRcioepj5eghLB8IMA\n",
       "wvhAVYZldhP47y9ePJv2kD4rpspD6ws8oylM1DMsvGMObyEY7dA/pZbNtDRYqUFmDbiQbwbI9aba\n",
       "XE75CTF9LrJ58WAHpXoMU7TEFZSlNYlH14qvT3g1tGuvNZeqtrWn7WrdxV9N3W3SvgMDRAZuf//P\n",
       "///a/+CtK7WYhiiHfCnZ0EPaiQbBff2ECcNM/QBBen7cUGv7gVq4g7kFqTGRLi248kIn4lqROPkb\n",
       "X583nldKWLAN7ZHuDyuBOAiwMd2NW/mk3Xl8GvZ5zs+Ls56i2C9hYjxj8EKT8R7klrhnQJfkWp0G\n",
       "lEYk0fyD1GtWtBhDnqbdQTZIKBR4OzdBuO8QJKevrd1d8AgHvoczh09yRLln7nLyuD2QfxJFr8lR\n",
       "deY6jzTGdkQoNqRNqiQiUNfjhRGhYcGmUJ3CKjNCc4GcsMcnT71Hy0v61ZvVs/ZEPsdfhkax9Tdg\n",
       "usVKNPhlu+pwDmc0yaYdjClNyYrxsBN386vnQNTdXDCoAfyqI/uvNLo0jouPTayHTclFwxCeqdZE\n",
       "lf9x+BkSAAAAyQGe9GpDfwHOAxp5jEe5aQAljy6r0rXjI2TM1JHJ/wXIyUrhhBQQr2A3xYGB3y2L\n",
       "llrCYYzsG7MFjMJ13P3WAftNsvxv18toF76IuxdOQxUSwjEScWbQg9nkXBnJ26X/ZbnXqBfMGEvS\n",
       "LMsFHJ+WkraPU+OiJoNXw/iZSFywI6CzyOsWxDirCdLzwHG+eRBdtsyyDCt+FMwd7uy7Oex7mMu8\n",
       "o7loa30UBNIf0itD58ktb7rM5zpTCsAhna3/61V5JM0f7ZZIkBpNwQAAAKVBmvZJ4Q8mUwIIf/6q\n",
       "VQAAKCBd+f2c8jiBoAF6EtNBzltxQxqRewLCo4gxq/UWgmuvDjEUDTy9uGxXMhX60YSPgrsglnu7\n",
       "z8atTOhR6cA86I/eTujJn4ApQmcRwlKEdHbwg+9Rdn9i7CT1n6LvPwYpLACurYrEiupTO6EKWZ6Z\n",
       "YueM0G43m0rRDzMCrnDWGWns/nyCKBzXpQuuHkU/lETeyswXHfgAAADDQZsYSeEPJlMFETw///6p\n",
       "lgAACYT/pDBhALXNxMEOr3+yECTzipViH5At8OiH8QppYLP26Yahvf7S+aCkTgsLtbHRQ9w1fz/k\n",
       "KIRHQo4bkWr1m8BaLxDUKxtWVoTN46GYxqeXLFT2dwrIUbtC7+XS+mZYcmGK/zVtxlZ8AAd4Di6J\n",
       "YJ6u4O9y9iV9jtm9b2MzccaKTUmtF7FcOOmNhIYxNd8Mdi1/NXE78xGJza8c2KrIzKna9nSf5KT+\n",
       "nQNToNs7hGIJAAAARAGfN2pDfwHOAxplWUwxe4pE2n7gA2TT98v3Yfeki2U81ryWNKHbG06pI+WI\n",
       "EsKEWpwtwvWfZrkBjSSFhUkeHxBqC85vAAAAbkGbOUnhDyZTAh///qmWAAAJge20AbGfKkvC1YC/\n",
       "c8mQuQfZLa++WDGRYkIJNxmv94f68yyJBY3mwYpJ2Z3mCl8BUJDM83FxJbwmCbqCY5t+LUUrHiR1\n",
       "albBz7/cKH52HvpvK/TjqgZAW8ETYX3AAAAASEGbWknhDyZTAgh//qpVAAADAnB9coA90Iq4kstQ\n",
       "jEx/tjNHfNVDb/tRG/F5XieBR+s/K6RHWLD2oHPBc4e9d1hhaVp0T9WaEQAAAFJBm3tJ4Q8mUwII\n",
       "f/6qVQAAAwJhHyMd+AEZ7EZ5fXmdQMIXzeeZ5MrZhPv5T/wstaEpMaFnfVKY9EGRvVEcGJEc3loV\n",
       "42SZbqVU4lIN5VSU6p2QAAAAuUGbnknhDyZTAh///qmWAAAJSdIY67XIgHMZY7TBe+vFthtBp1zc\n",
       "Zp8Ykc5P4uV4TErhscO4LYeZLtkfKEV131Y9ZqcTmw1JhGjidsUuPdLvpKQzp97f0/GrdOt3K7VI\n",
       "AMw3xcvMxqqDl/hwdJwqu3BGIaL3ZI+jNGNi1fHa+/UZf9kSvar/ErQTpVmlcFezFUK4IDgYhH02\n",
       "FHuXlaZ9CFy0Lqsv2xEdIOc+BgW1kpf+JP9e45DaPHElAAAANkGfvEURPDf/Ac4DGmVZTDF7ikH1\n",
       "xtPxACA1FTmGy5nIyt2qfLk8FQCdgr2Dn6sYeOdxReTQZwAAACgBn91qQ38AAAaQqDEUQA5n1HzT\n",
       "oot1lBgA2hT5wlwztjB+HdYMC+6AAAAAUEGb30moQWiZTAh///6plgAACUUMYJAT36SSJ5yxpt9Y\n",
       "0kSMl3knO5He4FVzcvuCYQ21Xf5rZ9Nb/G6HPCpozFgfh5UiffO3Wdt5Q7//4ky0AAABI0Gb4Enh\n",
       "ClJlMCH//qmWAAkPGXR+ISRQA0JK878EkYyoZFHvSvbPbEmtAp1Qa4yv8Ptw1z2KuI7yYOpD1V4J\n",
       "H/m9nDXbrQKr9vpuffSiuv+ISVuawFfNoqYSeoeLEtHizELiMfnuGahfdG3Q3P+BmLHJjYjCR8B+\n",
       "aXaSKw67FdBFhDmON2wXxSAnXAqV3p9JdXpnKHBknUfenZ8ZrBVnXYpaq3P87C8hU0t4BbsB8pd6\n",
       "vHUdYaUBdZ+zdPRdNYkrPIaB1uzMWjbC7segrivL4JGVv/TKYAcVyXgK0oTnsYAGFqO+g1Dr/lSA\n",
       "xH3XK43CIH9oq52C78BpueTQhv7blocdignbIS43/dsV9ky9+3yR7x8RNfITT852HrHPQdSrE8m4\n",
       "4QAAAYBBmgFJ4Q6JlMCCH/6qVQACUPYS+QAfc7FjBEZfAMZW31KCUNT7lPErL+b3bxfx+HvdaN/h\n",
       "FWxXbr7ugk+/NXa3u4ouZogM9knvZar+AKv+FpyrGetdnybgyDMzrjYb/FK9xfXwP8Aol5pP6O5v\n",
       "IqJCbLSQ9KdT2SEOMf2fcP6pDQGDeojFAGOaFkb0XHibqDv/0Dje/Ne2EMJ50Htnc2n94Ldp7ard\n",
       "B6NbHJkQNpoj0CoF4cXcuQimQ6v6PJvC9gDZZmL8YDqtatJwtOk7+Y6NuDnq8oTn8TUpk8G1I4QY\n",
       "z6w2V+qE2wfMiYXx9L+On2itiJc2TzH40K90TlZba7FJOnxzfRa2J7ZpIjnnxQP+WDP0PfbxH4qd\n",
       "DSyIuiOB0YNgTDumbY/1kUxdSI5e0MxehE6uAZbSr69ShrMxQk6xyMivIFdMUYq8Dp6MWv1sJ9dx\n",
       "9/N0rKON3+tNa9rl3f3X/89BoOrVIzWpPIbvE2L4Rmh+Nl/9zIr778x41V5FnYAAAAB/QZoiSeEP\n",
       "JlMCCH/+qlUAAEx+aBHnZlD3dmjqwBXVdTu+VavDyUc63OkMkhYvVrrQknfx9mEUPH2C2Bc+CRMy\n",
       "7Z8GtWcCrcsfPOZfvem66aoma6hpcO6ph//j/66wpGHXrkh4OnU9hZ2kKODrx6yecKDE092a3rmI\n",
       "FEguR1ErdQAAAOFBmkRJ4Q8mUwURPBD//qpVAAADAlCAKiAMsvJzPaMq09WlUsQuMeY22Qqu1RnN\n",
       "qLzO+NHpCxu1FznEFARlV4rl+h0SKeNWP6E26nMC0sn0EuAHBXoTTBqy1DK44adWNDS2zMws35Ig\n",
       "e6LCwCrssQqfTNsQnR9dGfQgXn2k1LJkb/zC7Dl/auS0KTPYuiGzJAkodYVdtFm1WWope4hHhmdQ\n",
       "CmNsiOH/CWJQUIaJvQEtx0ec+6mXFBBD9vRSBsslnuZySDoAxv+WV2ITz0VUxNPnTN9p7WxQj2FQ\n",
       "RRZFb7bebMAAAABLAZ5jakN/Ac4DGm6DMyZeGO1cNI4WvABsnh+516WoxakRrnE0KsC27u1/6Zbk\n",
       "+eBoxhVjciT5T7jC1Avl9tcP63yJYkwEbnwZ+OOHAAAAdkGaZknhDyZTBTwQ//6qVQAAAwJCxAXf\n",
       "NAArv/vuvSd6YiPUzXeCYKdB3ma6/M0fwbxx+ffYuSzilT/YQBIJGaIinfDqW2DB5HPydDRPpIZi\n",
       "QgjjaZI//Bf1ArR9AYgxUE/oMM8ZzYW4RhkhLLKysW2IALhM+kEAAAArAZ6FakN/Ac4DGm6DMyZe\n",
       "GO1cNF7LFePkgq3tvgUAJppCW/A459/fsRy4gQAAAFpBmodJ4Q8mUwII//61KoAAASBmVM4ABoej\n",
       "o3dNr+UVxHOe+0aYjaCp3qs8QCiWX8E5mn0/B6Uqzr9TevuyvRpnFsvkjARCs4Yus9DQFE9nTG1c\n",
       "7Fdfs2GiviEAAADbQZqqSeEPJlMCCH/+qlUAAAMCQ8ufaBI9gF+aQpY7Tr5oF5XPxUFSZ3N99O5+\n",
       "ch1vz+WpvGc9xVT1tHHvcqkcoPmil8RBr1Mlp7tO1KXcZs5v/uG20fpCmXIJ/2wCwmaOk6bqlSB/\n",
       "WYiabbTGG9CMp9hs63S3dycqIlEEfcRYcpJhrjipaVhGCiBem5Db9EOGsZNQ6LoMAL4ioYKD1grJ\n",
       "U2PwLMMww+XkEGSdMwhpe9D4UdQaZJvik0FaR5Jm/yhjJ0jaBXi5SVBq6eV9P21u2JQaE4N/gWIb\n",
       "QR0rAAAAQEGeyEURPDf/Ac4DGm6DMyZeGO1cNExv+2tACCny1xKXN2/c4lTVTNffPml6L1Q6zR6s\n",
       "ir6ImdhWVHX+OydticgAAAA8AZ7pakN/AAAGSAcEADhE25CkW8ZfbOpVCiY3KDBQSZEzYn6wRKhl\n",
       "nHGj0toJGe/xlCvcJo1XQzqpB1OtAAAAVkGa7EmoQWiZTBTwQ//+qlUAAAMCQID4AEI196/Mhc5Y\n",
       "7YlSEFaaI/Jq08NYc21v2pYiRoKUtdyP7sa4T1/K9VRP1c9ivly3BbPHTDSDkWmR2BMWbyB4AAAA\n",
       "MgGfC2pDfwHOYHY+Ze/GLx+1shznx5vEAB/sAqLiJhDJMhLoct0gNP2VNJSBut179enIAAAAiEGb\n",
       "D0nhClJlMCCH//6qVQAAAwIxEBeOpxIArfz39DdM85DL+0RYWwZWYpL3KFDXHwcJ4AOmtECxX6M8\n",
       "JTG3PJEE51es0Le5RJ2F3tYowpidXfltAkdwboHGhmYOaF0UVyzZ/V0IhMkLauLarA9t7Eo+1UN5\n",
       "Ztodowlw68SPIn5NuYDZA4V3xMEAAAAkQZ8tRTRMN/8BziKc3QCpjFF5SMF2J9iGlqrB5tqVTRhO\n",
       "yqFzAAAAFQGfTmpDfwAABh3sYXjAbdKAmOh4owAAAG5Bm1JJqEFomUwIIf/+qlUAAAMCMUGuNABF\n",
       "wAaTdKpWmyKrsnSbZ95HuDAhE9IoQlV1DLkVLjT/hB3DTw2tb0Xn6H8gPlIrrP135bPIQLk8O9Ml\n",
       "YanhIUNL+ML4zNi42My5WHwoFD30lgrW+rm6ZQAAACJBn3BFESw3/wHOYHY+WKZsHZBrcKGqNiqS\n",
       "nwN9BGAZ6BYwAAAALwGfkWpDfwAABfgWJ4Ace3XrL0ImuNqr6oOqmWjTC9dAqXeCg/zCtrl/Jbn3\n",
       "wG9hAAAAb0GblkmoQWyZTAh3//6plgAACET9qjoaYALaPCbyHLGwHmaRbnTT/o8/+YhFXdp4OqZP\n",
       "TpnJeweQMMKWrSPXU/f4EVnySZb8KsoZrhdveLFrhAy2gk/Bsl8JtgRmdnJZP0D2d26R+mgs6IqW\n",
       "p/yFgAAAAEdBn7RFFSw7/wFMdQvUkGGmX6NKIzGpfMpDrucxpACV9GqphGW+cxSoRpq8KOu6e/uw\n",
       "GFW+Up9GUpg9GcudtQ0YeEB5cyAeUAAAACcBn9N0Q38AABUDvoPQRWQmCteGdwAgarGscDSGU4pw\n",
       "bZqNriMGKfsAAAAdAZ/VakN/AAAVB6FUpnQIEufumYAS4ajJf+L6hu4AAABEQZvXSahBbJlMCG//\n",
       "/qeEAAAP2YhVwAmr3eMJx273ACu0Gix0yzZyg2FFDXa2LNTYRB8987sHDp95wtUkrXowILMyY3EA\n",
       "AAgObW9vdgAAAGxtdmhkAAAAAAAAAAAAAAAAAAAD6AAALuAAAQAAAQAAAAAAAAAAAAAAAAEAAAAA\n",
       "AAAAAAAAAAAAAAABAAAAAAAAAAAAAAAAAABAAAAAAAAAAAAAAAAAAAAAAAAAAAAAAAAAAAAAAAAA\n",
       "AgAABzh0cmFrAAAAXHRraGQAAAADAAAAAAAAAAAAAAABAAAAAAAALuAAAAAAAAAAAAAAAAAAAAAA\n",
       "AAEAAAAAAAAAAAAAAAAAAAABAAAAAAAAAAAAAAAAAABAAAAAAbAAAAEgAAAAAAAkZWR0cwAAABxl\n",
       "bHN0AAAAAAAAAAEAAC7gAAAIAAABAAAAAAawbWRpYQAAACBtZGhkAAAAAAAAAAAAAAAAAAAoAAAB\n",
       "4ABVxAAAAAAALWhkbHIAAAAAAAAAAHZpZGUAAAAAAAAAAAAAAABWaWRlb0hhbmRsZXIAAAAGW21p\n",
       "bmYAAAAUdm1oZAAAAAEAAAAAAAAAAAAAACRkaW5mAAAAHGRyZWYAAAAAAAAAAQAAAAx1cmwgAAAA\n",
       "AQAABhtzdGJsAAAAs3N0c2QAAAAAAAAAAQAAAKNhdmMxAAAAAAAAAAEAAAAAAAAAAAAAAAAAAAAA\n",
       "AbABIABIAAAASAAAAAAAAAABAAAAAAAAAAAAAAAAAAAAAAAAAAAAAAAAAAAAAAAAAAAAGP//AAAA\n",
       "MWF2Y0MBZAAV/+EAGGdkABWs2UGwloQAAAMABAAAAwBQPFi2WAEABmjr48siwAAAABx1dWlka2hA\n",
       "8l8kT8W6OaUbzwMj8wAAAAAAAAAYc3R0cwAAAAAAAAABAAAAeAAABAAAAAAUc3RzcwAAAAAAAAAB\n",
       "AAAAAQAAAxBjdHRzAAAAAAAAAGAAAAAEAAAIAAAAAAEAABAAAAAAAgAABAAAAAABAAAIAAAAAAEA\n",
       "AAwAAAAAAQAABAAAAAABAAAQAAAAAAIAAAQAAAAAAQAAFAAAAAABAAAIAAAAAAEAAAAAAAAAAQAA\n",
       "BAAAAAABAAAUAAAAAAEAAAgAAAAAAQAAAAAAAAABAAAEAAAAAAEAABQAAAAAAQAACAAAAAABAAAA\n",
       "AAAAAAEAAAQAAAAAAQAADAAAAAABAAAEAAAAAAEAAAwAAAAAAQAABAAAAAABAAAIAAAAAAEAABQA\n",
       "AAAAAQAACAAAAAABAAAAAAAAAAEAAAQAAAAAAQAACAAAAAABAAAQAAAAAAIAAAQAAAAAAQAAEAAA\n",
       "AAACAAAEAAAAAAEAABAAAAAAAgAABAAAAAABAAAUAAAAAAEAAAgAAAAAAQAAAAAAAAABAAAEAAAA\n",
       "AAEAABQAAAAAAQAACAAAAAABAAAAAAAAAAEAAAQAAAAAAQAAEAAAAAACAAAEAAAAAAEAAAwAAAAA\n",
       "AQAABAAAAAABAAAIAAAAAAEAABAAAAAAAgAABAAAAAABAAAIAAAAAAEAAAwAAAAAAQAABAAAAAAB\n",
       "AAAQAAAAAAIAAAQAAAAAAwAACAAAAAABAAAMAAAAAAEAAAQAAAAAAQAAEAAAAAACAAAEAAAAAAEA\n",
       "ABAAAAAAAgAABAAAAAABAAAMAAAAAAEAAAQAAAAAAQAACAAAAAABAAAMAAAAAAEAAAQAAAAAAQAA\n",
       "CAAAAAABAAAMAAAAAAEAAAQAAAAAAQAACAAAAAABAAAMAAAAAAEAAAQAAAAAAwAACAAAAAABAAAQ\n",
       "AAAAAAIAAAQAAAAABAAACAAAAAABAAAMAAAAAAEAAAQAAAAAAQAADAAAAAABAAAEAAAAAAEAAAgA\n",
       "AAAAAQAAEAAAAAACAAAEAAAAAAEAAAwAAAAAAQAABAAAAAABAAAQAAAAAAIAAAQAAAAAAQAAEAAA\n",
       "AAACAAAEAAAAAAEAABQAAAAAAQAACAAAAAABAAAAAAAAAAEAAAQAAAAAAQAACAAAAAAcc3RzYwAA\n",
       "AAAAAAABAAAAAQAAAHgAAAABAAAB9HN0c3oAAAAAAAAAAAAAAHgAABIEAAADOwAAAPkAAACyAAAA\n",
       "vAAAAD4AAAA9AAAAeQAAAK8AAAA6AAAAaQAAADYAAAA1AAAA1wAAAEAAAAApAAAAKgAAAMQAAAAp\n",
       "AAAAKAAAACIAAACDAAAAMAAAABwAAAAVAAAAZAAAACoAAAE9AAAAMwAAAhwAAAE9AAAAXQAAAEsA\n",
       "AAA3AAAAaQAAAOkAAAAoAAAALgAAAJwAAAA0AAAALQAAALoAAAAvAAAAMgAAAJ8AAAA1AAAAHwAA\n",
       "ACYAAADFAAAAMwAAACUAAAAwAAAAaAAAACMAAAAgAAABfwAAAD0AAAHEAAABBQAAAE8AAABKAAAA\n",
       "cQAAAIkAAAA6AAAA0AAAAD8AAAAyAAAAOgAAAS4AAAJVAAAA/AAAAEsAAADQAAAANwAAADQAAADw\n",
       "AAAANwAAAC8AAABxAAAAKgAAAFMAAABfAAAAMwAAAG4AAAJyAAAAzQAAAKkAAADHAAAASAAAAHIA\n",
       "AABMAAAAVgAAAL0AAAA6AAAALAAAAFQAAAEnAAABhAAAAIMAAADlAAAATwAAAHoAAAAvAAAAXgAA\n",
       "AN8AAABEAAAAQAAAAFoAAAA2AAAAjAAAACgAAAAZAAAAcgAAACYAAAAzAAAAcwAAAEsAAAArAAAA\n",
       "IQAAAEgAAAAUc3RjbwAAAAAAAAABAAAALAAAAGJ1ZHRhAAAAWm1ldGEAAAAAAAAAIWhkbHIAAAAA\n",
       "AAAAAG1kaXJhcHBsAAAAAAAAAAAAAAAALWlsc3QAAAAlqXRvbwAAAB1kYXRhAAAAAQAAAABMYXZm\n",
       "NTguMjYuMTAx\n",
       "\">\n",
       "  Your browser does not support the video tag.\n",
       "</video>"
      ],
      "text/plain": [
       "<IPython.core.display.HTML object>"
      ]
     },
     "execution_count": 15,
     "metadata": {},
     "output_type": "execute_result"
    }
   ],
   "source": [
    "HTML(anim.to_html5_video())"
   ]
  },
  {
   "cell_type": "markdown",
   "metadata": {},
   "source": [
    "---"
   ]
  },
  {
   "cell_type": "markdown",
   "metadata": {},
   "source": [
    "## Write to video file (or GIF)"
   ]
  },
  {
   "cell_type": "markdown",
   "metadata": {},
   "source": [
    "Next: Initialize a writer which uses ffmpeg and records at 20 fps with a bitrate of 1800. (You can of course pick these values yourself.)"
   ]
  },
  {
   "cell_type": "code",
   "execution_count": 16,
   "metadata": {
    "ExecuteTime": {
     "end_time": "2019-05-01T20:19:21.746171Z",
     "start_time": "2019-05-01T20:19:21.726057Z"
    }
   },
   "outputs": [
    {
     "name": "stdout",
     "output_type": "stream",
     "text": [
      "animation writers: ['pillow', 'ffmpeg', 'ffmpeg_file', 'html']\n"
     ]
    }
   ],
   "source": [
    "# Check available writers\n",
    "print('animation writers:', animation.writers.list())"
   ]
  },
  {
   "cell_type": "code",
   "execution_count": 17,
   "metadata": {
    "ExecuteTime": {
     "end_time": "2019-05-01T20:19:21.757798Z",
     "start_time": "2019-05-01T20:19:21.749785Z"
    }
   },
   "outputs": [],
   "source": [
    "# Initialize Writer Object\n",
    "Writer = animation.writers['ffmpeg']\n",
    "writer = Writer(fps=20, metadata=dict(artist='Me'), bitrate=1800)"
   ]
  },
  {
   "cell_type": "code",
   "execution_count": 18,
   "metadata": {
    "ExecuteTime": {
     "end_time": "2019-05-01T20:19:27.055815Z",
     "start_time": "2019-05-01T20:19:21.777795Z"
    }
   },
   "outputs": [],
   "source": [
    "# Save to mp4\n",
    "anim.save('events.mp4', writer=writer)"
   ]
  },
  {
   "cell_type": "markdown",
   "metadata": {},
   "source": [
    "### Write to GIF"
   ]
  },
  {
   "cell_type": "code",
   "execution_count": 19,
   "metadata": {
    "ExecuteTime": {
     "end_time": "2019-05-01T20:19:27.076270Z",
     "start_time": "2019-05-01T20:19:27.055815Z"
    }
   },
   "outputs": [],
   "source": [
    "# # Create gif from animation (uses ImageMagick)\n",
    "# gif_path = './gradient_descent.gif'\n",
    "# anim.save('./gradient_descent.gif', writer='imagemagick', fps=1000/800)\n",
    "# Image(url=gif_path)"
   ]
  }
 ],
 "metadata": {
  "hide_input": false,
  "kernelspec": {
   "display_name": "Python 3",
   "language": "python",
   "name": "python3"
  },
  "language_info": {
   "codemirror_mode": {
    "name": "ipython",
    "version": 3
   },
   "file_extension": ".py",
   "mimetype": "text/x-python",
   "name": "python",
   "nbconvert_exporter": "python",
   "pygments_lexer": "ipython3",
   "version": "3.7.3"
  },
  "toc": {
   "base_numbering": 1,
   "nav_menu": {},
   "number_sections": true,
   "sideBar": false,
   "skip_h1_title": true,
   "title_cell": "Table of Contents",
   "title_sidebar": "Contents",
   "toc_cell": true,
   "toc_position": {},
   "toc_section_display": false,
   "toc_window_display": false
  },
  "varInspector": {
   "cols": {
    "lenName": 16,
    "lenType": 16,
    "lenVar": 40
   },
   "kernels_config": {
    "python": {
     "delete_cmd_postfix": "",
     "delete_cmd_prefix": "del ",
     "library": "var_list.py",
     "varRefreshCmd": "print(var_dic_list())"
    },
    "r": {
     "delete_cmd_postfix": ") ",
     "delete_cmd_prefix": "rm(",
     "library": "var_list.r",
     "varRefreshCmd": "cat(var_dic_list()) "
    }
   },
   "types_to_exclude": [
    "module",
    "function",
    "builtin_function_or_method",
    "instance",
    "_Feature"
   ],
   "window_display": false
  }
 },
 "nbformat": 4,
 "nbformat_minor": 2
}
