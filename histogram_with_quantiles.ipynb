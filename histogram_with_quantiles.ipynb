{
 "cells": [
  {
   "cell_type": "markdown",
   "metadata": {},
   "source": [
    "# Histogram with Quantiles"
   ]
  },
  {
   "cell_type": "code",
   "execution_count": 2,
   "metadata": {
    "ExecuteTime": {
     "end_time": "2019-03-18T20:49:31.192593Z",
     "start_time": "2019-03-18T20:49:27.790085Z"
    }
   },
   "outputs": [],
   "source": [
    "# Import libraries\n",
    "import numpy as np\n",
    "import pandas as pd\n",
    "\n",
    "# Visualization\n",
    "import matplotlib.pyplot as plt\n",
    "import seaborn as sns\n",
    "sns.set_style('whitegrid')\n",
    "color = 'rebeccapurple'\n",
    "%matplotlib inline\n",
    "\n",
    "# Display settings\n",
    "from IPython.display import display\n",
    "pd.options.display.max_columns = 100"
   ]
  },
  {
   "cell_type": "code",
   "execution_count": 7,
   "metadata": {
    "ExecuteTime": {
     "end_time": "2019-03-18T20:51:55.570816Z",
     "start_time": "2019-03-18T20:51:55.352240Z"
    }
   },
   "outputs": [],
   "source": [
    "# Load data, eliminate NaN\n",
    "data = pd.read_csv('data/profile_clean.csv', index_col=0)\n",
    "data = data.loc[data['age'].notnull()]"
   ]
  },
  {
   "cell_type": "code",
   "execution_count": 8,
   "metadata": {
    "ExecuteTime": {
     "end_time": "2019-03-18T20:51:56.525630Z",
     "start_time": "2019-03-18T20:51:56.431855Z"
    }
   },
   "outputs": [
    {
     "data": {
      "text/html": [
       "<div>\n",
       "<style scoped>\n",
       "    .dataframe tbody tr th:only-of-type {\n",
       "        vertical-align: middle;\n",
       "    }\n",
       "\n",
       "    .dataframe tbody tr th {\n",
       "        vertical-align: top;\n",
       "    }\n",
       "\n",
       "    .dataframe thead th {\n",
       "        text-align: right;\n",
       "    }\n",
       "</style>\n",
       "<table border=\"1\" class=\"dataframe\">\n",
       "  <thead>\n",
       "    <tr style=\"text-align: right;\">\n",
       "      <th></th>\n",
       "      <th>age</th>\n",
       "      <th>gender</th>\n",
       "      <th>income</th>\n",
       "      <th>member_days</th>\n",
       "      <th>offer_received</th>\n",
       "      <th>offer_viewed</th>\n",
       "      <th>offer_completed</th>\n",
       "      <th>viewed_received</th>\n",
       "      <th>completed_viewed</th>\n",
       "      <th>total_trans</th>\n",
       "      <th>total_amount</th>\n",
       "      <th>total_reward</th>\n",
       "      <th>total_profit</th>\n",
       "      <th>prop_reward</th>\n",
       "      <th>total_mean_amount</th>\n",
       "      <th>np_trans</th>\n",
       "      <th>np_amount</th>\n",
       "      <th>np_mean_amount</th>\n",
       "      <th>prop_np_trans</th>\n",
       "      <th>prop_np_amount</th>\n",
       "    </tr>\n",
       "    <tr>\n",
       "      <th>person_id</th>\n",
       "      <th></th>\n",
       "      <th></th>\n",
       "      <th></th>\n",
       "      <th></th>\n",
       "      <th></th>\n",
       "      <th></th>\n",
       "      <th></th>\n",
       "      <th></th>\n",
       "      <th></th>\n",
       "      <th></th>\n",
       "      <th></th>\n",
       "      <th></th>\n",
       "      <th></th>\n",
       "      <th></th>\n",
       "      <th></th>\n",
       "      <th></th>\n",
       "      <th></th>\n",
       "      <th></th>\n",
       "      <th></th>\n",
       "      <th></th>\n",
       "    </tr>\n",
       "  </thead>\n",
       "  <tbody>\n",
       "    <tr>\n",
       "      <th>p_100</th>\n",
       "      <td>68.0</td>\n",
       "      <td>F</td>\n",
       "      <td>84000.0</td>\n",
       "      <td>-725</td>\n",
       "      <td>5.0</td>\n",
       "      <td>0.0</td>\n",
       "      <td>1.0</td>\n",
       "      <td>0.000000</td>\n",
       "      <td>0.0</td>\n",
       "      <td>2.0</td>\n",
       "      <td>34.04</td>\n",
       "      <td>2.0</td>\n",
       "      <td>32.04</td>\n",
       "      <td>0.058754</td>\n",
       "      <td>17.020000</td>\n",
       "      <td>2</td>\n",
       "      <td>34.04</td>\n",
       "      <td>17.020000</td>\n",
       "      <td>1.000000</td>\n",
       "      <td>1.000000</td>\n",
       "    </tr>\n",
       "    <tr>\n",
       "      <th>p_1000</th>\n",
       "      <td>67.0</td>\n",
       "      <td>M</td>\n",
       "      <td>44000.0</td>\n",
       "      <td>-225</td>\n",
       "      <td>4.0</td>\n",
       "      <td>4.0</td>\n",
       "      <td>0.0</td>\n",
       "      <td>1.000000</td>\n",
       "      <td>0.0</td>\n",
       "      <td>5.0</td>\n",
       "      <td>19.78</td>\n",
       "      <td>0.0</td>\n",
       "      <td>19.78</td>\n",
       "      <td>0.000000</td>\n",
       "      <td>3.956000</td>\n",
       "      <td>2</td>\n",
       "      <td>13.37</td>\n",
       "      <td>6.685000</td>\n",
       "      <td>0.400000</td>\n",
       "      <td>0.675935</td>\n",
       "    </tr>\n",
       "    <tr>\n",
       "      <th>p_10001</th>\n",
       "      <td>56.0</td>\n",
       "      <td>F</td>\n",
       "      <td>71000.0</td>\n",
       "      <td>-716</td>\n",
       "      <td>5.0</td>\n",
       "      <td>5.0</td>\n",
       "      <td>4.0</td>\n",
       "      <td>1.000000</td>\n",
       "      <td>4.0</td>\n",
       "      <td>17.0</td>\n",
       "      <td>289.20</td>\n",
       "      <td>19.0</td>\n",
       "      <td>270.20</td>\n",
       "      <td>0.065698</td>\n",
       "      <td>17.011765</td>\n",
       "      <td>13</td>\n",
       "      <td>228.10</td>\n",
       "      <td>17.546154</td>\n",
       "      <td>0.764706</td>\n",
       "      <td>0.788728</td>\n",
       "    </tr>\n",
       "    <tr>\n",
       "      <th>p_10002</th>\n",
       "      <td>69.0</td>\n",
       "      <td>M</td>\n",
       "      <td>62000.0</td>\n",
       "      <td>-977</td>\n",
       "      <td>2.0</td>\n",
       "      <td>0.0</td>\n",
       "      <td>1.0</td>\n",
       "      <td>0.000000</td>\n",
       "      <td>0.0</td>\n",
       "      <td>8.0</td>\n",
       "      <td>139.84</td>\n",
       "      <td>5.0</td>\n",
       "      <td>134.84</td>\n",
       "      <td>0.035755</td>\n",
       "      <td>17.480000</td>\n",
       "      <td>8</td>\n",
       "      <td>139.84</td>\n",
       "      <td>17.480000</td>\n",
       "      <td>1.000000</td>\n",
       "      <td>1.000000</td>\n",
       "    </tr>\n",
       "    <tr>\n",
       "      <th>p_10003</th>\n",
       "      <td>66.0</td>\n",
       "      <td>F</td>\n",
       "      <td>74000.0</td>\n",
       "      <td>-72</td>\n",
       "      <td>3.0</td>\n",
       "      <td>2.0</td>\n",
       "      <td>2.0</td>\n",
       "      <td>0.666667</td>\n",
       "      <td>2.0</td>\n",
       "      <td>3.0</td>\n",
       "      <td>58.96</td>\n",
       "      <td>12.0</td>\n",
       "      <td>46.96</td>\n",
       "      <td>0.203528</td>\n",
       "      <td>19.653333</td>\n",
       "      <td>1</td>\n",
       "      <td>14.91</td>\n",
       "      <td>14.910000</td>\n",
       "      <td>0.333333</td>\n",
       "      <td>0.252883</td>\n",
       "    </tr>\n",
       "  </tbody>\n",
       "</table>\n",
       "</div>"
      ],
      "text/plain": [
       "            age gender   income  member_days  offer_received  offer_viewed  \\\n",
       "person_id                                                                    \n",
       "p_100      68.0      F  84000.0         -725             5.0           0.0   \n",
       "p_1000     67.0      M  44000.0         -225             4.0           4.0   \n",
       "p_10001    56.0      F  71000.0         -716             5.0           5.0   \n",
       "p_10002    69.0      M  62000.0         -977             2.0           0.0   \n",
       "p_10003    66.0      F  74000.0          -72             3.0           2.0   \n",
       "\n",
       "           offer_completed  viewed_received  completed_viewed  total_trans  \\\n",
       "person_id                                                                    \n",
       "p_100                  1.0         0.000000               0.0          2.0   \n",
       "p_1000                 0.0         1.000000               0.0          5.0   \n",
       "p_10001                4.0         1.000000               4.0         17.0   \n",
       "p_10002                1.0         0.000000               0.0          8.0   \n",
       "p_10003                2.0         0.666667               2.0          3.0   \n",
       "\n",
       "           total_amount  total_reward  total_profit  prop_reward  \\\n",
       "person_id                                                          \n",
       "p_100             34.04           2.0         32.04     0.058754   \n",
       "p_1000            19.78           0.0         19.78     0.000000   \n",
       "p_10001          289.20          19.0        270.20     0.065698   \n",
       "p_10002          139.84           5.0        134.84     0.035755   \n",
       "p_10003           58.96          12.0         46.96     0.203528   \n",
       "\n",
       "           total_mean_amount  np_trans  np_amount  np_mean_amount  \\\n",
       "person_id                                                           \n",
       "p_100              17.020000         2      34.04       17.020000   \n",
       "p_1000              3.956000         2      13.37        6.685000   \n",
       "p_10001            17.011765        13     228.10       17.546154   \n",
       "p_10002            17.480000         8     139.84       17.480000   \n",
       "p_10003            19.653333         1      14.91       14.910000   \n",
       "\n",
       "           prop_np_trans  prop_np_amount  \n",
       "person_id                                 \n",
       "p_100           1.000000        1.000000  \n",
       "p_1000          0.400000        0.675935  \n",
       "p_10001         0.764706        0.788728  \n",
       "p_10002         1.000000        1.000000  \n",
       "p_10003         0.333333        0.252883  "
      ]
     },
     "execution_count": 8,
     "metadata": {},
     "output_type": "execute_result"
    }
   ],
   "source": [
    "data.head()"
   ]
  },
  {
   "cell_type": "code",
   "execution_count": 10,
   "metadata": {
    "ExecuteTime": {
     "end_time": "2019-03-18T20:53:43.974273Z",
     "start_time": "2019-03-18T20:53:43.922368Z"
    }
   },
   "outputs": [],
   "source": [
    "# Calculate quantile values for age column\n",
    "quantile_list = [0, .25, .5, .75, 1.]\n",
    "quantiles = data['age'].quantile(quantile_list)"
   ]
  },
  {
   "cell_type": "code",
   "execution_count": 11,
   "metadata": {
    "ExecuteTime": {
     "end_time": "2019-03-18T20:53:45.230669Z",
     "start_time": "2019-03-18T20:53:45.183918Z"
    }
   },
   "outputs": [
    {
     "data": {
      "text/plain": [
       "0.00     18.0\n",
       "0.25     42.0\n",
       "0.50     55.0\n",
       "0.75     66.0\n",
       "1.00    101.0\n",
       "Name: age, dtype: float64"
      ]
     },
     "execution_count": 11,
     "metadata": {},
     "output_type": "execute_result"
    }
   ],
   "source": [
    "# Check results\n",
    "quantiles"
   ]
  },
  {
   "cell_type": "code",
   "execution_count": 17,
   "metadata": {
    "ExecuteTime": {
     "end_time": "2019-03-18T20:56:14.153882Z",
     "start_time": "2019-03-18T20:56:13.550268Z"
    }
   },
   "outputs": [
    {
     "data": {
      "image/png": "[encoded data removed]",
      "text/plain": [
       "<Figure size 864x576 with 1 Axes>"
      ]
     },
     "metadata": {
      "needs_background": "light"
     },
     "output_type": "display_data"
    }
   ],
   "source": [
    "# Visualize hist with quantile markings\n",
    "fig, ax = plt.subplots(figsize=(12,8))\n",
    "data['age'].hist(bins=30, color='yellow', edgecolor='grey', grid=False)\n",
    "for quantile in quantiles:\n",
    "    qvl = plt.axvline(quantile, color='rebeccapurple', linewidth=2.0)\n",
    "\n",
    "ax.legend([qvl], ['Quantiles'], fontsize=10)\n",
    "ax.set_title('Age Distribution with Quantiles', fontsize=12)\n",
    "ax.set_xlabel('Age', fontsize=12)\n",
    "ax.set_ylabel('Frequency', fontsize=12);"
   ]
  },
  {
   "cell_type": "markdown",
   "metadata": {},
   "source": [
    "---"
   ]
  }
 ],
 "metadata": {
  "hide_input": false,
  "kernelspec": {
   "display_name": "Python [conda env:Anaconda3]",
   "language": "python",
   "name": "conda-env-Anaconda3-py"
  },
  "language_info": {
   "codemirror_mode": {
    "name": "ipython",
    "version": 3
   },
   "file_extension": ".py",
   "mimetype": "text/x-python",
   "name": "python",
   "nbconvert_exporter": "python",
   "pygments_lexer": "ipython3",
   "version": "3.6.3"
  },
  "toc": {
   "base_numbering": 1,
   "nav_menu": {},
   "number_sections": true,
   "sideBar": true,
   "skip_h1_title": false,
   "title_cell": "Table of Contents",
   "title_sidebar": "Contents",
   "toc_cell": false,
   "toc_position": {},
   "toc_section_display": true,
   "toc_window_display": false
  },
  "varInspector": {
   "cols": {
    "lenName": 16,
    "lenType": 16,
    "lenVar": 40
   },
   "kernels_config": {
    "python": {
     "delete_cmd_postfix": "",
     "delete_cmd_prefix": "del ",
     "library": "var_list.py",
     "varRefreshCmd": "print(var_dic_list())"
    },
    "r": {
     "delete_cmd_postfix": ") ",
     "delete_cmd_prefix": "rm(",
     "library": "var_list.r",
     "varRefreshCmd": "cat(var_dic_list()) "
    }
   },
   "types_to_exclude": [
    "module",
    "function",
    "builtin_function_or_method",
    "instance",
    "_Feature"
   ],
   "window_display": false
  }
 },
 "nbformat": 4,
 "nbformat_minor": 2
}
